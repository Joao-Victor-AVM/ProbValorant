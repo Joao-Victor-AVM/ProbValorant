{
  "nbformat": 4,
  "nbformat_minor": 0,
  "metadata": {
    "colab": {
      "provenance": [],
      "collapsed_sections": [
        "NKJchq1Qmsp1"
      ],
      "authorship_tag": "ABX9TyPdUJ8vPYSNPK6Wrb0oAVOI",
      "include_colab_link": true
    },
    "kernelspec": {
      "name": "python3",
      "display_name": "Python 3"
    },
    "language_info": {
      "name": "python"
    }
  },
  "cells": [
    {
      "cell_type": "markdown",
      "metadata": {
        "id": "view-in-github",
        "colab_type": "text"
      },
      "source": [
        "<a href=\"https://colab.research.google.com/github/Joao-Victor-AVM/ProbValorant/blob/main/ValorantProb.ipynb\" target=\"_parent\"><img src=\"https://colab.research.google.com/assets/colab-badge.svg\" alt=\"Open In Colab\"/></a>"
      ]
    },
    {
      "cell_type": "markdown",
      "source": [
        "##**Valorant - Apresentação dos Dados**\n",
        "\n",
        "**Data Dictionary**\n",
        "\n",
        "| Variable | Definition                                 | Key                                            | Notes                                                                                                                                       |\n",
        "|----------|--------------------------------------------|------------------------------------------------|---------------------------------------------------------------------------------------------------------------------------------------------|\n",
        "|  |                                    | |                                                                                                                                             |\n",
        "| name   | Name                              | Númerico                      | Nome dos agentes númerico de 0 até 19, em ordem alfabética                                                                |\n",
        "| game_type      | Game Type                                       | Númerico                                              | tipos de jogo de 0 até 6, em ordem alfabética                                                                                                                                    |\n",
        "| map      | Map                              |Númerico                                              | mapas são númerados de 0 até 8                                                        |\n",
        "| game_rank    | Game Rank| Númerico                                          | Rank númerado de 0 até 25 (Unrated - Radiante), em ordem afabética                       |\n",
        "|    ||                                                |  |\n",
        "|    |                              |                                                |                                                                                                                                             |\n",
        "|      |                              |                                                |                                                                                                                                             |\n",
        "|     |                               |                                                |                                                                                                                                             |\n",
        "|  |                         |  |                                                                                                                                             |"
      ],
      "metadata": {
        "id": "NKJchq1Qmsp1"
      }
    },
    {
      "cell_type": "markdown",
      "source": [
        "##**O que é Valorant?**"
      ],
      "metadata": {
        "id": "DRb5ze_4cmEk"
      }
    },
    {
      "cell_type": "markdown",
      "source": [
        "Valorant é um jogo de tiro em primeira pessoa tático de 5x5 que se utiliza de personagens (agentes). É uma melhor de 25 (vence quem vencer 13 rodadas). Para se vencer uma rodada, a equipe atacante deve plantar a bomba e esperar que ela exploda; a equipe defensora deve impedir que a bomba seja plantada ou desarmar a bomba antes que exploda. A cada 12 rounds as posições são trocadas (atacantes viram defensores e vice-versa). Cada jogador só tem uma vida por round. Para se eliminar inimigos são utilizadas as armas que podem se compradas a cada começo de round.\n",
        "\n",
        "Diferente de outros jogos, Valorant não possui granadas ou ferramentas. Essa tarefa fica a cargo dos agentes, personagens selecionáveis antes da partida começar. Cada agente possui 4 habilidades: uma padrão(não precisa ser comprada), duas que tem que ser compradas na loja junto com as armas e a ultimate que carrega conforme o desempenho da partida e a cada round. Cada agente tem um conjunto de habilidades únicos que funcionam melhor em diferentes mapas."
      ],
      "metadata": {
        "id": "FpEaySgycsny"
      }
    },
    {
      "cell_type": "code",
      "execution_count": null,
      "metadata": {
        "id": "3_EruKynxCUK"
      },
      "outputs": [],
      "source": [
        "import numpy as np\n",
        "import pandas as pd\n",
        "import matplotlib.pyplot as plt\n",
        "import plotly.express as px\n",
        "import seaborn as sns\n",
        "\n",
        "from sklearn import preprocessing\n",
        "from numpy.random import seed, randint\n",
        "from numpy import mean\n",
        "from matplotlib import pyplot as plt\n",
        "\n",
        "from google.colab import drive"
      ]
    },
    {
      "cell_type": "code",
      "source": [
        "drive.mount('/content/gdrive')"
      ],
      "metadata": {
        "colab": {
          "base_uri": "https://localhost:8080/"
        },
        "id": "MI5yYfJ27jTi",
        "outputId": "1a76ff87-49d2-45c3-fa0f-ebf7b5cc1752"
      },
      "execution_count": null,
      "outputs": [
        {
          "output_type": "stream",
          "name": "stdout",
          "text": [
            "Drive already mounted at /content/gdrive; to attempt to forcibly remount, call drive.mount(\"/content/gdrive\", force_remount=True).\n"
          ]
        }
      ]
    },
    {
      "cell_type": "code",
      "source": [
        "valorant = pd.read_csv('/content/gdrive/MyDrive/Colab Notebooks/agents_abilities_stat.csv')"
      ],
      "metadata": {
        "id": "VvrA5Apr7von"
      },
      "execution_count": null,
      "outputs": []
    },
    {
      "cell_type": "code",
      "source": [
        "valorant.head() #exemplo dataset original"
      ],
      "metadata": {
        "colab": {
          "base_uri": "https://localhost:8080/",
          "height": 206
        },
        "id": "T7fffUgB716L",
        "outputId": "4b0c57af-becb-4cc5-f2f9-b50ff94eb186"
      },
      "execution_count": null,
      "outputs": [
        {
          "output_type": "execute_result",
          "data": {
            "text/plain": [
              "   Rank     Name    Game Type       Map Game Rank  1st Ability  2nd Ability  \\\n",
              "0     1   Breach  replication  fracture       NaN          8.5          6.3   \n",
              "1     2  Chamber  replication  fracture       NaN          3.2          6.8   \n",
              "2     3     Sage  replication  fracture       NaN          2.0          1.1   \n",
              "3     4     Raze  replication  fracture       NaN          8.5          6.4   \n",
              "4     5  Killjoy  replication  fracture       NaN          4.7          3.8   \n",
              "\n",
              "   3rd Ability  Ultimate Matches  \n",
              "0          4.0       0.9      20  \n",
              "1          6.0       1.8       5  \n",
              "2          2.1       0.1      30  \n",
              "3          6.1       1.1      65  \n",
              "4          9.2       1.2      60  "
            ],
            "text/html": [
              "\n",
              "  <div id=\"df-2f4b643c-72ae-41fa-91c3-6aee99a38477\">\n",
              "    <div class=\"colab-df-container\">\n",
              "      <div>\n",
              "<style scoped>\n",
              "    .dataframe tbody tr th:only-of-type {\n",
              "        vertical-align: middle;\n",
              "    }\n",
              "\n",
              "    .dataframe tbody tr th {\n",
              "        vertical-align: top;\n",
              "    }\n",
              "\n",
              "    .dataframe thead th {\n",
              "        text-align: right;\n",
              "    }\n",
              "</style>\n",
              "<table border=\"1\" class=\"dataframe\">\n",
              "  <thead>\n",
              "    <tr style=\"text-align: right;\">\n",
              "      <th></th>\n",
              "      <th>Rank</th>\n",
              "      <th>Name</th>\n",
              "      <th>Game Type</th>\n",
              "      <th>Map</th>\n",
              "      <th>Game Rank</th>\n",
              "      <th>1st Ability</th>\n",
              "      <th>2nd Ability</th>\n",
              "      <th>3rd Ability</th>\n",
              "      <th>Ultimate</th>\n",
              "      <th>Matches</th>\n",
              "    </tr>\n",
              "  </thead>\n",
              "  <tbody>\n",
              "    <tr>\n",
              "      <th>0</th>\n",
              "      <td>1</td>\n",
              "      <td>Breach</td>\n",
              "      <td>replication</td>\n",
              "      <td>fracture</td>\n",
              "      <td>NaN</td>\n",
              "      <td>8.5</td>\n",
              "      <td>6.3</td>\n",
              "      <td>4.0</td>\n",
              "      <td>0.9</td>\n",
              "      <td>20</td>\n",
              "    </tr>\n",
              "    <tr>\n",
              "      <th>1</th>\n",
              "      <td>2</td>\n",
              "      <td>Chamber</td>\n",
              "      <td>replication</td>\n",
              "      <td>fracture</td>\n",
              "      <td>NaN</td>\n",
              "      <td>3.2</td>\n",
              "      <td>6.8</td>\n",
              "      <td>6.0</td>\n",
              "      <td>1.8</td>\n",
              "      <td>5</td>\n",
              "    </tr>\n",
              "    <tr>\n",
              "      <th>2</th>\n",
              "      <td>3</td>\n",
              "      <td>Sage</td>\n",
              "      <td>replication</td>\n",
              "      <td>fracture</td>\n",
              "      <td>NaN</td>\n",
              "      <td>2.0</td>\n",
              "      <td>1.1</td>\n",
              "      <td>2.1</td>\n",
              "      <td>0.1</td>\n",
              "      <td>30</td>\n",
              "    </tr>\n",
              "    <tr>\n",
              "      <th>3</th>\n",
              "      <td>4</td>\n",
              "      <td>Raze</td>\n",
              "      <td>replication</td>\n",
              "      <td>fracture</td>\n",
              "      <td>NaN</td>\n",
              "      <td>8.5</td>\n",
              "      <td>6.4</td>\n",
              "      <td>6.1</td>\n",
              "      <td>1.1</td>\n",
              "      <td>65</td>\n",
              "    </tr>\n",
              "    <tr>\n",
              "      <th>4</th>\n",
              "      <td>5</td>\n",
              "      <td>Killjoy</td>\n",
              "      <td>replication</td>\n",
              "      <td>fracture</td>\n",
              "      <td>NaN</td>\n",
              "      <td>4.7</td>\n",
              "      <td>3.8</td>\n",
              "      <td>9.2</td>\n",
              "      <td>1.2</td>\n",
              "      <td>60</td>\n",
              "    </tr>\n",
              "  </tbody>\n",
              "</table>\n",
              "</div>\n",
              "      <button class=\"colab-df-convert\" onclick=\"convertToInteractive('df-2f4b643c-72ae-41fa-91c3-6aee99a38477')\"\n",
              "              title=\"Convert this dataframe to an interactive table.\"\n",
              "              style=\"display:none;\">\n",
              "        \n",
              "  <svg xmlns=\"http://www.w3.org/2000/svg\" height=\"24px\"viewBox=\"0 0 24 24\"\n",
              "       width=\"24px\">\n",
              "    <path d=\"M0 0h24v24H0V0z\" fill=\"none\"/>\n",
              "    <path d=\"M18.56 5.44l.94 2.06.94-2.06 2.06-.94-2.06-.94-.94-2.06-.94 2.06-2.06.94zm-11 1L8.5 8.5l.94-2.06 2.06-.94-2.06-.94L8.5 2.5l-.94 2.06-2.06.94zm10 10l.94 2.06.94-2.06 2.06-.94-2.06-.94-.94-2.06-.94 2.06-2.06.94z\"/><path d=\"M17.41 7.96l-1.37-1.37c-.4-.4-.92-.59-1.43-.59-.52 0-1.04.2-1.43.59L10.3 9.45l-7.72 7.72c-.78.78-.78 2.05 0 2.83L4 21.41c.39.39.9.59 1.41.59.51 0 1.02-.2 1.41-.59l7.78-7.78 2.81-2.81c.8-.78.8-2.07 0-2.86zM5.41 20L4 18.59l7.72-7.72 1.47 1.35L5.41 20z\"/>\n",
              "  </svg>\n",
              "      </button>\n",
              "      \n",
              "  <style>\n",
              "    .colab-df-container {\n",
              "      display:flex;\n",
              "      flex-wrap:wrap;\n",
              "      gap: 12px;\n",
              "    }\n",
              "\n",
              "    .colab-df-convert {\n",
              "      background-color: #E8F0FE;\n",
              "      border: none;\n",
              "      border-radius: 50%;\n",
              "      cursor: pointer;\n",
              "      display: none;\n",
              "      fill: #1967D2;\n",
              "      height: 32px;\n",
              "      padding: 0 0 0 0;\n",
              "      width: 32px;\n",
              "    }\n",
              "\n",
              "    .colab-df-convert:hover {\n",
              "      background-color: #E2EBFA;\n",
              "      box-shadow: 0px 1px 2px rgba(60, 64, 67, 0.3), 0px 1px 3px 1px rgba(60, 64, 67, 0.15);\n",
              "      fill: #174EA6;\n",
              "    }\n",
              "\n",
              "    [theme=dark] .colab-df-convert {\n",
              "      background-color: #3B4455;\n",
              "      fill: #D2E3FC;\n",
              "    }\n",
              "\n",
              "    [theme=dark] .colab-df-convert:hover {\n",
              "      background-color: #434B5C;\n",
              "      box-shadow: 0px 1px 3px 1px rgba(0, 0, 0, 0.15);\n",
              "      filter: drop-shadow(0px 1px 2px rgba(0, 0, 0, 0.3));\n",
              "      fill: #FFFFFF;\n",
              "    }\n",
              "  </style>\n",
              "\n",
              "      <script>\n",
              "        const buttonEl =\n",
              "          document.querySelector('#df-2f4b643c-72ae-41fa-91c3-6aee99a38477 button.colab-df-convert');\n",
              "        buttonEl.style.display =\n",
              "          google.colab.kernel.accessAllowed ? 'block' : 'none';\n",
              "\n",
              "        async function convertToInteractive(key) {\n",
              "          const element = document.querySelector('#df-2f4b643c-72ae-41fa-91c3-6aee99a38477');\n",
              "          const dataTable =\n",
              "            await google.colab.kernel.invokeFunction('convertToInteractive',\n",
              "                                                     [key], {});\n",
              "          if (!dataTable) return;\n",
              "\n",
              "          const docLinkHtml = 'Like what you see? Visit the ' +\n",
              "            '<a target=\"_blank\" href=https://colab.research.google.com/notebooks/data_table.ipynb>data table notebook</a>'\n",
              "            + ' to learn more about interactive tables.';\n",
              "          element.innerHTML = '';\n",
              "          dataTable['output_type'] = 'display_data';\n",
              "          await google.colab.output.renderOutput(dataTable, element);\n",
              "          const docLink = document.createElement('div');\n",
              "          docLink.innerHTML = docLinkHtml;\n",
              "          element.appendChild(docLink);\n",
              "        }\n",
              "      </script>\n",
              "    </div>\n",
              "  </div>\n",
              "  "
            ]
          },
          "metadata": {},
          "execution_count": 81
        }
      ]
    },
    {
      "cell_type": "code",
      "source": [
        "valorant.info()"
      ],
      "metadata": {
        "colab": {
          "base_uri": "https://localhost:8080/"
        },
        "id": "UMFJSTQYNVmf",
        "outputId": "dbc25f36-eb04-4d7a-cba6-4e3267a4f61f"
      },
      "execution_count": null,
      "outputs": [
        {
          "output_type": "stream",
          "name": "stdout",
          "text": [
            "<class 'pandas.core.frame.DataFrame'>\n",
            "RangeIndex: 5413 entries, 0 to 5412\n",
            "Data columns (total 10 columns):\n",
            " #   Column       Non-Null Count  Dtype  \n",
            "---  ------       --------------  -----  \n",
            " 0   Rank         5413 non-null   int64  \n",
            " 1   Name         5413 non-null   object \n",
            " 2   Game Type    5413 non-null   object \n",
            " 3   Map          5413 non-null   object \n",
            " 4   Game Rank    4155 non-null   object \n",
            " 5   1st Ability  5413 non-null   float64\n",
            " 6   2nd Ability  5413 non-null   float64\n",
            " 7   3rd Ability  5413 non-null   float64\n",
            " 8   Ultimate     5413 non-null   float64\n",
            " 9   Matches      5413 non-null   object \n",
            "dtypes: float64(4), int64(1), object(5)\n",
            "memory usage: 423.0+ KB\n"
          ]
        }
      ]
    },
    {
      "cell_type": "code",
      "source": [
        "valorant.drop(['Matches', '1st Ability', '2nd Ability', '3rd Ability', 'Ultimate', 'Rank'], axis=1, inplace=True)#Removendo Colunas Desnecessárias"
      ],
      "metadata": {
        "id": "S6cULs2HS2bG"
      },
      "execution_count": null,
      "outputs": []
    },
    {
      "cell_type": "code",
      "source": [
        "valorant.fillna(\"Unrated\", inplace=True)#Preenchendo Nulos"
      ],
      "metadata": {
        "id": "YtRaoWfHTBHd"
      },
      "execution_count": null,
      "outputs": []
    },
    {
      "cell_type": "code",
      "source": [
        "#Apagando linhas com all e overall\n",
        "i = 47\n",
        "while i<=65:\n",
        "  valorant.drop(index = i, inplace = True)\n",
        "  i = i + 1\n",
        "\n",
        "i = 198\n",
        "while i<=217:\n",
        "  valorant.drop(index = i, inplace = True)\n",
        "  i = i + 1\n",
        "\n",
        "i = 378\n",
        "while i<=397:\n",
        "  valorant.drop(index = i, inplace = True)\n",
        "  i = i + 1\n",
        "\n",
        "i = 458\n",
        "while i<=657:\n",
        "  valorant.drop(index = i, inplace = True)\n",
        "  i = i + 1\n",
        "\n",
        "i = 778\n",
        "while i<=797:\n",
        "  valorant.drop(index = i, inplace = True)\n",
        "  i = i + 1\n",
        "\n",
        "i = 978\n",
        "while i<=997:\n",
        "  valorant.drop(index = i, inplace = True)\n",
        "  i = i + 1\n",
        "\n",
        "i = 1178\n",
        "while i<=1197:\n",
        "  valorant.drop(index = i, inplace = True)\n",
        "  i = i + 1\n",
        "\n",
        "i = 1358\n",
        "while i<=1377:\n",
        "  valorant.drop(index = i, inplace = True)\n",
        "  i = i + 1\n",
        "\n",
        "i = 1518\n",
        "while i<=1537:\n",
        "  valorant.drop(index = i, inplace = True)\n",
        "  i = i + 1\n",
        "\n",
        "i = 1678\n",
        "while i<=1697:\n",
        "  valorant.drop(index = i, inplace = True)\n",
        "  i = i + 1\n",
        "\n",
        "i = 1838\n",
        "while i<=1857:\n",
        "  valorant.drop(index = i, inplace = True)\n",
        "  i = i + 1\n",
        "\n",
        "i = 1978\n",
        "while i<=1997:\n",
        "  valorant.drop(index = i, inplace = True)\n",
        "  i = i + 1\n",
        "\n",
        "i = 2138\n",
        "while i<=2157:\n",
        "  valorant.drop(index = i, inplace = True)\n",
        "  i = i + 1\n",
        "\n",
        "i = 2298\n",
        "while i<=2317:\n",
        "  valorant.drop(index = i, inplace = True)\n",
        "  i = i + 1\n",
        "\n",
        "i = 2458\n",
        "while i<=2477:\n",
        "  valorant.drop(index = i, inplace = True)\n",
        "  i = i + 1\n",
        "\n",
        "i = 2618\n",
        "while i<=2637:\n",
        "  valorant.drop(index = i, inplace = True)\n",
        "  i = i + 1\n",
        "\n",
        "i = 2778\n",
        "while i<=2797:\n",
        "  valorant.drop(index = i, inplace = True)\n",
        "  i = i + 1\n",
        "\n",
        "i = 2938\n",
        "while i<=2957:\n",
        "  valorant.drop(index = i, inplace = True)\n",
        "  i = i + 1\n",
        "\n",
        "i = 3098\n",
        "while i<=3117:\n",
        "  valorant.drop(index = i, inplace = True)\n",
        "  i = i + 1\n",
        "\n",
        "i = 3258\n",
        "while i<=3277:\n",
        "  valorant.drop(index = i, inplace = True)\n",
        "  i = i + 1\n",
        "\n",
        "i = 3418\n",
        "while i<=3437:\n",
        "  valorant.drop(index = i, inplace = True)\n",
        "  i = i + 1\n",
        "\n",
        "i = 3578\n",
        "while i<=3597:\n",
        "  valorant.drop(index = i, inplace = True)\n",
        "  i = i + 1\n",
        "\n",
        "i = 3738\n",
        "while i<=3757:\n",
        "  valorant.drop(index = i, inplace = True)\n",
        "  i = i + 1\n",
        "\n",
        "i = 3898\n",
        "while i<=3917:\n",
        "  valorant.drop(index = i, inplace = True)\n",
        "  i = i + 1\n",
        "\n",
        "i = 4058\n",
        "while i<=4077:\n",
        "  valorant.drop(index = i, inplace = True)\n",
        "  i = i + 1\n",
        "\n",
        "i = 4218\n",
        "while i<=4237:\n",
        "  valorant.drop(index = i, inplace = True)\n",
        "  i = i + 1\n",
        "\n",
        "i = 4378\n",
        "while i<=4397:\n",
        "  valorant.drop(index = i, inplace = True)\n",
        "  i = i + 1\n",
        "\n",
        "i = 4518\n",
        "while i<=4537:\n",
        "  valorant.drop(index = i, inplace = True)\n",
        "  i = i + 1\n",
        "\n",
        "i = 4678\n",
        "while i<=4697:\n",
        "  valorant.drop(index = i, inplace = True)\n",
        "  i = i + 1\n",
        "\n",
        "i = 4838\n",
        "while i<=4857:\n",
        "  valorant.drop(index = i, inplace = True)\n",
        "  i = i + 1\n",
        "\n",
        "i = 4998\n",
        "while i<=5017:\n",
        "  valorant.drop(index = i, inplace = True)\n",
        "  i = i + 1\n",
        "\n",
        "i = 5158\n",
        "while i<=5177:\n",
        "  valorant.drop(index = i, inplace = True)\n",
        "  i = i + 1\n",
        "\n",
        "i = 5314\n",
        "while i<=5333:\n",
        "  valorant.drop(index = i, inplace = True)\n",
        "  i = i + 1"
      ],
      "metadata": {
        "id": "341-8ukRPwRQ"
      },
      "execution_count": null,
      "outputs": []
    },
    {
      "cell_type": "code",
      "source": [
        "valorant.head()#Dataset após Tratamento de Dados"
      ],
      "metadata": {
        "id": "EIiUHw8XTKQM",
        "colab": {
          "base_uri": "https://localhost:8080/",
          "height": 206
        },
        "outputId": "94a2a1a7-a85e-473f-912a-25e3f29fe299"
      },
      "execution_count": null,
      "outputs": [
        {
          "output_type": "execute_result",
          "data": {
            "text/plain": [
              "      Name    Game Type       Map Game Rank\n",
              "0   Breach  replication  fracture   Unrated\n",
              "1  Chamber  replication  fracture   Unrated\n",
              "2     Sage  replication  fracture   Unrated\n",
              "3     Raze  replication  fracture   Unrated\n",
              "4  Killjoy  replication  fracture   Unrated"
            ],
            "text/html": [
              "\n",
              "  <div id=\"df-70b15584-9fe9-4090-ba1f-2dc7b8900867\">\n",
              "    <div class=\"colab-df-container\">\n",
              "      <div>\n",
              "<style scoped>\n",
              "    .dataframe tbody tr th:only-of-type {\n",
              "        vertical-align: middle;\n",
              "    }\n",
              "\n",
              "    .dataframe tbody tr th {\n",
              "        vertical-align: top;\n",
              "    }\n",
              "\n",
              "    .dataframe thead th {\n",
              "        text-align: right;\n",
              "    }\n",
              "</style>\n",
              "<table border=\"1\" class=\"dataframe\">\n",
              "  <thead>\n",
              "    <tr style=\"text-align: right;\">\n",
              "      <th></th>\n",
              "      <th>Name</th>\n",
              "      <th>Game Type</th>\n",
              "      <th>Map</th>\n",
              "      <th>Game Rank</th>\n",
              "    </tr>\n",
              "  </thead>\n",
              "  <tbody>\n",
              "    <tr>\n",
              "      <th>0</th>\n",
              "      <td>Breach</td>\n",
              "      <td>replication</td>\n",
              "      <td>fracture</td>\n",
              "      <td>Unrated</td>\n",
              "    </tr>\n",
              "    <tr>\n",
              "      <th>1</th>\n",
              "      <td>Chamber</td>\n",
              "      <td>replication</td>\n",
              "      <td>fracture</td>\n",
              "      <td>Unrated</td>\n",
              "    </tr>\n",
              "    <tr>\n",
              "      <th>2</th>\n",
              "      <td>Sage</td>\n",
              "      <td>replication</td>\n",
              "      <td>fracture</td>\n",
              "      <td>Unrated</td>\n",
              "    </tr>\n",
              "    <tr>\n",
              "      <th>3</th>\n",
              "      <td>Raze</td>\n",
              "      <td>replication</td>\n",
              "      <td>fracture</td>\n",
              "      <td>Unrated</td>\n",
              "    </tr>\n",
              "    <tr>\n",
              "      <th>4</th>\n",
              "      <td>Killjoy</td>\n",
              "      <td>replication</td>\n",
              "      <td>fracture</td>\n",
              "      <td>Unrated</td>\n",
              "    </tr>\n",
              "  </tbody>\n",
              "</table>\n",
              "</div>\n",
              "      <button class=\"colab-df-convert\" onclick=\"convertToInteractive('df-70b15584-9fe9-4090-ba1f-2dc7b8900867')\"\n",
              "              title=\"Convert this dataframe to an interactive table.\"\n",
              "              style=\"display:none;\">\n",
              "        \n",
              "  <svg xmlns=\"http://www.w3.org/2000/svg\" height=\"24px\"viewBox=\"0 0 24 24\"\n",
              "       width=\"24px\">\n",
              "    <path d=\"M0 0h24v24H0V0z\" fill=\"none\"/>\n",
              "    <path d=\"M18.56 5.44l.94 2.06.94-2.06 2.06-.94-2.06-.94-.94-2.06-.94 2.06-2.06.94zm-11 1L8.5 8.5l.94-2.06 2.06-.94-2.06-.94L8.5 2.5l-.94 2.06-2.06.94zm10 10l.94 2.06.94-2.06 2.06-.94-2.06-.94-.94-2.06-.94 2.06-2.06.94z\"/><path d=\"M17.41 7.96l-1.37-1.37c-.4-.4-.92-.59-1.43-.59-.52 0-1.04.2-1.43.59L10.3 9.45l-7.72 7.72c-.78.78-.78 2.05 0 2.83L4 21.41c.39.39.9.59 1.41.59.51 0 1.02-.2 1.41-.59l7.78-7.78 2.81-2.81c.8-.78.8-2.07 0-2.86zM5.41 20L4 18.59l7.72-7.72 1.47 1.35L5.41 20z\"/>\n",
              "  </svg>\n",
              "      </button>\n",
              "      \n",
              "  <style>\n",
              "    .colab-df-container {\n",
              "      display:flex;\n",
              "      flex-wrap:wrap;\n",
              "      gap: 12px;\n",
              "    }\n",
              "\n",
              "    .colab-df-convert {\n",
              "      background-color: #E8F0FE;\n",
              "      border: none;\n",
              "      border-radius: 50%;\n",
              "      cursor: pointer;\n",
              "      display: none;\n",
              "      fill: #1967D2;\n",
              "      height: 32px;\n",
              "      padding: 0 0 0 0;\n",
              "      width: 32px;\n",
              "    }\n",
              "\n",
              "    .colab-df-convert:hover {\n",
              "      background-color: #E2EBFA;\n",
              "      box-shadow: 0px 1px 2px rgba(60, 64, 67, 0.3), 0px 1px 3px 1px rgba(60, 64, 67, 0.15);\n",
              "      fill: #174EA6;\n",
              "    }\n",
              "\n",
              "    [theme=dark] .colab-df-convert {\n",
              "      background-color: #3B4455;\n",
              "      fill: #D2E3FC;\n",
              "    }\n",
              "\n",
              "    [theme=dark] .colab-df-convert:hover {\n",
              "      background-color: #434B5C;\n",
              "      box-shadow: 0px 1px 3px 1px rgba(0, 0, 0, 0.15);\n",
              "      filter: drop-shadow(0px 1px 2px rgba(0, 0, 0, 0.3));\n",
              "      fill: #FFFFFF;\n",
              "    }\n",
              "  </style>\n",
              "\n",
              "      <script>\n",
              "        const buttonEl =\n",
              "          document.querySelector('#df-70b15584-9fe9-4090-ba1f-2dc7b8900867 button.colab-df-convert');\n",
              "        buttonEl.style.display =\n",
              "          google.colab.kernel.accessAllowed ? 'block' : 'none';\n",
              "\n",
              "        async function convertToInteractive(key) {\n",
              "          const element = document.querySelector('#df-70b15584-9fe9-4090-ba1f-2dc7b8900867');\n",
              "          const dataTable =\n",
              "            await google.colab.kernel.invokeFunction('convertToInteractive',\n",
              "                                                     [key], {});\n",
              "          if (!dataTable) return;\n",
              "\n",
              "          const docLinkHtml = 'Like what you see? Visit the ' +\n",
              "            '<a target=\"_blank\" href=https://colab.research.google.com/notebooks/data_table.ipynb>data table notebook</a>'\n",
              "            + ' to learn more about interactive tables.';\n",
              "          element.innerHTML = '';\n",
              "          dataTable['output_type'] = 'display_data';\n",
              "          await google.colab.output.renderOutput(dataTable, element);\n",
              "          const docLink = document.createElement('div');\n",
              "          docLink.innerHTML = docLinkHtml;\n",
              "          element.appendChild(docLink);\n",
              "        }\n",
              "      </script>\n",
              "    </div>\n",
              "  </div>\n",
              "  "
            ]
          },
          "metadata": {},
          "execution_count": 86
        }
      ]
    },
    {
      "cell_type": "code",
      "source": [
        "le = preprocessing.LabelEncoder()\n",
        "valorant['Game Type'] = le.fit_transform(valorant['Game Type'])"
      ],
      "metadata": {
        "id": "6xHxomPOUMoM"
      },
      "execution_count": null,
      "outputs": []
    },
    {
      "cell_type": "code",
      "source": [
        "le = preprocessing.LabelEncoder()\n",
        "valorant['Name'] = le.fit_transform(valorant['Name'])"
      ],
      "metadata": {
        "id": "vK-mKN9so-Vm"
      },
      "execution_count": null,
      "outputs": []
    },
    {
      "cell_type": "code",
      "source": [
        "le = preprocessing.LabelEncoder()\n",
        "valorant['Map'] = le.fit_transform(valorant['Map'])"
      ],
      "metadata": {
        "id": "JFOi45bSy7EL"
      },
      "execution_count": null,
      "outputs": []
    },
    {
      "cell_type": "code",
      "source": [
        "le = preprocessing.LabelEncoder()\n",
        "valorant['Game Rank'] = le.fit_transform(valorant['Game Rank'])"
      ],
      "metadata": {
        "id": "Htcmdbb711A_"
      },
      "execution_count": null,
      "outputs": []
    },
    {
      "cell_type": "code",
      "source": [
        "valorant.head() #Após numerização das colunas"
      ],
      "metadata": {
        "id": "DIJ7qvGm41QK",
        "colab": {
          "base_uri": "https://localhost:8080/",
          "height": 206
        },
        "outputId": "fa2f1a14-9fc7-4e2b-aa8f-0b28ce2538e6"
      },
      "execution_count": null,
      "outputs": [
        {
          "output_type": "execute_result",
          "data": {
            "text/plain": [
              "   Name  Game Type  Map  Game Rank\n",
              "0     1          3    3         25\n",
              "1     3          3    3         25\n",
              "2    15          3    3         25\n",
              "3    13          3    3         25\n",
              "4     9          3    3         25"
            ],
            "text/html": [
              "\n",
              "  <div id=\"df-d65439fe-92b3-47a1-8c79-e62578584990\">\n",
              "    <div class=\"colab-df-container\">\n",
              "      <div>\n",
              "<style scoped>\n",
              "    .dataframe tbody tr th:only-of-type {\n",
              "        vertical-align: middle;\n",
              "    }\n",
              "\n",
              "    .dataframe tbody tr th {\n",
              "        vertical-align: top;\n",
              "    }\n",
              "\n",
              "    .dataframe thead th {\n",
              "        text-align: right;\n",
              "    }\n",
              "</style>\n",
              "<table border=\"1\" class=\"dataframe\">\n",
              "  <thead>\n",
              "    <tr style=\"text-align: right;\">\n",
              "      <th></th>\n",
              "      <th>Name</th>\n",
              "      <th>Game Type</th>\n",
              "      <th>Map</th>\n",
              "      <th>Game Rank</th>\n",
              "    </tr>\n",
              "  </thead>\n",
              "  <tbody>\n",
              "    <tr>\n",
              "      <th>0</th>\n",
              "      <td>1</td>\n",
              "      <td>3</td>\n",
              "      <td>3</td>\n",
              "      <td>25</td>\n",
              "    </tr>\n",
              "    <tr>\n",
              "      <th>1</th>\n",
              "      <td>3</td>\n",
              "      <td>3</td>\n",
              "      <td>3</td>\n",
              "      <td>25</td>\n",
              "    </tr>\n",
              "    <tr>\n",
              "      <th>2</th>\n",
              "      <td>15</td>\n",
              "      <td>3</td>\n",
              "      <td>3</td>\n",
              "      <td>25</td>\n",
              "    </tr>\n",
              "    <tr>\n",
              "      <th>3</th>\n",
              "      <td>13</td>\n",
              "      <td>3</td>\n",
              "      <td>3</td>\n",
              "      <td>25</td>\n",
              "    </tr>\n",
              "    <tr>\n",
              "      <th>4</th>\n",
              "      <td>9</td>\n",
              "      <td>3</td>\n",
              "      <td>3</td>\n",
              "      <td>25</td>\n",
              "    </tr>\n",
              "  </tbody>\n",
              "</table>\n",
              "</div>\n",
              "      <button class=\"colab-df-convert\" onclick=\"convertToInteractive('df-d65439fe-92b3-47a1-8c79-e62578584990')\"\n",
              "              title=\"Convert this dataframe to an interactive table.\"\n",
              "              style=\"display:none;\">\n",
              "        \n",
              "  <svg xmlns=\"http://www.w3.org/2000/svg\" height=\"24px\"viewBox=\"0 0 24 24\"\n",
              "       width=\"24px\">\n",
              "    <path d=\"M0 0h24v24H0V0z\" fill=\"none\"/>\n",
              "    <path d=\"M18.56 5.44l.94 2.06.94-2.06 2.06-.94-2.06-.94-.94-2.06-.94 2.06-2.06.94zm-11 1L8.5 8.5l.94-2.06 2.06-.94-2.06-.94L8.5 2.5l-.94 2.06-2.06.94zm10 10l.94 2.06.94-2.06 2.06-.94-2.06-.94-.94-2.06-.94 2.06-2.06.94z\"/><path d=\"M17.41 7.96l-1.37-1.37c-.4-.4-.92-.59-1.43-.59-.52 0-1.04.2-1.43.59L10.3 9.45l-7.72 7.72c-.78.78-.78 2.05 0 2.83L4 21.41c.39.39.9.59 1.41.59.51 0 1.02-.2 1.41-.59l7.78-7.78 2.81-2.81c.8-.78.8-2.07 0-2.86zM5.41 20L4 18.59l7.72-7.72 1.47 1.35L5.41 20z\"/>\n",
              "  </svg>\n",
              "      </button>\n",
              "      \n",
              "  <style>\n",
              "    .colab-df-container {\n",
              "      display:flex;\n",
              "      flex-wrap:wrap;\n",
              "      gap: 12px;\n",
              "    }\n",
              "\n",
              "    .colab-df-convert {\n",
              "      background-color: #E8F0FE;\n",
              "      border: none;\n",
              "      border-radius: 50%;\n",
              "      cursor: pointer;\n",
              "      display: none;\n",
              "      fill: #1967D2;\n",
              "      height: 32px;\n",
              "      padding: 0 0 0 0;\n",
              "      width: 32px;\n",
              "    }\n",
              "\n",
              "    .colab-df-convert:hover {\n",
              "      background-color: #E2EBFA;\n",
              "      box-shadow: 0px 1px 2px rgba(60, 64, 67, 0.3), 0px 1px 3px 1px rgba(60, 64, 67, 0.15);\n",
              "      fill: #174EA6;\n",
              "    }\n",
              "\n",
              "    [theme=dark] .colab-df-convert {\n",
              "      background-color: #3B4455;\n",
              "      fill: #D2E3FC;\n",
              "    }\n",
              "\n",
              "    [theme=dark] .colab-df-convert:hover {\n",
              "      background-color: #434B5C;\n",
              "      box-shadow: 0px 1px 3px 1px rgba(0, 0, 0, 0.15);\n",
              "      filter: drop-shadow(0px 1px 2px rgba(0, 0, 0, 0.3));\n",
              "      fill: #FFFFFF;\n",
              "    }\n",
              "  </style>\n",
              "\n",
              "      <script>\n",
              "        const buttonEl =\n",
              "          document.querySelector('#df-d65439fe-92b3-47a1-8c79-e62578584990 button.colab-df-convert');\n",
              "        buttonEl.style.display =\n",
              "          google.colab.kernel.accessAllowed ? 'block' : 'none';\n",
              "\n",
              "        async function convertToInteractive(key) {\n",
              "          const element = document.querySelector('#df-d65439fe-92b3-47a1-8c79-e62578584990');\n",
              "          const dataTable =\n",
              "            await google.colab.kernel.invokeFunction('convertToInteractive',\n",
              "                                                     [key], {});\n",
              "          if (!dataTable) return;\n",
              "\n",
              "          const docLinkHtml = 'Like what you see? Visit the ' +\n",
              "            '<a target=\"_blank\" href=https://colab.research.google.com/notebooks/data_table.ipynb>data table notebook</a>'\n",
              "            + ' to learn more about interactive tables.';\n",
              "          element.innerHTML = '';\n",
              "          dataTable['output_type'] = 'display_data';\n",
              "          await google.colab.output.renderOutput(dataTable, element);\n",
              "          const docLink = document.createElement('div');\n",
              "          docLink.innerHTML = docLinkHtml;\n",
              "          element.appendChild(docLink);\n",
              "        }\n",
              "      </script>\n",
              "    </div>\n",
              "  </div>\n",
              "  "
            ]
          },
          "metadata": {},
          "execution_count": 91
        }
      ]
    },
    {
      "cell_type": "code",
      "source": [
        "valorant.info()"
      ],
      "metadata": {
        "colab": {
          "base_uri": "https://localhost:8080/"
        },
        "id": "aBjUwAE83EyY",
        "outputId": "67ecef91-2454-48d6-d04d-c31cf97160ac"
      },
      "execution_count": null,
      "outputs": [
        {
          "output_type": "stream",
          "name": "stdout",
          "text": [
            "<class 'pandas.core.frame.DataFrame'>\n",
            "Int64Index: 4574 entries, 0 to 5412\n",
            "Data columns (total 4 columns):\n",
            " #   Column     Non-Null Count  Dtype\n",
            "---  ------     --------------  -----\n",
            " 0   Name       4574 non-null   int64\n",
            " 1   Game Type  4574 non-null   int64\n",
            " 2   Map        4574 non-null   int64\n",
            " 3   Game Rank  4574 non-null   int64\n",
            "dtypes: int64(4)\n",
            "memory usage: 178.7 KB\n"
          ]
        }
      ]
    },
    {
      "cell_type": "markdown",
      "source": [
        "##**Probabilidade Simples**"
      ],
      "metadata": {
        "id": "_Jvge3_HH8wA"
      }
    },
    {
      "cell_type": "markdown",
      "source": [
        "Aqui será testado o quanto um agente pode ser popular em qualquer modo de jogo, ranking ou mapa. Para isso será testado a probabilidade do agente ser retirado na amostra e ser comparado com os demais. A maior probabilidade significa que o agente se repete mais vezes, consequentemente mais popular."
      ],
      "metadata": {
        "id": "YNQpz_74ZPG4"
      }
    },
    {
      "cell_type": "code",
      "source": [
        "probBrim = round(len(valorant[valorant['Name'] == 2])/ len(valorant), 4)\n",
        "print(\"A probabilidade de ser um Brimstone é de: \" + str(probBrim*100) + \"%\")\n",
        "\n",
        "probViper = round(len(valorant[valorant['Name'] == 18])/ len(valorant), 4)\n",
        "print(\"A probabilidade de ser uma Viper é de: \" + str(probViper*100) + \"%\")\n",
        "\n",
        "probSage = round(len(valorant[valorant['Name'] == 15])/ len(valorant), 4)\n",
        "print(\"A probabilidade de ser uma Sage é de: \" + str(probSage*100) + \"%\")\n",
        "\n",
        "probOmen = round(len(valorant[valorant['Name'] == 11])/ len(valorant), 4)\n",
        "print(\"A probabilidade de ser um Omen é de: \" + str(probOmen*100) + \"%\")\n",
        "\n",
        "probFN = round(len(valorant[valorant['Name'] == 12])/ len(valorant), 4)\n",
        "print(\"A probabilidade de ser um Phoenix é de: \" + str(probFN*100) + \"%\")\n",
        "\n",
        "probSova = round(len(valorant[valorant['Name'] == 17])/ len(valorant), 4)\n",
        "print(\"A probabilidade de ser um Sova é de: \" + str(probSova*100) + \"%\")\n",
        "\n",
        "probCY = round(len(valorant[valorant['Name'] == 4])/ len(valorant), 4)\n",
        "print(\"A probabilidade de ser um Cypher é de: \" + str(probCY*100) + \"%\")\n",
        "\n",
        "probBreach = round(len(valorant[valorant['Name'] == 1])/ len(valorant), 4)\n",
        "print(\"A probabilidade de ser um Breach é de: \" + str(probBreach*100) + \"%\")\n",
        "\n",
        "probJett = round(len(valorant[valorant['Name'] == 7])/ len(valorant), 4)\n",
        "print(\"A probabilidade de ser uma Jett é de: \" + str(probJett*100) + \"%\")\n",
        "\n",
        "probRaze = round(len(valorant[valorant['Name'] == 13])/ len(valorant), 4)\n",
        "print(\"A probabilidade de ser uma Raze é de: \" + str(probRaze*100) + \"%\")\n",
        "\n",
        "probRey = round(len(valorant[valorant['Name'] == 14])/ len(valorant), 4)\n",
        "print(\"A probabilidade de ser uma Reyna é de: \" + str(probRey*100) + \"%\")\n",
        "\n",
        "probKJ = round(len(valorant[valorant['Name'] == 9])/ len(valorant), 4)\n",
        "print(\"A probabilidade de ser uma Killjoy é de: \" + str(probKJ*100) + \"%\")\n",
        "\n",
        "probSkye = round(len(valorant[valorant['Name'] == 16])/ len(valorant), 4)\n",
        "print(\"A probabilidade de ser uma Skye é de: \" + str(probSkye*100) + \"%\")\n",
        "\n",
        "probYoru = round(len(valorant[valorant['Name'] == 19])/ len(valorant), 4)\n",
        "print(\"A probabilidade de ser um Yoru é de: \" + str(probYoru*100) + \"%\")\n",
        "\n",
        "probAS = round(len(valorant[valorant['Name'] == 0])/ len(valorant), 4)\n",
        "print(\"A probabilidade de ser uma Astra é de: \" + str(probAS*100) + \"%\")\n",
        "\n",
        "probKO = round(len(valorant[valorant['Name'] == 8])/ len(valorant), 4)\n",
        "print(\"A probabilidade de ser um KAY/O é de: \" + str(probKO*100) + \"%\")\n",
        "\n",
        "probCha = round(len(valorant[valorant['Name'] == 3])/ len(valorant), 4)\n",
        "print(\"A probabilidade de ser um Chamber é de: \" + str(probCha*100) + \"%\")\n",
        "\n",
        "probNeon = round(len(valorant[valorant['Name'] == 10])/ len(valorant), 4)\n",
        "print(\"A probabilidade de ser uma Neon é de: \" + str(probNeon*100) + \"%\")\n",
        "\n",
        "probFade = round(len(valorant[valorant['Name'] == 5])/ len(valorant), 4)\n",
        "print(\"A probabilidade de ser uma Fade é de: \" + str(probFade*100) + \"%\")\n",
        "\n",
        "probHar = round(len(valorant[valorant['Name'] == 6])/ len(valorant), 4)\n",
        "print(\"A probabilidade de ser um Harbor é de: \" + str(probHar*100) + \"%\")"
      ],
      "metadata": {
        "id": "It4lS8gge5lt",
        "colab": {
          "base_uri": "https://localhost:8080/"
        },
        "outputId": "770d3c7a-0db5-49c1-d9ae-716763a13ee1"
      },
      "execution_count": null,
      "outputs": [
        {
          "output_type": "stream",
          "name": "stdout",
          "text": [
            "A probabilidade de ser um Brimstone é de: 4.9799999999999995%\n",
            "A probabilidade de ser uma Viper é de: 4.9399999999999995%\n",
            "A probabilidade de ser uma Sage é de: 5.07%\n",
            "A probabilidade de ser um Omen é de: 4.96%\n",
            "A probabilidade de ser um Phoenix é de: 5.01%\n",
            "A probabilidade de ser um Sova é de: 4.96%\n",
            "A probabilidade de ser um Cypher é de: 4.9799999999999995%\n",
            "A probabilidade de ser um Breach é de: 5.029999999999999%\n",
            "A probabilidade de ser uma Jett é de: 5.050000000000001%\n",
            "A probabilidade de ser uma Raze é de: 5.09%\n",
            "A probabilidade de ser uma Reyna é de: 5.07%\n",
            "A probabilidade de ser uma Killjoy é de: 4.96%\n",
            "A probabilidade de ser uma Skye é de: 4.92%\n",
            "A probabilidade de ser um Yoru é de: 5.029999999999999%\n",
            "A probabilidade de ser uma Astra é de: 4.96%\n",
            "A probabilidade de ser um KAY/O é de: 4.9799999999999995%\n",
            "A probabilidade de ser um Chamber é de: 4.9799999999999995%\n",
            "A probabilidade de ser uma Neon é de: 5.09%\n",
            "A probabilidade de ser uma Fade é de: 4.9399999999999995%\n",
            "A probabilidade de ser um Harbor é de: 4.96%\n"
          ]
        }
      ]
    },
    {
      "cell_type": "markdown",
      "source": [
        "Aqui, é possivél conferir que as agentes mais prováveis de serem populares são Neon e Raze.\n",
        "\n"
      ],
      "metadata": {
        "id": "lyuvnyr-rhXn"
      }
    },
    {
      "cell_type": "markdown",
      "source": [
        "##**Probabilidade da União**"
      ],
      "metadata": {
        "id": "L-e_lJWLNJfh"
      }
    },
    {
      "cell_type": "markdown",
      "source": [
        "Aqui será testado qual a probabilidade de ser um modo de jogo padrão. Em Valorant ha uma crescente de modos de jogos diferenciados, mas os modos padrões são: competitive e unrated. Com isso, pode-se verificar a relevancia dos modos especiais em relação aos modos padrões, ao mesmo tempo que verificar a complexidade dos modos padrões. Quanto maior a probabilidade de se achar um jogo padrão, maior a irrelevânia dos demais modos."
      ],
      "metadata": {
        "id": "pUQROuXkDqsc"
      }
    },
    {
      "cell_type": "code",
      "source": [
        "Patern = len(valorant[(valorant[\"Game Type\"] == 0) | (valorant['Game Type'] == 6)])\n",
        "probPat = round(Patern/len(valorant), 4)\n",
        "print(\"A probabilidade de se achar um modo de jogo Competitive ou Unreated é de: \" + str(probPat*100) + '%')"
      ],
      "metadata": {
        "colab": {
          "base_uri": "https://localhost:8080/"
        },
        "id": "6Db_Synihr9d",
        "outputId": "4c32ce46-73b3-4f34-edf9-daa5c392caef"
      },
      "execution_count": null,
      "outputs": [
        {
          "output_type": "stream",
          "name": "stdout",
          "text": [
            "A probabilidade de se achar um modo de jogo Competitive ou Unreated é de: 82.53%\n"
          ]
        }
      ]
    },
    {
      "cell_type": "markdown",
      "source": [
        "Aqui há a confirmação do quão complexo o modo padrão pode ser em comparação aos demais, principalmente pelo fato do dataset ser estruturado com muitos modos competitive devido a coluna Game Rank deste modo."
      ],
      "metadata": {
        "id": "k2rZmD-z3Zxg"
      }
    },
    {
      "cell_type": "markdown",
      "source": [
        "##**Probabilidade da Intersecção**\n",
        "\n",
        "\n"
      ],
      "metadata": {
        "id": "6MM3vq0m5Nq9"
      }
    },
    {
      "cell_type": "markdown",
      "source": [
        "Aqui será testado qual a probabilidade de um determinado agente ser achado no modo de jogo competitivo. Achando um agente muitas vezes no competitivo, significa que ele deve ser um dos melhores agente para o competitivo, consequentemente, do jogo."
      ],
      "metadata": {
        "id": "lSGCNK3_Fi9e"
      }
    },
    {
      "cell_type": "code",
      "source": [
        "probBrimComp = round(len(valorant[(valorant['Game Type'] == 0) & (valorant['Name'] == 2)])/len(valorant), 4)\n",
        "print(\"A probabilidade de um Brimstone aparecer no competitivo é de: \" + str(probBrimComp*100))\n",
        "\n",
        "probViperComp = round(len(valorant[(valorant['Game Type'] == 0) & (valorant['Name'] == 18)])/len(valorant), 4)\n",
        "print(\"A probabilidade de uma Viper aparecer no competitivo é de: \" + str(probViperComp*100))\n",
        "\n",
        "probSageComp = round(len(valorant[(valorant['Game Type'] == 0) & (valorant['Name'] == 15)])/len(valorant), 4)\n",
        "print(\"A probabilidade de uma Sage aparecer no competitivo é de: \" + str(probSageComp*100))\n",
        "\n",
        "probOmenComp = round(len(valorant[(valorant['Game Type'] == 0) & (valorant['Name'] == 11)])/len(valorant), 4)\n",
        "print(\"A probabilidade de um Omen aparecer no competitivo é de: \" + str(probOmenComp*100))\n",
        "\n",
        "probFNComp = round(len(valorant[(valorant['Game Type'] == 0) & (valorant['Name'] == 12)])/len(valorant), 4)\n",
        "print(\"A probabilidade de um Phoenix aparecer no competitivo é de: \" + str(probFNComp*100))\n",
        "\n",
        "probSovaComp = round(len(valorant[(valorant['Game Type'] == 0) & (valorant['Name'] == 17)])/len(valorant), 4)\n",
        "print(\"A probabilidade de um Sova aparecer no competitivo é de: \" + str(probSovaComp*100))\n",
        "\n",
        "probCYComp = round(len(valorant[(valorant['Game Type'] == 0) & (valorant['Name'] == 4)])/len(valorant), 4)\n",
        "print(\"A probabilidade de um Cypher aparecer no competitivo é de: \" + str(probCYComp*100))\n",
        "\n",
        "probBreachComp = round(len(valorant[(valorant['Game Type'] == 0) & (valorant['Name'] == 1)])/len(valorant), 4)\n",
        "print(\"A probabilidade de um Breach aparecer no competitivo é de: \" + str(probBreachComp*100))\n",
        "\n",
        "probJettComp = round(len(valorant[(valorant['Game Type'] == 0) & (valorant['Name'] == 7)])/len(valorant), 4)\n",
        "print(\"A probabilidade de uma Jett aparecer no competitivo é de: \" + str(probJettComp*100))\n",
        "\n",
        "probRazeComp = round(len(valorant[(valorant['Game Type'] == 0) & (valorant['Name'] == 13)])/len(valorant), 4)\n",
        "print(\"A probabilidade de uma Raze aparecer no competitivo é de: \" + str(probRazeComp*100))\n",
        "\n",
        "probReyComp = round(len(valorant[(valorant['Game Type'] == 0) & (valorant['Name'] == 14)])/len(valorant), 4)\n",
        "print(\"A probabilidade de uma Reyna aparecer no competitivo é de: \" + str(probReyComp*100))\n",
        "\n",
        "probKJComp = round(len(valorant[(valorant['Game Type'] == 0) & (valorant['Name'] == 9)])/len(valorant), 4)\n",
        "print(\"A probabilidade de uma Killjoy aparecer no competitivo é de: \" + str(probKJComp*100))\n",
        "\n",
        "probSkyeComp = round(len(valorant[(valorant['Game Type'] == 0) & (valorant['Name'] == 16)])/len(valorant), 4)\n",
        "print(\"A probabilidade de uma Skye aparecer no competitivo é de: \" + str(probSkyeComp*100))\n",
        "\n",
        "probYoruComp = round(len(valorant[(valorant['Game Type'] == 0) & (valorant['Name'] == 19)])/len(valorant), 4)\n",
        "print(\"A probabilidade de um Yoru aparecer no competitivo é de: \" + str(probYoruComp*100))\n",
        "\n",
        "probASComp = round(len(valorant[(valorant['Game Type'] == 0) & (valorant['Name'] == 0)])/len(valorant), 4)\n",
        "print(\"A probabilidade de uma Astra aparecer no competitivo é de: \" + str(probASComp*100))\n",
        "\n",
        "probKOComp = round(len(valorant[(valorant['Game Type'] == 0) & (valorant['Name'] == 8)])/len(valorant), 4)\n",
        "print(\"A probabilidade de um KAY/O aparecer no competitivo é de: \" + str(probKOComp*100))\n",
        "\n",
        "probChaComp = round(len(valorant[(valorant['Game Type'] == 0) & (valorant['Name'] == 3)])/len(valorant), 4)\n",
        "print(\"A probabilidade de um Chamber aparecer no competitivo é de: \" + str(probChaComp*100))\n",
        "\n",
        "probNeonComp = round(len(valorant[(valorant['Game Type'] == 0) & (valorant['Name'] == 10)])/len(valorant), 4)\n",
        "print(\"A probabilidade de uma Neon aparecer no competitivo é de: \" + str(probNeonComp*100))\n",
        "\n",
        "probFadeComp = round(len(valorant[(valorant['Game Type'] == 0) & (valorant['Name'] == 5)])/len(valorant), 4)\n",
        "print(\"A probabilidade de uma Fade aparecer no competitivo é de: \" + str(probFadeComp*100))\n",
        "\n",
        "probHarComp = round(len(valorant[(valorant['Game Type'] == 0) & (valorant['Name'] == 6)])/len(valorant), 4)\n",
        "print(\"A probabilidade de uma Harbor aparecer no competitivo é de: \" + str(probHarComp*100))"
      ],
      "metadata": {
        "id": "TfIhvRFcdhFB",
        "colab": {
          "base_uri": "https://localhost:8080/"
        },
        "outputId": "94ca7338-1943-45c0-bcee-d322566690dc"
      },
      "execution_count": null,
      "outputs": [
        {
          "output_type": "stream",
          "name": "stdout",
          "text": [
            "A probabilidade de um Brimstone aparecer no competitivo é de: 3.9600000000000004\n",
            "A probabilidade de uma Viper aparecer no competitivo é de: 3.9600000000000004\n",
            "A probabilidade de uma Sage aparecer no competitivo é de: 3.9800000000000004\n",
            "A probabilidade de um Omen aparecer no competitivo é de: 3.9800000000000004\n",
            "A probabilidade de um Phoenix aparecer no competitivo é de: 3.9800000000000004\n",
            "A probabilidade de um Sova aparecer no competitivo é de: 3.9800000000000004\n",
            "A probabilidade de um Cypher aparecer no competitivo é de: 3.9800000000000004\n",
            "A probabilidade de um Breach aparecer no competitivo é de: 3.9600000000000004\n",
            "A probabilidade de uma Jett aparecer no competitivo é de: 3.9800000000000004\n",
            "A probabilidade de uma Raze aparecer no competitivo é de: 3.9800000000000004\n",
            "A probabilidade de uma Reyna aparecer no competitivo é de: 3.9800000000000004\n",
            "A probabilidade de uma Killjoy aparecer no competitivo é de: 3.9800000000000004\n",
            "A probabilidade de uma Skye aparecer no competitivo é de: 3.9800000000000004\n",
            "A probabilidade de um Yoru aparecer no competitivo é de: 3.9800000000000004\n",
            "A probabilidade de uma Astra aparecer no competitivo é de: 3.9600000000000004\n",
            "A probabilidade de um KAY/O aparecer no competitivo é de: 3.9800000000000004\n",
            "A probabilidade de um Chamber aparecer no competitivo é de: 3.9800000000000004\n",
            "A probabilidade de uma Neon aparecer no competitivo é de: 3.9800000000000004\n",
            "A probabilidade de uma Fade aparecer no competitivo é de: 3.9600000000000004\n",
            "A probabilidade de uma Harbor aparecer no competitivo é de: 3.9800000000000004\n"
          ]
        }
      ]
    },
    {
      "cell_type": "markdown",
      "source": [
        "Como pode-se notar, a maioria esmagadora dos agentes são utilizados com frequencia nas filas competitivas. Os agentes Brimstone, Viper, Breach, Astra e Fade, são poucos escolhidos em relação a maioria, isso provávelmente ocorre por alguns deles, como Astra, serem considerados dificeis de se jogar, ou, uma outra possibilidade, seria que esse agentes são considerados mais táticos que a maioria."
      ],
      "metadata": {
        "id": "cV1TalvgmLdY"
      }
    },
    {
      "cell_type": "markdown",
      "source": [
        "##**Probabilidade do Complemento**"
      ],
      "metadata": {
        "id": "PqpxtL6CQqhX"
      }
    },
    {
      "cell_type": "markdown",
      "source": [
        "Aqui será testado qual a probabilidade de ser determinado agente e não ser da fila competitiva. A ideia é saber o quanto um agente é popular fora das estratégias competitivas. O quanto ele provavelmente é popular, ou divertido de jogar."
      ],
      "metadata": {
        "id": "nfaRfMkDGj_3"
      }
    },
    {
      "cell_type": "code",
      "source": [
        "Pop = len(valorant[(valorant[\"Game Type\"] != 0)])\n",
        "probPop = round(Pop/len(valorant), 4)\n",
        "\n",
        "probBrimP = probPop - probBrim\n",
        "print(\"A probabilidade de ser um Brimstone fora da fila competitiva é de: \" + str(probBrimP*100) + \"%\")\n",
        "\n",
        "probViperP = probPop - probViper\n",
        "print(\"A probabilidade de ser uma Viper fora da fila competitiva é de: \" + str(probViperP*100) + \"%\")\n",
        "\n",
        "probSageP = probPop - probSage\n",
        "print(\"A probabilidade de ser uma Sage fora da fila competitiva é de: \" + str(probSageP*100) + \"%\")\n",
        "\n",
        "probOmenP = probPop - probOmen\n",
        "print(\"A probabilidade de ser um Omen fora da fila competitiva é de: \" + str(probOmenP*100) + \"%\")\n",
        "\n",
        "probFNP = probPop - probFN\n",
        "print(\"A probabilidade de ser um Phoenix fora da fila competitiva é de: \" + str(probFNP*100) + \"%\")\n",
        "\n",
        "probSovaP = probPop - probSova\n",
        "print(\"A probabilidade de ser um Sova fora da fila competitiva é de: \" + str(probSovaP*100) + \"%\")\n",
        "\n",
        "probCYP = probPop - probCY\n",
        "print(\"A probabilidade de ser um Cypher fora da fila competitiva é de: \" + str(probCYP*100) + \"%\")\n",
        "\n",
        "probBreachP = probPop - probBreach\n",
        "print(\"A probabilidade de ser um Breach fora da fila competitiva é de: \" + str(probBreachP*100) + \"%\")\n",
        "\n",
        "probJettP = probPop - probJett\n",
        "print(\"A probabilidade de ser uma Jett fora da fila competitiva é de: \" + str(probJettP*100) + \"%\")\n",
        "\n",
        "probRazeP = probPop - probRaze\n",
        "print(\"A probabilidade de ser uma Raze fora da fila competitiva é de: \" + str(probRazeP*100) + \"%\")\n",
        "\n",
        "probReyP = probPop - probRey\n",
        "print(\"A probabilidade de ser uma Reyna fora da fila competitiva é de: \" + str(probReyP*100) + \"%\")\n",
        "\n",
        "probKJP = probPop - probKJ\n",
        "print(\"A probabilidade de ser uma Killjoy fora da fila competitiva é de: \" + str(probKJP*100) + \"%\")\n",
        "\n",
        "probSkyeP = probPop - probSkye\n",
        "print(\"A probabilidade de ser uma Skye fora da fila competitiva é de: \" + str(probSkyeP*100) + \"%\")\n",
        "\n",
        "probYoruP = probPop - probYoru\n",
        "print(\"A probabilidade de ser um Yoru fora da fila competitiva é de: \" + str(probYoruP*100) + \"%\")\n",
        "\n",
        "probASP = probPop - probAS\n",
        "print(\"A probabilidade de ser uma Astra fora da fila competitiva é de: \" + str(probASP*100) + \"%\")\n",
        "\n",
        "probKOP = probPop - probKO\n",
        "print(\"A probabilidade de ser um KAY/O fora da fila competitiva é de: \" + str(probKOP*100) + \"%\")\n",
        "\n",
        "probChaP = probPop - probCha\n",
        "print(\"A probabilidade de ser um Chamber fora da fila competitiva é de: \" + str(probChaP*100) + \"%\")\n",
        "\n",
        "probNeonP = probPop - probNeon\n",
        "print(\"A probabilidade de ser uma Neon fora da fila competitiva é de: \" + str(probNeonP*100) + \"%\")\n",
        "\n",
        "probFadeP = probPop - probFade\n",
        "print(\"A probabilidade de ser uma Fade fora da fila competitiva é de: \" + str(probFadeP*100) + \"%\")\n",
        "\n",
        "probHarP = probPop - probHar\n",
        "print(\"A probabilidade de ser um Harbor fora da fila competitiva é de: \" + str(probHarP*100) + \"%\")"
      ],
      "metadata": {
        "colab": {
          "base_uri": "https://localhost:8080/"
        },
        "id": "NgECC_rxSBn7",
        "outputId": "ab288720-56c9-4fdf-ae50-a33010ce8dbc"
      },
      "execution_count": null,
      "outputs": [
        {
          "output_type": "stream",
          "name": "stdout",
          "text": [
            "A probabilidade de ser um Brimstone fora da fila competitiva é de: 15.550000000000002%\n",
            "A probabilidade de ser uma Viper fora da fila competitiva é de: 15.590000000000002%\n",
            "A probabilidade de ser uma Sage fora da fila competitiva é de: 15.46%\n",
            "A probabilidade de ser um Omen fora da fila competitiva é de: 15.57%\n",
            "A probabilidade de ser um Phoenix fora da fila competitiva é de: 15.52%\n",
            "A probabilidade de ser um Sova fora da fila competitiva é de: 15.57%\n",
            "A probabilidade de ser um Cypher fora da fila competitiva é de: 15.550000000000002%\n",
            "A probabilidade de ser um Breach fora da fila competitiva é de: 15.500000000000004%\n",
            "A probabilidade de ser uma Jett fora da fila competitiva é de: 15.479999999999999%\n",
            "A probabilidade de ser uma Raze fora da fila competitiva é de: 15.440000000000001%\n",
            "A probabilidade de ser uma Reyna fora da fila competitiva é de: 15.46%\n",
            "A probabilidade de ser uma Killjoy fora da fila competitiva é de: 15.57%\n",
            "A probabilidade de ser uma Skye fora da fila competitiva é de: 15.610000000000001%\n",
            "A probabilidade de ser um Yoru fora da fila competitiva é de: 15.500000000000004%\n",
            "A probabilidade de ser uma Astra fora da fila competitiva é de: 15.57%\n",
            "A probabilidade de ser um KAY/O fora da fila competitiva é de: 15.550000000000002%\n",
            "A probabilidade de ser um Chamber fora da fila competitiva é de: 15.550000000000002%\n",
            "A probabilidade de ser uma Neon fora da fila competitiva é de: 15.440000000000001%\n",
            "A probabilidade de ser uma Fade fora da fila competitiva é de: 15.590000000000002%\n",
            "A probabilidade de ser um Harbor fora da fila competitiva é de: 15.57%\n"
          ]
        }
      ]
    },
    {
      "cell_type": "markdown",
      "source": [
        "Com os dados acima, é possivel conferir que o agente que mais aparece fora da fila competitiva é a Skye."
      ],
      "metadata": {
        "id": "4dTJPsm0UKNx"
      }
    },
    {
      "cell_type": "markdown",
      "source": [
        "##**Probabilidade da Diferença**"
      ],
      "metadata": {
        "id": "yahnHh5o5Yo5"
      }
    },
    {
      "cell_type": "markdown",
      "source": [
        "Aqui será testado qual a probabilidade do modo de jogo ser competitivo e o rank não ser unrated. Para se ter um rank em Valorant, primeiro é preciso jogar 5 partidas para determinar o rank base, para assim subir de ranks. Quando não se joga partidas para classificação suficiente, se esta em unrated, não há uma classificação. Definindo a probabilidade de não ser unrated, só evidencia o quanto isto é pequeno no contexto geral de ranks."
      ],
      "metadata": {
        "id": "lrQc6E5_-4ZA"
      }
    },
    {
      "cell_type": "code",
      "source": [
        "compNunrated = len(valorant[(valorant[\"Game Type\"] == 0) & (valorant[\"Game Rank\"] != 25)])\n",
        "probCompNunrated = round(compNunrated/len(valorant), 4)\n",
        "\n",
        "print(\"A probabilidade de se achar um rank que não seja unrated na fila competitivo é de: \" + str(probCompNunrated*100) + \"%\")"
      ],
      "metadata": {
        "colab": {
          "base_uri": "https://localhost:8080/"
        },
        "id": "4p9cWG1mVVYD",
        "outputId": "712769fe-a2f3-4620-c769-838f654113b2"
      },
      "execution_count": null,
      "outputs": [
        {
          "output_type": "stream",
          "name": "stdout",
          "text": [
            "A probabilidade de se achar um rank que não seja unrated na fila competitivo é de: 76.41%\n"
          ]
        }
      ]
    },
    {
      "cell_type": "markdown",
      "source": [
        "##**Probabilidade Condicional**"
      ],
      "metadata": {
        "id": "sfAucd1Z5lkp"
      }
    },
    {
      "cell_type": "markdown",
      "source": [
        "Aqui será testado a popularidade de cada agente nos difentes mapas. A agente que mais aparecer no mesmo mapa, poderia ser de um uso obrigátorio para aquele mapa."
      ],
      "metadata": {
        "id": "b1qNgTZbNnDe"
      }
    },
    {
      "cell_type": "markdown",
      "source": [
        "**Bind = 1**"
      ],
      "metadata": {
        "id": "2G08KjtWuF-g"
      }
    },
    {
      "cell_type": "code",
      "source": [
        "probBind = round(len(valorant[valorant['Map'] == 1])/len(valorant), 4)\n",
        "\n",
        "probCBrim = round(len(valorant[(valorant['Map'] == 1) & (valorant['Name'] == 2)])/len(valorant), 4)\n",
        "\n",
        "probBrimBind = probCBrim/probBind\n",
        "print(\"A probabilidade de ser um Brimstone na Bind é de: \" + str(probBrimBind*100) + \"%\")\n",
        "\n",
        "probCViper = round(len(valorant[(valorant['Map'] == 1) & (valorant['Name'] == 18)])/len(valorant), 4)\n",
        "\n",
        "probViperBind = probCViper/probBind\n",
        "print(\"A probabilidade de ser uma Viper na Bind é de: \" + str(probViperBind*100) + \"%\")\n",
        "\n",
        "probCSage= round(len(valorant[(valorant['Map'] == 1) & (valorant['Name'] == 15)])/len(valorant), 4)\n",
        "\n",
        "probSageBind = probCSage/probBind\n",
        "print(\"A probabilidade de ser uma Sage na Bind é de: \" + str(probSageBind*100) + \"%\")\n",
        "\n",
        "probCOmen= round(len(valorant[(valorant['Map'] == 1) & (valorant['Name'] == 11)])/len(valorant), 4)\n",
        "\n",
        "probOmenBind = probCOmen/probBind\n",
        "print(\"A probabilidade de ser um Omen na Bind é de: \" + str(probOmenBind*100) + \"%\")\n",
        "\n",
        "probCFN= round(len(valorant[(valorant['Map'] == 1) & (valorant['Name'] == 12)])/len(valorant), 4)\n",
        "\n",
        "probFNBind = probCFN/probBind\n",
        "print(\"A probabilidade de ser um Phoenix na Bind é de: \" + str(probFNBind*100) + \"%\")\n",
        "\n",
        "probCSova= round(len(valorant[(valorant['Map'] == 1) & (valorant['Name'] == 17)])/len(valorant), 4)\n",
        "\n",
        "probSovaBind = probCSova/probBind\n",
        "print(\"A probabilidade de ser um Sova na Bind é de: \" + str(probSovaBind*100) + \"%\")\n",
        "\n",
        "probCCY= round(len(valorant[(valorant['Map'] == 1) & (valorant['Name'] == 4)])/len(valorant), 4)\n",
        "\n",
        "probCYBind = probCCY/probBind\n",
        "print(\"A probabilidade de ser um Cypher na Bind é de: \" + str(probCYBind*100) + \"%\")\n",
        "\n",
        "probCBreach= round(len(valorant[(valorant['Map'] == 1) & (valorant['Name'] == 1)])/len(valorant), 4)\n",
        "\n",
        "probBreachBind = probCBreach/probBind\n",
        "print(\"A probabilidade de ser um Breach na Bind é de: \" + str(probBreachBind*100) + \"%\")\n",
        "\n",
        "probCJett= round(len(valorant[(valorant['Map'] == 1) & (valorant['Name'] == 7)])/len(valorant), 4)\n",
        "\n",
        "probJettBind = probCJett/probBind\n",
        "print(\"A probabilidade de ser uma Jett na Bind é de: \" + str(probJettBind*100) + \"%\")\n",
        "\n",
        "probCRaze= round(len(valorant[(valorant['Map'] == 1) & (valorant['Name'] == 13)])/len(valorant), 4)\n",
        "\n",
        "probRazeBind = probCRaze/probBind\n",
        "print(\"A probabilidade de ser uma Raze na Bind é de: \" + str(probRazeBind*100) + \"%\")\n",
        "\n",
        "probCRey= round(len(valorant[(valorant['Map'] == 1) & (valorant['Name'] == 14)])/len(valorant), 4)\n",
        "\n",
        "probReyBind = probCRey/probBind\n",
        "print(\"A probabilidade de ser uma Reyna na Bind é de: \" + str(probReyBind*100) + \"%\")\n",
        "\n",
        "probCKJ= round(len(valorant[(valorant['Map'] == 1) & (valorant['Name'] == 9)])/len(valorant), 4)\n",
        "\n",
        "probKJBind = probCKJ/probBind\n",
        "print(\"A probabilidade de ser uma Killjoy na Bind é de: \" + str(probKJBind*100) + \"%\")\n",
        "\n",
        "probCSkye= round(len(valorant[(valorant['Map'] == 1) & (valorant['Name'] == 16)])/len(valorant), 4)\n",
        "\n",
        "probSkyeBind = probCSkye/probBind\n",
        "print(\"A probabilidade de ser uma Skye na Bind é de: \" + str(probSkyeBind*100) + \"%\")\n",
        "\n",
        "probCYoru= round(len(valorant[(valorant['Map'] == 1) & (valorant['Name'] == 19)])/len(valorant), 4)\n",
        "\n",
        "probYoruBind = probCYoru/probBind\n",
        "print(\"A probabilidade de ser um Yoru na Bind é de: \" + str(probYoruBind*100) + \"%\")\n",
        "\n",
        "probCAS= round(len(valorant[(valorant['Map'] == 1) & (valorant['Name'] == 0)])/len(valorant), 4)\n",
        "\n",
        "probASBind = probCAS/probBind\n",
        "print(\"A probabilidade de ser uma Astra na Bind é de: \" + str(probASBind*100) + \"%\")\n",
        "\n",
        "probCKO= round(len(valorant[(valorant['Map'] == 1) & (valorant['Name'] == 8)])/len(valorant), 4)\n",
        "\n",
        "probKOBind = probCKO/probBind\n",
        "print(\"A probabilidade de ser um KAY/O na Bind é de: \" + str(probKOBind*100) + \"%\")\n",
        "\n",
        "probCCha= round(len(valorant[(valorant['Map'] == 1) & (valorant['Name'] == 3)])/len(valorant), 4)\n",
        "\n",
        "probChaBind = probCCha/probBind\n",
        "print(\"A probabilidade de ser um Chamber na Bind é de: \" + str(probChaBind*100) + \"%\")\n",
        "\n",
        "probCNeon= round(len(valorant[(valorant['Map'] == 1) & (valorant['Name'] == 10)])/len(valorant), 4)\n",
        "\n",
        "probNeonBind = probCNeon/probBind\n",
        "print(\"A probabilidade de ser uma Neon na Bind é de: \" + str(probNeonBind*100) + \"%\")\n",
        "\n",
        "probCFade= round(len(valorant[(valorant['Map'] == 1) & (valorant['Name'] == 5)])/len(valorant), 4)\n",
        "\n",
        "probFadeBind = probCFade/probBind\n",
        "print(\"A probabilidade de ser uma Fade na Bind é de: \" + str(probFadeBind*100) + \"%\")\n",
        "\n",
        "probCHar= round(len(valorant[(valorant['Map'] == 1) & (valorant['Name'] == 6)])/len(valorant), 4)\n",
        "\n",
        "probHarBind = probCHar/probBind\n",
        "print(\"A probabilidade de ser um Harbor na Bind é de: \" + str(probHarBind*100) + \"%\")"
      ],
      "metadata": {
        "colab": {
          "base_uri": "https://localhost:8080/"
        },
        "id": "FXQS-zkFumdc",
        "outputId": "7a5f33c3-f724-4a7f-b341-4c163cc5f6bc"
      },
      "execution_count": null,
      "outputs": [
        {
          "output_type": "stream",
          "name": "stdout",
          "text": [
            "A probabilidade de ser um Brimstone na Bind é de: 5.729166666666668%\n",
            "A probabilidade de ser uma Viper na Bind é de: 4.6875%\n",
            "A probabilidade de ser uma Sage na Bind é de: 5.729166666666668%\n",
            "A probabilidade de ser um Omen na Bind é de: 4.6875%\n",
            "A probabilidade de ser um Phoenix na Bind é de: 5.729166666666668%\n",
            "A probabilidade de ser um Sova na Bind é de: 4.6875%\n",
            "A probabilidade de ser um Cypher na Bind é de: 4.6875%\n",
            "A probabilidade de ser um Breach na Bind é de: 5.729166666666668%\n",
            "A probabilidade de ser uma Jett na Bind é de: 5.729166666666668%\n",
            "A probabilidade de ser uma Raze na Bind é de: 5.729166666666668%\n",
            "A probabilidade de ser uma Reyna na Bind é de: 4.6875%\n",
            "A probabilidade de ser uma Killjoy na Bind é de: 5.729166666666668%\n",
            "A probabilidade de ser uma Skye na Bind é de: 4.6875%\n",
            "A probabilidade de ser um Yoru na Bind é de: 4.6875%\n",
            "A probabilidade de ser uma Astra na Bind é de: 4.6875%\n",
            "A probabilidade de ser um KAY/O na Bind é de: 4.6875%\n",
            "A probabilidade de ser um Chamber na Bind é de: 4.6875%\n",
            "A probabilidade de ser uma Neon na Bind é de: 5.729166666666668%\n",
            "A probabilidade de ser uma Fade na Bind é de: 4.6875%\n",
            "A probabilidade de ser um Harbor na Bind é de: 4.6875%\n"
          ]
        }
      ]
    },
    {
      "cell_type": "markdown",
      "source": [
        "Pode-se notar que os agentes mais escolhida na Bind são Brimstone, Sage, Phoenix, Breach, Raze, Killjoy e Neon. Como visto na Probabilidade Simples, Neon e Raze são as que tem mais probabilidades de aparecerem, aqui não é diferente. No entanto, deve-se levar em consideração que essa amostra esta analisando todas as ocorrencias no dataset, incluindo modos de jogo que não necessariamente se utilizam de estrategias complexas como no competitivo. Dito isso, é muito provável que Neon e Raze estejam aparacendo por conta desses modos.\n",
        "\n",
        "Em relação aos demais, um ponto de concordância dessas estatisticas são os agentes: Brimstone, Breach, Sage e Killjoy. Esses tres agentes são de senso comum em serem utilizados na Bind não só por suas habilidades serem versáteis e extremamente eficiente em determinadas posições, como também, no caso do Brimstone, se encaixam quase que perfeitamente no mapa."
      ],
      "metadata": {
        "id": "Z3sEncUcyOai"
      }
    },
    {
      "cell_type": "markdown",
      "source": [
        "**Haven = 4**"
      ],
      "metadata": {
        "id": "xsbmcJwAydvY"
      }
    },
    {
      "cell_type": "code",
      "source": [
        "probHaven = round(len(valorant[valorant['Map'] == 4])/len(valorant), 4)\n",
        "\n",
        "probCBrim = round(len(valorant[(valorant['Map'] == 4) & (valorant['Name'] == 2)])/len(valorant), 4)\n",
        "\n",
        "probBrimHaven = probCBrim/probHaven\n",
        "print(\"A probabilidade de ser um Brimstone na Haven é de: \" + str(probBrimHaven*100) + \"%\")\n",
        "\n",
        "probCViper = round(len(valorant[(valorant['Map'] == 4) & (valorant['Name'] == 18)])/len(valorant), 4)\n",
        "\n",
        "probViperHaven = probCViper/probHaven\n",
        "print(\"A probabilidade de ser uma Viper na Haven é de: \" + str(probViperHaven*100) + \"%\")\n",
        "\n",
        "probCSage= round(len(valorant[(valorant['Map'] == 4) & (valorant['Name'] == 15)])/len(valorant), 4)\n",
        "\n",
        "probSageHaven = probCSage/probHaven\n",
        "print(\"A probabilidade de ser uma Sage na Haven é de: \" + str(probSageHaven*100) + \"%\")\n",
        "\n",
        "probCOmen= round(len(valorant[(valorant['Map'] == 4) & (valorant['Name'] == 11)])/len(valorant), 4)\n",
        "\n",
        "probOmenHaven = probCOmen/probHaven\n",
        "print(\"A probabilidade de ser um Omen na Haven é de: \" + str(probOmenHaven*100) + \"%\")\n",
        "\n",
        "probCFN= round(len(valorant[(valorant['Map'] == 4) & (valorant['Name'] == 12)])/len(valorant), 4)\n",
        "\n",
        "probFNHaven = probCFN/probHaven\n",
        "print(\"A probabilidade de ser um Phoenix na Haven é de: \" + str(probFNHaven*100) + \"%\")\n",
        "\n",
        "probCSova= round(len(valorant[(valorant['Map'] == 4) & (valorant['Name'] == 17)])/len(valorant), 4)\n",
        "\n",
        "probSovaHaven = probCSova/probHaven\n",
        "print(\"A probabilidade de ser um Sova na Haven é de: \" + str(probSovaHaven*100) + \"%\")\n",
        "\n",
        "probCCY= round(len(valorant[(valorant['Map'] == 4) & (valorant['Name'] == 4)])/len(valorant), 4)\n",
        "\n",
        "probCYHaven = probCCY/probHaven\n",
        "print(\"A probabilidade de ser um Cypher na Haven é de: \" + str(probCYHaven*100) + \"%\")\n",
        "\n",
        "probCBreach= round(len(valorant[(valorant['Map'] == 4) & (valorant['Name'] == 1)])/len(valorant), 4)\n",
        "\n",
        "probBreachHaven = probCBreach/probHaven\n",
        "print(\"A probabilidade de ser um Breach na Haven é de: \" + str(probBreachHaven*100) + \"%\")\n",
        "\n",
        "probCJett= round(len(valorant[(valorant['Map'] == 4) & (valorant['Name'] == 7)])/len(valorant), 4)\n",
        "\n",
        "probJettHaven = probCJett/probHaven\n",
        "print(\"A probabilidade de ser uma Jett na Haven é de: \" + str(probJettHaven*100) + \"%\")\n",
        "\n",
        "probCRaze = round(len(valorant[(valorant['Map'] == 4) & (valorant['Name'] == 13)])/len(valorant), 4)\n",
        "\n",
        "probRazeHaven = probCRaze/probHaven\n",
        "print(\"A probabilidade de ser uma Raze na Haven é de: \" + str(probRazeHaven*100) + \"%\")\n",
        "\n",
        "probCRey= round(len(valorant[(valorant['Map'] == 4) & (valorant['Name'] == 14)])/len(valorant), 4)\n",
        "\n",
        "probReyHaven = probCRey/probHaven\n",
        "print(\"A probabilidade de ser uma Reyna na Haven é de: \" + str(probReyHaven*100) + \"%\")\n",
        "\n",
        "probCKJ= round(len(valorant[(valorant['Map'] == 4) & (valorant['Name'] == 9)])/len(valorant), 4)\n",
        "\n",
        "probKJHaven = probCKJ/probHaven\n",
        "print(\"A probabilidade de ser uma Killjoy na Haven é de: \" + str(probKJHaven*100) + \"%\")\n",
        "\n",
        "probCSkye= round(len(valorant[(valorant['Map'] == 4) & (valorant['Name'] == 16)])/len(valorant), 4)\n",
        "\n",
        "probSkyeHaven = probCSkye/probHaven\n",
        "print(\"A probabilidade de ser uma Skye na Haven é de: \" + str(probSkyeHaven*100) + \"%\")\n",
        "\n",
        "probCYoru= round(len(valorant[(valorant['Map'] == 4) & (valorant['Name'] == 19)])/len(valorant), 4)\n",
        "\n",
        "probYoruHaven = probCYoru/probHaven\n",
        "print(\"A probabilidade de ser um Yoru na Haven é de: \" + str(probYoruHaven*100) + \"%\")\n",
        "\n",
        "probCAS= round(len(valorant[(valorant['Map'] == 4) & (valorant['Name'] == 0)])/len(valorant), 4)\n",
        "\n",
        "probASHaven = probCAS/probHaven\n",
        "print(\"A probabilidade de ser uma Astra na Haven é de: \" + str(probASHaven*100) + \"%\")\n",
        "\n",
        "probCKO= round(len(valorant[(valorant['Map'] == 4) & (valorant['Name'] == 8)])/len(valorant), 4)\n",
        "\n",
        "probKOHaven = probCKO/probHaven\n",
        "print(\"A probabilidade de ser um KAY/O na Haven é de: \" + str(probKOHaven*100) + \"%\")\n",
        "\n",
        "probCCha= round(len(valorant[(valorant['Map'] == 4) & (valorant['Name'] == 3)])/len(valorant), 4)\n",
        "\n",
        "probChaHaven = probCCha/probHaven\n",
        "print(\"A probabilidade de ser um Chamber na Haven é de: \" + str(probChaHaven*100) + \"%\")\n",
        "\n",
        "probCNeon= round(len(valorant[(valorant['Map'] == 4) & (valorant['Name'] == 10)])/len(valorant), 4)\n",
        "\n",
        "probNeonHaven = probCNeon/probHaven\n",
        "print(\"A probabilidade de ser uma Neon na Haven é de: \" + str(probNeonHaven*100) + \"%\")\n",
        "\n",
        "probCFade= round(len(valorant[(valorant['Map'] == 4) & (valorant['Name'] == 5)])/len(valorant), 4)\n",
        "\n",
        "probFadeHaven = probCFade/probHaven\n",
        "print(\"A probabilidade de ser uma Fade na Haven é de: \" + str(probFadeHaven*100) + \"%\")\n",
        "\n",
        "probCHar= round(len(valorant[(valorant['Map'] == 4) & (valorant['Name'] == 6)])/len(valorant), 4)\n",
        "\n",
        "probHarHaven = probCHar/probHaven\n",
        "print(\"A probabilidade de ser um Harbor na Haven é de: \" + str(probHarHaven*100) + \"%\")"
      ],
      "metadata": {
        "colab": {
          "base_uri": "https://localhost:8080/"
        },
        "id": "iekwopBhykEs",
        "outputId": "c3d2b9e7-e7f7-4ca1-afee-150e606590c2"
      },
      "execution_count": null,
      "outputs": [
        {
          "output_type": "stream",
          "name": "stdout",
          "text": [
            "A probabilidade de ser um Brimstone na Haven é de: 5.065123010130247%\n",
            "A probabilidade de ser uma Viper na Haven é de: 4.92040520984081%\n",
            "A probabilidade de ser uma Sage na Haven é de: 4.92040520984081%\n",
            "A probabilidade de ser um Omen na Haven é de: 5.065123010130247%\n",
            "A probabilidade de ser um Phoenix na Haven é de: 5.065123010130247%\n",
            "A probabilidade de ser um Sova na Haven é de: 4.92040520984081%\n",
            "A probabilidade de ser um Cypher na Haven é de: 5.065123010130247%\n",
            "A probabilidade de ser um Breach na Haven é de: 5.065123010130247%\n",
            "A probabilidade de ser uma Jett na Haven é de: 5.065123010130247%\n",
            "A probabilidade de ser uma Raze na Haven é de: 5.065123010130247%\n",
            "A probabilidade de ser uma Reyna na Haven é de: 5.065123010130247%\n",
            "A probabilidade de ser uma Killjoy na Haven é de: 4.92040520984081%\n",
            "A probabilidade de ser uma Skye na Haven é de: 4.92040520984081%\n",
            "A probabilidade de ser um Yoru na Haven é de: 5.065123010130247%\n",
            "A probabilidade de ser uma Astra na Haven é de: 4.92040520984081%\n",
            "A probabilidade de ser um KAY/O na Haven é de: 5.065123010130247%\n",
            "A probabilidade de ser um Chamber na Haven é de: 4.92040520984081%\n",
            "A probabilidade de ser uma Neon na Haven é de: 5.065123010130247%\n",
            "A probabilidade de ser uma Fade na Haven é de: 5.065123010130247%\n",
            "A probabilidade de ser um Harbor na Haven é de: 4.92040520984081%\n"
          ]
        }
      ]
    },
    {
      "cell_type": "markdown",
      "source": [
        "Os agentes mais escolhidos na Haven são: Brimstone, Omen, Phoenix, Cypher, Breach, Jett, Raze, Reyna, Yoru, KAY/O, Neon, Fade. Aqui vemos que além de Neon e Raze, também aparece uma repetição de Phoenix. Como falado acima, é muito provavel que isso ocorra pelo tamanho da amostra, mas a um outro fator que talvez determine essa probabilidade alta: as classes de agentes.\n",
        "\n",
        "Existem 4 classes de agentes e não há um limite por time sobre essas classes. As classes são: Controlador, Duelista, Iniciador e Sentinela. Um breve resumo sobre elas: Controladores focam em prejudicar a visao dos inimigos, aqueles que possuem smokes(fumaças circulares que atrapalham visão); Duelista são abatedores indepentes com habilidades que focam nisso; Iniciadores são os resposável por quebrar a defesa; Sentinelas são responsavéis por defender o bomb.\n",
        "\n",
        "Com isso explicado, dos agentes acima, Phoenix, Jett, Raze, Reyna, Yoru e Neon são os Duelistas do jogo, e, como falado anteriormente, a amostra esta levando em cosideração modos de jogo que não dependem de estratégia, então, dito isso, é provável que os demais jogadores escolham esses agentes por focaram mais em combate."
      ],
      "metadata": {
        "id": "0uLfdZL30ofn"
      }
    },
    {
      "cell_type": "markdown",
      "source": [
        "**Split = 8**"
      ],
      "metadata": {
        "id": "smg1QMvn01w9"
      }
    },
    {
      "cell_type": "code",
      "source": [
        "probSplit = round(len(valorant[valorant['Map'] == 8])/len(valorant), 4)\n",
        "\n",
        "probCBrim = round(len(valorant[(valorant['Map'] == 8) & (valorant['Name'] == 2)])/len(valorant), 4)\n",
        "\n",
        "probBrimSplit= probCBrim/probSplit\n",
        "print(\"A probabilidade de ser um Brimstone na Split é de: \" + str(probBrimSplit*100) + \"%\")\n",
        "\n",
        "probCViper = round(len(valorant[(valorant['Map'] == 8) & (valorant['Name'] == 18)])/len(valorant), 4)\n",
        "\n",
        "probViperSplit = probCViper/probSplit\n",
        "print(\"A probabilidade de ser uma Viper na Split é de: \" + str(probViperSplit*100) + \"%\")\n",
        "\n",
        "probCSage= round(len(valorant[(valorant['Map'] == 8) & (valorant['Name'] == 15)])/len(valorant), 4)\n",
        "\n",
        "probSageSplit = probCSage/probSplit\n",
        "print(\"A probabilidade de ser uma Sage na Split é de: \" + str(probSageSplit*100) + \"%\")\n",
        "\n",
        "probCOmen= round(len(valorant[(valorant['Map'] == 8) & (valorant['Name'] == 11)])/len(valorant), 4)\n",
        "\n",
        "probOmenSplit = probCOmen/probSplit\n",
        "print(\"A probabilidade de ser um Omen na Split é de: \" + str(probOmenSplit*100) + \"%\")\n",
        "\n",
        "probCFN= round(len(valorant[(valorant['Map'] == 8) & (valorant['Name'] == 12)])/len(valorant), 4)\n",
        "\n",
        "probFNSplit = probCFN/probSplit\n",
        "print(\"A probabilidade de ser um Phoenix na Split é de: \" + str(probFNSplit*100) + \"%\")\n",
        "\n",
        "probCSova= round(len(valorant[(valorant['Map'] == 8) & (valorant['Name'] == 17)])/len(valorant), 4)\n",
        "\n",
        "probSovaSplit = probCSova/probSplit\n",
        "print(\"A probabilidade de ser um Sova na Split é de: \" + str(probSovaSplit*100) + \"%\")\n",
        "\n",
        "probCCY= round(len(valorant[(valorant['Map'] == 8) & (valorant['Name'] == 4)])/len(valorant), 4)\n",
        "\n",
        "probCYSplit = probCCY/probSplit\n",
        "print(\"A probabilidade de ser um Cypher na Split é de: \" + str(probCYSplit*100) + \"%\")\n",
        "\n",
        "probCBreach= round(len(valorant[(valorant['Map'] == 8) & (valorant['Name'] == 1)])/len(valorant), 4)\n",
        "\n",
        "probBreachSplit = probCBreach/probSplit\n",
        "print(\"A probabilidade de ser um Breach na Split é de: \" + str(probBreachSplit*100) + \"%\")\n",
        "\n",
        "probCJett= round(len(valorant[(valorant['Map'] == 8) & (valorant['Name'] == 7)])/len(valorant), 4)\n",
        "\n",
        "probJettSplit = probCJett/probSplit\n",
        "print(\"A probabilidade de ser uma Jett na Split é de: \" + str(probJettSplit*100) + \"%\")\n",
        "\n",
        "probCRaze = round(len(valorant[(valorant['Map'] == 8) & (valorant['Name'] == 13)])/len(valorant), 4)\n",
        "\n",
        "probRazeSplit = probCRaze/probSplit\n",
        "print(\"A probabilidade de ser uma Raze na Split é de: \" + str(probRazeSplit*100) + \"%\")\n",
        "\n",
        "probCRey= round(len(valorant[(valorant['Map'] == 8) & (valorant['Name'] == 14)])/len(valorant), 4)\n",
        "\n",
        "probReySplit = probCRey/probSplit\n",
        "print(\"A probabilidade de ser uma Reyna na Split é de: \" + str(probReySplit*100) + \"%\")\n",
        "\n",
        "probCKJ= round(len(valorant[(valorant['Map'] == 8) & (valorant['Name'] == 9)])/len(valorant), 4)\n",
        "\n",
        "probKJSplit = probCKJ/probSplit\n",
        "print(\"A probabilidade de ser uma Killjoy na Split é de: \" + str(probKJSplit*100) + \"%\")\n",
        "\n",
        "probCSkye= round(len(valorant[(valorant['Map'] == 8) & (valorant['Name'] == 16)])/len(valorant), 4)\n",
        "\n",
        "probSkyeSplit = probCSkye/probSplit\n",
        "print(\"A probabilidade de ser uma Skye na Split é de: \" + str(probSkyeSplit*100) + \"%\")\n",
        "\n",
        "probCYoru= round(len(valorant[(valorant['Map'] == 8) & (valorant['Name'] == 19)])/len(valorant), 4)\n",
        "\n",
        "probYoruSplit = probCYoru/probSplit\n",
        "print(\"A probabilidade de ser um Yoru na Split é de: \" + str(probYoruSplit*100) + \"%\")\n",
        "\n",
        "probCAS= round(len(valorant[(valorant['Map'] == 8) & (valorant['Name'] == 0)])/len(valorant), 4)\n",
        "\n",
        "probASSplit = probCAS/probSplit\n",
        "print(\"A probabilidade de ser uma Astra na Split é de: \" + str(probASSplit*100) + \"%\")\n",
        "\n",
        "probCKO= round(len(valorant[(valorant['Map'] == 8) & (valorant['Name'] == 8)])/len(valorant), 4)\n",
        "\n",
        "probKOSplit = probCKO/probSplit\n",
        "print(\"A probabilidade de ser um KAY/O na Split é de: \" + str(probKOSplit*100) + \"%\")\n",
        "\n",
        "probCCha= round(len(valorant[(valorant['Map'] == 8) & (valorant['Name'] == 3)])/len(valorant), 4)\n",
        "\n",
        "probChaSplit = probCCha/probSplit\n",
        "print(\"A probabilidade de ser um Chamber na Split é de: \" + str(probChaSplit*100) + \"%\")\n",
        "\n",
        "probCNeon= round(len(valorant[(valorant['Map'] == 8) & (valorant['Name'] == 10)])/len(valorant), 4)\n",
        "\n",
        "probNeonSplit = probCNeon/probSplit\n",
        "print(\"A probabilidade de ser uma Neon na Split é de: \" + str(probNeonSplit*100) + \"%\")\n",
        "\n",
        "probCFade= round(len(valorant[(valorant['Map'] == 8) & (valorant['Name'] == 5)])/len(valorant), 4)\n",
        "\n",
        "probFadeSplit = probCFade/probSplit\n",
        "print(\"A probabilidade de ser uma Fade na Split é de: \" + str(probFadeSplit*100) + \"%\")\n",
        "\n",
        "probCHar= round(len(valorant[(valorant['Map'] == 8) & (valorant['Name'] == 6)])/len(valorant), 4)\n",
        "\n",
        "probHarSplit = probCHar/probSplit\n",
        "print(\"A probabilidade de ser um Harbor na Split é de: \" + str(probHarSplit*100) + \"%\")"
      ],
      "metadata": {
        "colab": {
          "base_uri": "https://localhost:8080/"
        },
        "id": "DekhaX1f1AvL",
        "outputId": "43282206-c3de-41c6-862b-4596f26c6a0e"
      },
      "execution_count": null,
      "outputs": [
        {
          "output_type": "stream",
          "name": "stdout",
          "text": [
            "A probabilidade de ser um Brimstone na Split é de: 4.938271604938272%\n",
            "A probabilidade de ser uma Viper na Split é de: 4.938271604938272%\n",
            "A probabilidade de ser uma Sage na Split é de: 5.083514887436456%\n",
            "A probabilidade de ser um Omen na Split é de: 5.083514887436456%\n",
            "A probabilidade de ser um Phoenix na Split é de: 4.938271604938272%\n",
            "A probabilidade de ser um Sova na Split é de: 4.938271604938272%\n",
            "A probabilidade de ser um Cypher na Split é de: 4.938271604938272%\n",
            "A probabilidade de ser um Breach na Split é de: 5.083514887436456%\n",
            "A probabilidade de ser uma Jett na Split é de: 5.083514887436456%\n",
            "A probabilidade de ser uma Raze na Split é de: 5.083514887436456%\n",
            "A probabilidade de ser uma Reyna na Split é de: 5.083514887436456%\n",
            "A probabilidade de ser uma Killjoy na Split é de: 4.938271604938272%\n",
            "A probabilidade de ser uma Skye na Split é de: 4.938271604938272%\n",
            "A probabilidade de ser um Yoru na Split é de: 4.938271604938272%\n",
            "A probabilidade de ser uma Astra na Split é de: 4.938271604938272%\n",
            "A probabilidade de ser um KAY/O na Split é de: 5.083514887436456%\n",
            "A probabilidade de ser um Chamber na Split é de: 5.083514887436456%\n",
            "A probabilidade de ser uma Neon na Split é de: 5.083514887436456%\n",
            "A probabilidade de ser uma Fade na Split é de: 4.938271604938272%\n",
            "A probabilidade de ser um Harbor na Split é de: 5.083514887436456%\n"
          ]
        }
      ]
    },
    {
      "cell_type": "markdown",
      "source": [
        "Os agentes mais escolhida na Split são: Sage, Omen, Breach, Jett, Raze, Reyna, KAY/O, Chamber, Neon e Harbor. Destes agente, Sage, Omen, Breach e KAY/O se demonstram ser agentes com habilidades bem flexivéis visto que já apareceram em outros mapas. Já Chamber e Harbor, são agentes que, respectivamente, trabalham com longas distancias, e, conseguem tapar uma grande área de visão, aspectos que estão presentes no mapa da Split."
      ],
      "metadata": {
        "id": "12WnwunV4zxh"
      }
    },
    {
      "cell_type": "markdown",
      "source": [
        "**Ascent = 0**"
      ],
      "metadata": {
        "id": "KZu6nu994-Ik"
      }
    },
    {
      "cell_type": "code",
      "source": [
        "probAscent = round(len(valorant[valorant['Map'] == 0])/len(valorant), 4)\n",
        "\n",
        "probCBrim = round(len(valorant[(valorant['Map'] == 0) & (valorant['Name'] == 2)])/len(valorant), 4)\n",
        "\n",
        "probBrimAscent= probCBrim/probAscent\n",
        "print(\"A probabilidade de ser um Brimstone na Ascent é de: \" + str(probBrimAscent*100) + \"%\")\n",
        "\n",
        "probCViper = round(len(valorant[(valorant['Map'] == 0) & (valorant['Name'] == 18)])/len(valorant), 4)\n",
        "\n",
        "probViperAscent = probCViper/probAscent\n",
        "print(\"A probabilidade de ser uma Viper na Ascent é de: \" + str(probViperAscent*100) + \"%\")\n",
        "\n",
        "probCSage= round(len(valorant[(valorant['Map'] == 0) & (valorant['Name'] == 15)])/len(valorant), 4)\n",
        "\n",
        "probSageAscent = probCSage/probAscent\n",
        "print(\"A probabilidade de ser uma Sage na Ascent é de: \" + str(probSageAscent*100) + \"%\")\n",
        "\n",
        "probCOmen= round(len(valorant[(valorant['Map'] == 0) & (valorant['Name'] == 11)])/len(valorant), 4)\n",
        "\n",
        "probOmenAscent = probCOmen/probAscent\n",
        "print(\"A probabilidade de ser um Omen na Ascent é de: \" + str(probOmenAscent*100) + \"%\")\n",
        "\n",
        "probCFN= round(len(valorant[(valorant['Map'] == 0) & (valorant['Name'] == 12)])/len(valorant), 4)\n",
        "\n",
        "probFNAscent = probCFN/probAscent\n",
        "print(\"A probabilidade de ser um Phoenix na Ascent é de: \" + str(probFNAscent*100) + \"%\")\n",
        "\n",
        "probCSova= round(len(valorant[(valorant['Map'] == 0) & (valorant['Name'] == 17)])/len(valorant), 4)\n",
        "\n",
        "probSovaAscent = probCSova/probAscent\n",
        "print(\"A probabilidade de ser um Sova na Ascent é de: \" + str(probSovaAscent*100) + \"%\")\n",
        "\n",
        "probCCY= round(len(valorant[(valorant['Map'] == 0) & (valorant['Name'] == 4)])/len(valorant), 4)\n",
        "\n",
        "probCYAscent = probCCY/probAscent\n",
        "print(\"A probabilidade de ser um Cypher na Ascent é de: \" + str(probCYAscent*100) + \"%\")\n",
        "\n",
        "probCBreach= round(len(valorant[(valorant['Map'] == 0) & (valorant['Name'] == 1)])/len(valorant), 4)\n",
        "\n",
        "probBreachAscent = probCBreach/probAscent\n",
        "print(\"A probabilidade de ser um Breach na Ascent é de: \" + str(probBreachAscent*100) + \"%\")\n",
        "\n",
        "probCJett= round(len(valorant[(valorant['Map'] == 0) & (valorant['Name'] == 7)])/len(valorant), 4)\n",
        "\n",
        "probJettAscent = probCJett/probAscent\n",
        "print(\"A probabilidade de ser uma Jett na Ascent é de: \" + str(probJettAscent*100) + \"%\")\n",
        "\n",
        "probCRaze = round(len(valorant[(valorant['Map'] == 0) & (valorant['Name'] == 13)])/len(valorant), 4)\n",
        "\n",
        "probRazeAscent = probCRaze/probAscent\n",
        "print(\"A probabilidade de ser uma Raze na Ascent é de: \" + str(probRazeAscent*100) + \"%\")\n",
        "\n",
        "probCRey= round(len(valorant[(valorant['Map'] == 0) & (valorant['Name'] == 14)])/len(valorant), 4)\n",
        "\n",
        "probReyAscent = probCRey/probAscent\n",
        "print(\"A probabilidade de ser uma Reyna na Ascent é de: \" + str(probReyAscent*100) + \"%\")\n",
        "\n",
        "probCKJ= round(len(valorant[(valorant['Map'] == 0) & (valorant['Name'] == 9)])/len(valorant), 4)\n",
        "\n",
        "probKJAscent = probCKJ/probAscent\n",
        "print(\"A probabilidade de ser uma Killjoy na Ascent é de: \" + str(probKJAscent*100) + \"%\")\n",
        "\n",
        "probCSkye= round(len(valorant[(valorant['Map'] == 0) & (valorant['Name'] == 16)])/len(valorant), 4)\n",
        "\n",
        "probSkyeAscent = probCSkye/probAscent\n",
        "print(\"A probabilidade de ser uma Skye na Ascent é de: \" + str(probSkyeAscent*100) + \"%\")\n",
        "\n",
        "probCYoru= round(len(valorant[(valorant['Map'] == 0) & (valorant['Name'] == 19)])/len(valorant), 4)\n",
        "\n",
        "probYoruAscent = probCYoru/probAscent\n",
        "print(\"A probabilidade de ser um Yoru na Ascent é de: \" + str(probYoruAscent*100) + \"%\")\n",
        "\n",
        "probCAS= round(len(valorant[(valorant['Map'] == 0) & (valorant['Name'] == 0)])/len(valorant), 4)\n",
        "\n",
        "probASAscent = probCAS/probAscent\n",
        "print(\"A probabilidade de ser uma Astra na Ascent é de: \" + str(probASAscent*100) + \"%\")\n",
        "\n",
        "probCKO= round(len(valorant[(valorant['Map'] == 0) & (valorant['Name'] == 8)])/len(valorant), 4)\n",
        "\n",
        "probKOAscent = probCKO/probAscent\n",
        "print(\"A probabilidade de ser um KAY/O na Ascent é de: \" + str(probKOAscent*100) + \"%\")\n",
        "\n",
        "probCCha= round(len(valorant[(valorant['Map'] == 0) & (valorant['Name'] == 3)])/len(valorant), 4)\n",
        "\n",
        "probChaAscent = probCCha/probAscent\n",
        "print(\"A probabilidade de ser um Chamber na Ascent é de: \" + str(probChaAscent*100) + \"%\")\n",
        "\n",
        "probCNeon= round(len(valorant[(valorant['Map'] == 0) & (valorant['Name'] == 10)])/len(valorant), 4)\n",
        "\n",
        "probNeonAscent = probCNeon/probAscent\n",
        "print(\"A probabilidade de ser uma Neon na Ascent é de: \" + str(probNeonAscent*100) + \"%\")\n",
        "\n",
        "probCFade= round(len(valorant[(valorant['Map'] == 0) & (valorant['Name'] == 5)])/len(valorant), 4)\n",
        "\n",
        "probFadeAscent = probCFade/probAscent\n",
        "print(\"A probabilidade de ser uma Fade na Ascent é de: \" + str(probFadeAscent*100) + \"%\")\n",
        "\n",
        "probCHar= round(len(valorant[(valorant['Map'] == 0) & (valorant['Name'] == 6)])/len(valorant), 4)\n",
        "\n",
        "probHarAscent = probCHar/probAscent\n",
        "print(\"A probabilidade de ser um Harbor na Ascent é de: \" + str(probHarAscent*100) + \"%\")"
      ],
      "metadata": {
        "colab": {
          "base_uri": "https://localhost:8080/"
        },
        "id": "5zsIMWi9nIZ4",
        "outputId": "773528f5-1500-4689-937b-7cad89d232a4"
      },
      "execution_count": null,
      "outputs": [
        {
          "output_type": "stream",
          "name": "stdout",
          "text": [
            "A probabilidade de ser um Brimstone na Ascent é de: 4.938271604938272%\n",
            "A probabilidade de ser uma Viper na Ascent é de: 4.938271604938272%\n",
            "A probabilidade de ser uma Sage na Ascent é de: 5.083514887436456%\n",
            "A probabilidade de ser um Omen na Ascent é de: 4.938271604938272%\n",
            "A probabilidade de ser um Phoenix na Ascent é de: 5.083514887436456%\n",
            "A probabilidade de ser um Sova na Ascent é de: 4.938271604938272%\n",
            "A probabilidade de ser um Cypher na Ascent é de: 5.083514887436456%\n",
            "A probabilidade de ser um Breach na Ascent é de: 5.083514887436456%\n",
            "A probabilidade de ser uma Jett na Ascent é de: 5.083514887436456%\n",
            "A probabilidade de ser uma Raze na Ascent é de: 5.083514887436456%\n",
            "A probabilidade de ser uma Reyna na Ascent é de: 5.083514887436456%\n",
            "A probabilidade de ser uma Killjoy na Ascent é de: 4.938271604938272%\n",
            "A probabilidade de ser uma Skye na Ascent é de: 4.938271604938272%\n",
            "A probabilidade de ser um Yoru na Ascent é de: 5.083514887436456%\n",
            "A probabilidade de ser uma Astra na Ascent é de: 5.083514887436456%\n",
            "A probabilidade de ser um KAY/O na Ascent é de: 4.938271604938272%\n",
            "A probabilidade de ser um Chamber na Ascent é de: 4.938271604938272%\n",
            "A probabilidade de ser uma Neon na Ascent é de: 5.083514887436456%\n",
            "A probabilidade de ser uma Fade na Ascent é de: 4.938271604938272%\n",
            "A probabilidade de ser um Harbor na Ascent é de: 4.938271604938272%\n"
          ]
        }
      ]
    },
    {
      "cell_type": "markdown",
      "source": [
        "Com isso, pode-se verificar que os agentes mais jogados na Ascent são: Sage, Phoenix, Cypher, Breach, Jett, Raze, Reyna, Yoru, Astra e Neon. Além dos agentes já mencionados, o Cypher aparece em outros mapas, isso devido a sua eficiencia em lugares fechados, algo que se encontra em Ascent."
      ],
      "metadata": {
        "id": "sF7rhLnhrWra"
      }
    },
    {
      "cell_type": "markdown",
      "source": [
        "**Icebox = 5**"
      ],
      "metadata": {
        "id": "Rml5j-DqsBbm"
      }
    },
    {
      "cell_type": "code",
      "source": [
        "probIcebox = round(len(valorant[valorant['Map'] == 5])/len(valorant), 4)\n",
        "\n",
        "probCBrim = round(len(valorant[(valorant['Map'] == 5) & (valorant['Name'] == 2)])/len(valorant), 4)\n",
        "\n",
        "probBrimIcebox= probCBrim/probIcebox\n",
        "print(\"A probabilidade de ser um Brimstone na Icebox é de: \" + str(probBrimIcebox*100) + \"%\")\n",
        "\n",
        "probCViper = round(len(valorant[(valorant['Map'] == 5) & (valorant['Name'] == 18)])/len(valorant), 4)\n",
        "\n",
        "probViperIcebox = probCViper/probIcebox\n",
        "print(\"A probabilidade de ser uma Viper na Icebox é de: \" + str(probViperIcebox*100) + \"%\")\n",
        "\n",
        "probCSage= round(len(valorant[(valorant['Map'] == 5) & (valorant['Name'] == 15)])/len(valorant), 4)\n",
        "\n",
        "probSageIcebox = probCSage/probIcebox\n",
        "print(\"A probabilidade de ser uma Sage na Icebox é de: \" + str(probSageIcebox*100) + \"%\")\n",
        "\n",
        "probCOmen= round(len(valorant[(valorant['Map'] == 5) & (valorant['Name'] == 11)])/len(valorant), 4)\n",
        "\n",
        "probOmenIcebox = probCOmen/probIcebox\n",
        "print(\"A probabilidade de ser um Omen na Icebox é de: \" + str(probOmenIcebox*100) + \"%\")\n",
        "\n",
        "probCFN= round(len(valorant[(valorant['Map'] == 5) & (valorant['Name'] == 12)])/len(valorant), 4)\n",
        "\n",
        "probFNIcebox = probCFN/probIcebox\n",
        "print(\"A probabilidade de ser um Phoenix na Icebox é de: \" + str(probFNIcebox*100) + \"%\")\n",
        "\n",
        "probCSova= round(len(valorant[(valorant['Map'] == 5) & (valorant['Name'] == 17)])/len(valorant), 4)\n",
        "\n",
        "probSovaIcebox = probCSova/probIcebox\n",
        "print(\"A probabilidade de ser um Sova na Icebox é de: \" + str(probSovaIcebox*100) + \"%\")\n",
        "\n",
        "probCCY= round(len(valorant[(valorant['Map'] == 5) & (valorant['Name'] == 4)])/len(valorant), 4)\n",
        "\n",
        "probCYIcebox = probCCY/probIcebox\n",
        "print(\"A probabilidade de ser um Cypher na Icebox é de: \" + str(probCYIcebox*100) + \"%\")\n",
        "\n",
        "probCBreach= round(len(valorant[(valorant['Map'] == 5) & (valorant['Name'] == 1)])/len(valorant), 4)\n",
        "\n",
        "probBreachIcebox = probCBreach/probIcebox\n",
        "print(\"A probabilidade de ser um Breach na Icebox é de: \" + str(probBreachIcebox*100) + \"%\")\n",
        "\n",
        "probCJett= round(len(valorant[(valorant['Map'] == 5) & (valorant['Name'] == 7)])/len(valorant), 4)\n",
        "\n",
        "probJettIcebox = probCJett/probIcebox\n",
        "print(\"A probabilidade de ser uma Jett na Icebox é de: \" + str(probJettIcebox*100) + \"%\")\n",
        "\n",
        "probCIcebox = round(len(valorant[(valorant['Map'] == 5) & (valorant['Name'] == 13)])/len(valorant), 4)\n",
        "\n",
        "probRazeIcebox = probCRaze/probIcebox\n",
        "print(\"A probabilidade de ser uma Raze na Icebox é de: \" + str(probRazeIcebox*100) + \"%\")\n",
        "\n",
        "probCRey= round(len(valorant[(valorant['Map'] == 5) & (valorant['Name'] == 14)])/len(valorant), 4)\n",
        "\n",
        "probReyIcebox = probCRey/probIcebox\n",
        "print(\"A probabilidade de ser uma Reyna na Icebox é de: \" + str(probReyIcebox*100) + \"%\")\n",
        "\n",
        "probCKJ= round(len(valorant[(valorant['Map'] == 5) & (valorant['Name'] == 9)])/len(valorant), 4)\n",
        "\n",
        "probKJIcebox = probCKJ/probIcebox\n",
        "print(\"A probabilidade de ser uma Killjoy na Icebox é de: \" + str(probKJIcebox*100) + \"%\")\n",
        "\n",
        "probCSkye= round(len(valorant[(valorant['Map'] == 5) & (valorant['Name'] == 16)])/len(valorant), 4)\n",
        "\n",
        "probSkyeIcebox = probCSkye/probIcebox\n",
        "print(\"A probabilidade de ser uma Skye na Icebox é de: \" + str(probSkyeIcebox*100) + \"%\")\n",
        "\n",
        "probCYoru= round(len(valorant[(valorant['Map'] == 5) & (valorant['Name'] == 19)])/len(valorant), 4)\n",
        "\n",
        "probYoruIcebox = probCYoru/probIcebox\n",
        "print(\"A probabilidade de ser um Yoru na Icebox é de: \" + str(probYoruIcebox*100) + \"%\")\n",
        "\n",
        "probCAS= round(len(valorant[(valorant['Map'] == 5) & (valorant['Name'] == 0)])/len(valorant), 4)\n",
        "\n",
        "probASIcebox = probCAS/probIcebox\n",
        "print(\"A probabilidade de ser uma Astra na Icebox é de: \" + str(probASIcebox*100) + \"%\")\n",
        "\n",
        "probCKO= round(len(valorant[(valorant['Map'] == 5) & (valorant['Name'] == 8)])/len(valorant), 4)\n",
        "\n",
        "probKOIcebox = probCKO/probIcebox\n",
        "print(\"A probabilidade de ser um KAY/O na Icebox é de: \" + str(probKOIcebox*100) + \"%\")\n",
        "\n",
        "probCCha= round(len(valorant[(valorant['Map'] == 5) & (valorant['Name'] == 3)])/len(valorant), 4)\n",
        "\n",
        "probChaIcebox = probCCha/probIcebox\n",
        "print(\"A probabilidade de ser um Chamber na Icebox é de: \" + str(probChaIcebox*100) + \"%\")\n",
        "\n",
        "probCNeon= round(len(valorant[(valorant['Map'] == 5) & (valorant['Name'] == 10)])/len(valorant), 4)\n",
        "\n",
        "probNeonIcebox = probCNeon/probIcebox\n",
        "print(\"A probabilidade de ser uma Neon na Icebox é de: \" + str(probNeonIcebox*100) + \"%\")\n",
        "\n",
        "probCFade= round(len(valorant[(valorant['Map'] == 5) & (valorant['Name'] == 5)])/len(valorant), 4)\n",
        "\n",
        "probFadeIcebox = probCFade/probIcebox\n",
        "print(\"A probabilidade de ser uma Fade na Icebox é de: \" + str(probFadeIcebox*100) + \"%\")\n",
        "\n",
        "probCHar= round(len(valorant[(valorant['Map'] == 5) & (valorant['Name'] == 6)])/len(valorant), 4)\n",
        "\n",
        "probHarIcebox = probCHar/probIcebox\n",
        "print(\"A probabilidade de ser um Harbor na Icebox é de: \" + str(probHarAscent*100) + \"%\")"
      ],
      "metadata": {
        "colab": {
          "base_uri": "https://localhost:8080/"
        },
        "id": "DJRLuNkusJrq",
        "outputId": "822579e5-6873-40d4-8c10-c5781ecafd5e"
      },
      "execution_count": null,
      "outputs": [
        {
          "output_type": "stream",
          "name": "stdout",
          "text": [
            "A probabilidade de ser um Brimstone na Icebox é de: 4.852941176470588%\n",
            "A probabilidade de ser uma Viper na Icebox é de: 5.0%\n",
            "A probabilidade de ser uma Sage na Icebox é de: 5.147058823529411%\n",
            "A probabilidade de ser um Omen na Icebox é de: 5.0%\n",
            "A probabilidade de ser um Phoenix na Icebox é de: 5.0%\n",
            "A probabilidade de ser um Sova na Icebox é de: 5.0%\n",
            "A probabilidade de ser um Cypher na Icebox é de: 5.0%\n",
            "A probabilidade de ser um Breach na Icebox é de: 5.0%\n",
            "A probabilidade de ser uma Jett na Icebox é de: 5.0%\n",
            "A probabilidade de ser uma Raze na Icebox é de: 5.147058823529411%\n",
            "A probabilidade de ser uma Reyna na Icebox é de: 5.147058823529411%\n",
            "A probabilidade de ser uma Killjoy na Icebox é de: 5.0%\n",
            "A probabilidade de ser uma Skye na Icebox é de: 5.0%\n",
            "A probabilidade de ser um Yoru na Icebox é de: 5.147058823529411%\n",
            "A probabilidade de ser uma Astra na Icebox é de: 4.852941176470588%\n",
            "A probabilidade de ser um KAY/O na Icebox é de: 5.0%\n",
            "A probabilidade de ser um Chamber na Icebox é de: 5.0%\n",
            "A probabilidade de ser uma Neon na Icebox é de: 5.147058823529411%\n",
            "A probabilidade de ser uma Fade na Icebox é de: 4.852941176470588%\n",
            "A probabilidade de ser um Harbor na Icebox é de: 4.938271604938272%\n"
          ]
        }
      ]
    },
    {
      "cell_type": "markdown",
      "source": [
        "Com isso, verifica-se que os agentes mais utilizados na Icebox são: Sage, Raze, Reyna, Yoru e Neon. Neste mapa, vale destacar duas agentes que ganham outras nuâncias aqui: Sage e Raze. A flexibilidade da Sage esta em impedir a passagem, algo de extrema importancia neste mapa, alem de, lugares fechados também são algo que a Raze sabe aproveitar com suas habilidades, além do favoritismo mencionado anteriormente."
      ],
      "metadata": {
        "id": "kSGTZlNpuWdW"
      }
    },
    {
      "cell_type": "markdown",
      "source": [
        "**Breeze = 2**"
      ],
      "metadata": {
        "id": "mc8eCXcTulqw"
      }
    },
    {
      "cell_type": "code",
      "source": [
        "probBreeze = round(len(valorant[valorant['Map'] == 2])/len(valorant), 4)\n",
        "\n",
        "probCBrim = round(len(valorant[(valorant['Map'] == 2) & (valorant['Name'] == 2)])/len(valorant), 4)\n",
        "\n",
        "probBrimBreeze= probCBrim/probBreeze\n",
        "print(\"A probabilidade de ser um Brimstone na Breeze é de: \" + str(probBrimBreeze*100) + \"%\")\n",
        "\n",
        "probCViper = round(len(valorant[(valorant['Map'] == 2) & (valorant['Name'] == 18)])/len(valorant), 4)\n",
        "\n",
        "probViperBreeze = probCViper/probBreeze\n",
        "print(\"A probabilidade de ser uma Viper na Breeze é de: \" + str(probViperBreeze*100) + \"%\")\n",
        "\n",
        "probCSage= round(len(valorant[(valorant['Map'] == 2) & (valorant['Name'] == 15)])/len(valorant), 4)\n",
        "\n",
        "probSageBreeze = probCSage/probBreeze\n",
        "print(\"A probabilidade de ser uma Sage na Breeze é de: \" + str(probSageBreeze*100) + \"%\")\n",
        "\n",
        "probCOmen= round(len(valorant[(valorant['Map'] == 2) & (valorant['Name'] == 11)])/len(valorant), 4)\n",
        "\n",
        "probOmenBreeze = probCOmen/probBreeze\n",
        "print(\"A probabilidade de ser um Omen na Breeze é de: \" + str(probOmenBreeze*100) + \"%\")\n",
        "\n",
        "probCFN= round(len(valorant[(valorant['Map'] == 2) & (valorant['Name'] == 12)])/len(valorant), 4)\n",
        "\n",
        "probFNBreeze = probCFN/probBreeze\n",
        "print(\"A probabilidade de ser um Phoenix na Breeze é de: \" + str(probFNBreeze*100) + \"%\")\n",
        "\n",
        "probCSova= round(len(valorant[(valorant['Map'] == 2) & (valorant['Name'] == 17)])/len(valorant), 4)\n",
        "\n",
        "probSovaBreeze = probCSova/probBreeze\n",
        "print(\"A probabilidade de ser um Sova na Breeze é de: \" + str(probSovaBreeze*100) + \"%\")\n",
        "\n",
        "probCCY= round(len(valorant[(valorant['Map'] == 2) & (valorant['Name'] == 4)])/len(valorant), 4)\n",
        "\n",
        "probCYBreeze = probCCY/probBreeze\n",
        "print(\"A probabilidade de ser um Cypher na Breeze é de: \" + str(probCYBreeze*100) + \"%\")\n",
        "\n",
        "probCBreach= round(len(valorant[(valorant['Map'] == 2) & (valorant['Name'] == 1)])/len(valorant), 4)\n",
        "\n",
        "probBreachBreeze = probCBreach/probBreeze\n",
        "print(\"A probabilidade de ser um Breach na Breeze é de: \" + str(probBreachBreeze*100) + \"%\")\n",
        "\n",
        "probCJett= round(len(valorant[(valorant['Map'] == 2) & (valorant['Name'] == 7)])/len(valorant), 4)\n",
        "\n",
        "probJettBreeze = probCJett/probBreeze\n",
        "print(\"A probabilidade de ser uma Jett na Breeze é de: \" + str(probJettBreeze*100) + \"%\")\n",
        "\n",
        "probCRaze = round(len(valorant[(valorant['Map'] == 2) & (valorant['Name'] == 13)])/len(valorant), 4)\n",
        "\n",
        "probRazeBreeze = probCRaze/probBreeze\n",
        "print(\"A probabilidade de ser uma Raze na Breeze é de: \" + str(probRazeBreeze*100) + \"%\")\n",
        "\n",
        "probCRey= round(len(valorant[(valorant['Map'] == 2) & (valorant['Name'] == 14)])/len(valorant), 4)\n",
        "\n",
        "probReyBreeze = probCRey/probBreeze\n",
        "print(\"A probabilidade de ser uma Reyna na Breeze é de: \" + str(probReyBreeze*100) + \"%\")\n",
        "\n",
        "probCKJ= round(len(valorant[(valorant['Map'] == 2) & (valorant['Name'] == 9)])/len(valorant), 4)\n",
        "\n",
        "probKJBreeze = probCKJ/probBreeze\n",
        "print(\"A probabilidade de ser uma Killjoy na Breeze é de: \" + str(probKJBreeze*100) + \"%\")\n",
        "\n",
        "probCSkye= round(len(valorant[(valorant['Map'] == 2) & (valorant['Name'] == 16)])/len(valorant), 4)\n",
        "\n",
        "probSkyeBreeze = probCSkye/probBreeze\n",
        "print(\"A probabilidade de ser uma Skye na Breeze é de: \" + str(probSkyeBreeze*100) + \"%\")\n",
        "\n",
        "probCYoru= round(len(valorant[(valorant['Map'] == 2) & (valorant['Name'] == 19)])/len(valorant), 4)\n",
        "\n",
        "probYoruBreeze = probCYoru/probBreeze\n",
        "print(\"A probabilidade de ser um Yoru na Breeze é de: \" + str(probYoruBreeze*100) + \"%\")\n",
        "\n",
        "probCAS= round(len(valorant[(valorant['Map'] == 2) & (valorant['Name'] == 0)])/len(valorant), 4)\n",
        "\n",
        "probASBreeze = probCAS/probBreeze\n",
        "print(\"A probabilidade de ser uma Astra na Breeze é de: \" + str(probASBreeze*100) + \"%\")\n",
        "\n",
        "probCKO= round(len(valorant[(valorant['Map'] == 2) & (valorant['Name'] == 8)])/len(valorant), 4)\n",
        "\n",
        "probKOBreeze = probCKO/probBreeze\n",
        "print(\"A probabilidade de ser um KAY/O na Breeze é de: \" + str(probKOBreeze*100) + \"%\")\n",
        "\n",
        "probCCha= round(len(valorant[(valorant['Map'] == 2) & (valorant['Name'] == 3)])/len(valorant), 4)\n",
        "\n",
        "probChaBreeze = probCCha/probBreeze\n",
        "print(\"A probabilidade de ser um Chamber na Breeze é de: \" + str(probChaBreeze*100) + \"%\")\n",
        "\n",
        "probCNeon= round(len(valorant[(valorant['Map'] == 2) & (valorant['Name'] == 10)])/len(valorant), 4)\n",
        "\n",
        "probNeonBreeze = probCNeon/probBreeze\n",
        "print(\"A probabilidade de ser uma Neon na Breeze é de: \" + str(probNeonBreeze*100) + \"%\")\n",
        "\n",
        "probCFade= round(len(valorant[(valorant['Map'] == 2) & (valorant['Name'] == 5)])/len(valorant), 4)\n",
        "\n",
        "probFadeBreeze = probCFade/probBreeze\n",
        "print(\"A probabilidade de ser uma Fade na Breeze é de: \" + str(probFadeBreeze*100) + \"%\")\n",
        "\n",
        "probCHar= round(len(valorant[(valorant['Map'] == 2) & (valorant['Name'] == 6)])/len(valorant), 4)\n",
        "\n",
        "probHarBreeze = probCHar/probBreeze\n",
        "print(\"A probabilidade de ser um Harbor na Breeze é de: \" + str(probHarBreeze*100) + \"%\")"
      ],
      "metadata": {
        "colab": {
          "base_uri": "https://localhost:8080/"
        },
        "id": "XlA9iHR_uuPx",
        "outputId": "3030cfad-9770-494b-ae22-fe98e2bb9e64"
      },
      "execution_count": null,
      "outputs": [
        {
          "output_type": "stream",
          "name": "stdout",
          "text": [
            "A probabilidade de ser um Brimstone na Breeze é de: 5.527638190954774%\n",
            "A probabilidade de ser uma Viper na Breeze é de: 4.522613065326633%\n",
            "A probabilidade de ser uma Sage na Breeze é de: 5.527638190954774%\n",
            "A probabilidade de ser um Omen na Breeze é de: 4.522613065326633%\n",
            "A probabilidade de ser um Phoenix na Breeze é de: 4.522613065326633%\n",
            "A probabilidade de ser um Sova na Breeze é de: 5.527638190954774%\n",
            "A probabilidade de ser um Cypher na Breeze é de: 5.527638190954774%\n",
            "A probabilidade de ser um Breach na Breeze é de: 4.522613065326633%\n",
            "A probabilidade de ser uma Jett na Breeze é de: 5.527638190954774%\n",
            "A probabilidade de ser uma Raze na Breeze é de: 5.527638190954774%\n",
            "A probabilidade de ser uma Reyna na Breeze é de: 5.527638190954774%\n",
            "A probabilidade de ser uma Killjoy na Breeze é de: 4.522613065326633%\n",
            "A probabilidade de ser uma Skye na Breeze é de: 4.522613065326633%\n",
            "A probabilidade de ser um Yoru na Breeze é de: 5.527638190954774%\n",
            "A probabilidade de ser uma Astra na Breeze é de: 5.527638190954774%\n",
            "A probabilidade de ser um KAY/O na Breeze é de: 4.522613065326633%\n",
            "A probabilidade de ser um Chamber na Breeze é de: 5.527638190954774%\n",
            "A probabilidade de ser uma Neon na Breeze é de: 5.527638190954774%\n",
            "A probabilidade de ser uma Fade na Breeze é de: 4.522613065326633%\n",
            "A probabilidade de ser um Harbor na Breeze é de: 4.522613065326633%\n"
          ]
        }
      ]
    },
    {
      "cell_type": "markdown",
      "source": [
        "Os agentes mais usados na Breeze são: Brimstone, Sage, Sova, Cypher, Jett, Raze, Reyna, Yoru, Astra, Neon. Aqui, vale destacar o agente Sova, que, assim como Brimstone é um senso comum e um verificador para Bind, o Sova cumpre o mesmo papel para Breeze."
      ],
      "metadata": {
        "id": "EBwM-Eoww5VE"
      }
    },
    {
      "cell_type": "markdown",
      "source": [
        "**Fracture = 3**"
      ],
      "metadata": {
        "id": "833Pb06exLbJ"
      }
    },
    {
      "cell_type": "code",
      "source": [
        "probFracture = round(len(valorant[valorant['Map'] == 3])/len(valorant), 4)\n",
        "\n",
        "probCBrim = round(len(valorant[(valorant['Map'] == 3) & (valorant['Name'] == 2)])/len(valorant), 4)\n",
        "\n",
        "probBrimFracture= probCBrim/probFracture\n",
        "print(\"A probabilidade de ser um Brimstone na Fracture é de: \" + str(probBrimFracture*100) + \"%\")\n",
        "\n",
        "probCViper = round(len(valorant[(valorant['Map'] == 3) & (valorant['Name'] == 18)])/len(valorant), 4)\n",
        "\n",
        "probViperFracture = probCViper/probFracture\n",
        "print(\"A probabilidade de ser uma Viper na Fracture é de: \" + str(probViperFracture*100) + \"%\")\n",
        "\n",
        "probCSage= round(len(valorant[(valorant['Map'] == 3) & (valorant['Name'] == 15)])/len(valorant), 4)\n",
        "\n",
        "probSageFracture = probCSage/probFracture\n",
        "print(\"A probabilidade de ser uma Sage na Fracture é de: \" + str(probSageFracture*100) + \"%\")\n",
        "\n",
        "probCOmen= round(len(valorant[(valorant['Map'] == 3) & (valorant['Name'] == 11)])/len(valorant), 4)\n",
        "\n",
        "probOmenFracture = probCOmen/probFracture\n",
        "print(\"A probabilidade de ser um Omen na Fracture é de: \" + str(probOmenFracture*100) + \"%\")\n",
        "\n",
        "probCFN= round(len(valorant[(valorant['Map'] == 3) & (valorant['Name'] == 12)])/len(valorant), 4)\n",
        "\n",
        "probFNFracture = probCFN/probFracture\n",
        "print(\"A probabilidade de ser um Phoenix na Fracture é de: \" + str(probFNFracture*100) + \"%\")\n",
        "\n",
        "probCSova= round(len(valorant[(valorant['Map'] == 3) & (valorant['Name'] == 17)])/len(valorant), 4)\n",
        "\n",
        "probSovaFracture = probCSova/probFracture\n",
        "print(\"A probabilidade de ser um Sova na Fracture é de: \" + str(probSovaFracture*100) + \"%\")\n",
        "\n",
        "probCCY= round(len(valorant[(valorant['Map'] == 3) & (valorant['Name'] == 4)])/len(valorant), 4)\n",
        "\n",
        "probCYFracture = probCCY/probFracture\n",
        "print(\"A probabilidade de ser um Cypher na Fracture é de: \" + str(probCYFracture*100) + \"%\")\n",
        "\n",
        "probCBreach= round(len(valorant[(valorant['Map'] == 3) & (valorant['Name'] == 1)])/len(valorant), 4)\n",
        "\n",
        "probBreachFracture = probCBreach/probFracture\n",
        "print(\"A probabilidade de ser um Breach na Fracture é de: \" + str(probBreachFracture*100) + \"%\")\n",
        "\n",
        "probCJett= round(len(valorant[(valorant['Map'] == 3) & (valorant['Name'] == 7)])/len(valorant), 4)\n",
        "\n",
        "probJettFracture = probCJett/probFracture\n",
        "print(\"A probabilidade de ser uma Jett na Fracture é de: \" + str(probJettFracture*100) + \"%\")\n",
        "\n",
        "probCRaze = round(len(valorant[(valorant['Map'] == 3) & (valorant['Name'] == 13)])/len(valorant), 4)\n",
        "\n",
        "probRazeFracture = probCRaze/probFracture\n",
        "print(\"A probabilidade de ser uma Raze na Fracture é de: \" + str(probRazeFracture*100) + \"%\")\n",
        "\n",
        "probCRey= round(len(valorant[(valorant['Map'] == 3) & (valorant['Name'] == 14)])/len(valorant), 4)\n",
        "\n",
        "probReyFracture= probCRey/probFracture\n",
        "print(\"A probabilidade de ser uma Reyna na Fracture é de: \" + str(probReyFracture*100) + \"%\")\n",
        "\n",
        "probCKJ= round(len(valorant[(valorant['Map'] == 3) & (valorant['Name'] == 9)])/len(valorant), 4)\n",
        "\n",
        "probKJFracture = probCKJ/probFracture\n",
        "print(\"A probabilidade de ser uma Killjoy na Fracture é de: \" + str(probKJFracture*100) + \"%\")\n",
        "\n",
        "probCSkye= round(len(valorant[(valorant['Map'] == 3) & (valorant['Name'] == 16)])/len(valorant), 4)\n",
        "\n",
        "probSkyeFracture = probCSkye/probFracture\n",
        "print(\"A probabilidade de ser uma Skye na Fracture é de: \" + str(probSkyeFracture*100) + \"%\")\n",
        "\n",
        "probCYoru= round(len(valorant[(valorant['Map'] == 3) & (valorant['Name'] == 19)])/len(valorant), 4)\n",
        "\n",
        "probYoruFracture = probCYoru/probFracture\n",
        "print(\"A probabilidade de ser um Yoru na Fracture é de: \" + str(probYoruFracture*100) + \"%\")\n",
        "\n",
        "probCAS= round(len(valorant[(valorant['Map'] == 3) & (valorant['Name'] == 0)])/len(valorant), 4)\n",
        "\n",
        "probASFracture = probCAS/probFracture\n",
        "print(\"A probabilidade de ser uma Astra na Fracture é de: \" + str(probASFracture*100) + \"%\")\n",
        "\n",
        "probCKO= round(len(valorant[(valorant['Map'] == 3) & (valorant['Name'] == 8)])/len(valorant), 4)\n",
        "\n",
        "probKOFracture = probCKO/probFracture\n",
        "print(\"A probabilidade de ser um KAY/O na Fracture é de: \" + str(probKOFracture*100) + \"%\")\n",
        "\n",
        "probCCha= round(len(valorant[(valorant['Map'] == 3) & (valorant['Name'] == 3)])/len(valorant), 4)\n",
        "\n",
        "probChaFracture = probCCha/probFracture\n",
        "print(\"A probabilidade de ser um Chamber na Fracture é de: \" + str(probChaFracture*100) + \"%\")\n",
        "\n",
        "probCNeon= round(len(valorant[(valorant['Map'] == 3) & (valorant['Name'] == 10)])/len(valorant), 4)\n",
        "\n",
        "probNeonFracture = probCNeon/probFracture\n",
        "print(\"A probabilidade de ser uma Neon na Fracture é de: \" + str(probNeonFracture*100) + \"%\")\n",
        "\n",
        "probCFade= round(len(valorant[(valorant['Map'] == 3) & (valorant['Name'] == 5)])/len(valorant), 4)\n",
        "\n",
        "probFadeFracture = probCFade/probFracture\n",
        "print(\"A probabilidade de ser uma Fade na Fracture é de: \" + str(probFadeFracture*100) + \"%\")\n",
        "\n",
        "probCHar= round(len(valorant[(valorant['Map'] == 3) & (valorant['Name'] == 6)])/len(valorant), 4)\n",
        "\n",
        "probHarFracture = probCHar/probFracture\n",
        "print(\"A probabilidade de ser um Harbor na Fracture é de: \" + str(probHarFracture*100) + \"%\")"
      ],
      "metadata": {
        "colab": {
          "base_uri": "https://localhost:8080/"
        },
        "id": "egTD-gTkQsaE",
        "outputId": "b2ac91d5-349d-470b-892f-69a07e6452b8"
      },
      "execution_count": null,
      "outputs": [
        {
          "output_type": "stream",
          "name": "stdout",
          "text": [
            "A probabilidade de ser um Brimstone na Fracture é de: 5.083514887436456%\n",
            "A probabilidade de ser uma Viper na Fracture é de: 4.938271604938272%\n",
            "A probabilidade de ser uma Sage na Fracture é de: 5.083514887436456%\n",
            "A probabilidade de ser um Omen na Fracture é de: 4.938271604938272%\n",
            "A probabilidade de ser um Phoenix na Fracture é de: 5.083514887436456%\n",
            "A probabilidade de ser um Sova na Fracture é de: 4.938271604938272%\n",
            "A probabilidade de ser um Cypher na Fracture é de: 4.938271604938272%\n",
            "A probabilidade de ser um Breach na Fracture é de: 5.083514887436456%\n",
            "A probabilidade de ser uma Jett na Fracture é de: 4.938271604938272%\n",
            "A probabilidade de ser uma Raze na Fracture é de: 5.083514887436456%\n",
            "A probabilidade de ser uma Reyna na Fracture é de: 5.083514887436456%\n",
            "A probabilidade de ser uma Killjoy na Fracture é de: 5.083514887436456%\n",
            "A probabilidade de ser uma Skye na Fracture é de: 4.938271604938272%\n",
            "A probabilidade de ser um Yoru na Fracture é de: 4.938271604938272%\n",
            "A probabilidade de ser uma Astra na Fracture é de: 4.938271604938272%\n",
            "A probabilidade de ser um KAY/O na Fracture é de: 5.083514887436456%\n",
            "A probabilidade de ser um Chamber na Fracture é de: 5.083514887436456%\n",
            "A probabilidade de ser uma Neon na Fracture é de: 5.083514887436456%\n",
            "A probabilidade de ser uma Fade na Fracture é de: 4.938271604938272%\n",
            "A probabilidade de ser um Harbor na Fracture é de: 4.938271604938272%\n"
          ]
        }
      ]
    },
    {
      "cell_type": "markdown",
      "source": [
        "É possivel verificar que os agentes mais jogados na Fracture são: Brimstone, Sage, Phoenix, Breach, Raze, Reyna, KillJoy, KAY/O, Chamber e Neon. Primero aparecimento da KillJoy, que, por conta de suas habilidades, acaba se tornando um personagem de longa distancia neste mapa, assim como o Chamber."
      ],
      "metadata": {
        "id": "4se2BP_jT1Lk"
      }
    },
    {
      "cell_type": "markdown",
      "source": [
        "**Pearl = 7**"
      ],
      "metadata": {
        "id": "scPlvWRnUWXW"
      }
    },
    {
      "cell_type": "code",
      "source": [
        "probPearl = round(len(valorant[valorant['Map'] == 7])/len(valorant), 4)\n",
        "\n",
        "probCBrim = round(len(valorant[(valorant['Map'] == 7) & (valorant['Name'] == 2)])/len(valorant), 4)\n",
        "\n",
        "probBrimPearl= probCBrim/probPearl\n",
        "print(\"A probabilidade de ser um Brimstone na Pearl é de: \" + str(probBrimPearl*100) + \"%\")\n",
        "\n",
        "probCViper = round(len(valorant[(valorant['Map'] == 7) & (valorant['Name'] == 18)])/len(valorant), 4)\n",
        "\n",
        "probViperPearl= probCViper/probPearl\n",
        "print(\"A probabilidade de ser uma Viper na Pearl é de: \" + str(probViperPearl*100) + \"%\")\n",
        "\n",
        "probCSage= round(len(valorant[(valorant['Map'] == 7) & (valorant['Name'] == 15)])/len(valorant), 4)\n",
        "\n",
        "probSagePearl = probCSage/probPearl\n",
        "print(\"A probabilidade de ser uma Sage na Pearl é de: \" + str(probSagePearl*100) + \"%\")\n",
        "\n",
        "probCOmen= round(len(valorant[(valorant['Map'] == 7) & (valorant['Name'] == 11)])/len(valorant), 4)\n",
        "\n",
        "probOmenPearl = probCOmen/probPearl\n",
        "print(\"A probabilidade de ser um Omen na Pearl é de: \" + str(probOmenPearl*100) + \"%\")\n",
        "\n",
        "probCFN= round(len(valorant[(valorant['Map'] == 7) & (valorant['Name'] == 12)])/len(valorant), 4)\n",
        "\n",
        "probFNPearl = probCFN/probPearl\n",
        "print(\"A probabilidade de ser um Phoenix na Pearl é de: \" + str(probFNPearl*100) + \"%\")\n",
        "\n",
        "probCSova= round(len(valorant[(valorant['Map'] == 7) & (valorant['Name'] == 17)])/len(valorant), 4)\n",
        "\n",
        "probSovaPearl = probCSova/probPearl\n",
        "print(\"A probabilidade de ser um Sova na Pearl é de: \" + str(probSovaPearl*100) + \"%\")\n",
        "\n",
        "probCCY= round(len(valorant[(valorant['Map'] == 7) & (valorant['Name'] == 4)])/len(valorant), 4)\n",
        "\n",
        "probCYPearl = probCCY/probPearl\n",
        "print(\"A probabilidade de ser um Cypher na Pearl é de: \" + str(probCYPearl*100) + \"%\")\n",
        "\n",
        "probCBreach= round(len(valorant[(valorant['Map'] == 7) & (valorant['Name'] == 1)])/len(valorant), 4)\n",
        "\n",
        "probBreachPearl = probCBreach/probPearl\n",
        "print(\"A probabilidade de ser um Breach na Pearl é de: \" + str(probBreachPearl*100) + \"%\")\n",
        "\n",
        "probCJett= round(len(valorant[(valorant['Map'] == 7) & (valorant['Name'] == 7)])/len(valorant), 4)\n",
        "\n",
        "probJettPearl = probCJett/probPearl\n",
        "print(\"A probabilidade de ser uma Jett na Pearl é de: \" + str(probJettPearl*100) + \"%\")\n",
        "\n",
        "probCRaze = round(len(valorant[(valorant['Map'] == 7) & (valorant['Name'] == 13)])/len(valorant), 4)\n",
        "\n",
        "probRazePearl = probCRaze/probPearl\n",
        "print(\"A probabilidade de ser uma Raze na Pearl é de: \" + str(probRazePearl*100) + \"%\")\n",
        "\n",
        "probCRey= round(len(valorant[(valorant['Map'] == 7) & (valorant['Name'] == 14)])/len(valorant), 4)\n",
        "\n",
        "probReyPearl= probCRey/probPearl\n",
        "print(\"A probabilidade de ser uma Reyna na Pearl é de: \" + str(probReyPearl*100) + \"%\")\n",
        "\n",
        "probCKJ= round(len(valorant[(valorant['Map'] == 7) & (valorant['Name'] == 9)])/len(valorant), 4)\n",
        "\n",
        "probKJPearl = probCKJ/probPearl\n",
        "print(\"A probabilidade de ser uma Killjoy na Pearl é de: \" + str(probKJPearl*100) + \"%\")\n",
        "\n",
        "probCSkye= round(len(valorant[(valorant['Map'] == 7) & (valorant['Name'] == 16)])/len(valorant), 4)\n",
        "\n",
        "probSkyePearl = probCSkye/probPearl\n",
        "print(\"A probabilidade de ser uma Skye na Pearl é de: \" + str(probSkyePearl*100) + \"%\")\n",
        "\n",
        "probCYoru= round(len(valorant[(valorant['Map'] == 7) & (valorant['Name'] == 19)])/len(valorant), 4)\n",
        "\n",
        "probYoruPearl = probCYoru/probPearl\n",
        "print(\"A probabilidade de ser um Yoru na Pearl é de: \" + str(probYoruPearl*100) + \"%\")\n",
        "\n",
        "probCAS= round(len(valorant[(valorant['Map'] == 7) & (valorant['Name'] == 0)])/len(valorant), 4)\n",
        "\n",
        "probASPearl = probCAS/probPearl\n",
        "print(\"A probabilidade de ser uma Astra na Pearl é de: \" + str(probASPearl*100) + \"%\")\n",
        "\n",
        "probCKO= round(len(valorant[(valorant['Map'] == 7) & (valorant['Name'] == 8)])/len(valorant), 4)\n",
        "\n",
        "probKOPearl = probCKO/probPearl\n",
        "print(\"A probabilidade de ser um KAY/O na Pearl é de: \" + str(probKOPearl*100) + \"%\")\n",
        "\n",
        "probCCha= round(len(valorant[(valorant['Map'] == 7) & (valorant['Name'] == 3)])/len(valorant), 4)\n",
        "\n",
        "probChaPearl = probCCha/probPearl\n",
        "print(\"A probabilidade de ser um Chamber na Pearl é de: \" + str(probChaPearl*100) + \"%\")\n",
        "\n",
        "probCNeon= round(len(valorant[(valorant['Map'] == 7) & (valorant['Name'] == 10)])/len(valorant), 4)\n",
        "\n",
        "probNeonPearl = probCNeon/probPearl\n",
        "print(\"A probabilidade de ser uma Neon na Pearl é de: \" + str(probNeonPearl*100) + \"%\")\n",
        "\n",
        "probCFade= round(len(valorant[(valorant['Map'] == 7) & (valorant['Name'] == 5)])/len(valorant), 4)\n",
        "\n",
        "probFadePearl = probCFade/probPearl\n",
        "print(\"A probabilidade de ser uma Fade na Pearl é de: \" + str(probFadePearl*100) + \"%\")\n",
        "\n",
        "probCHar= round(len(valorant[(valorant['Map'] == 7) & (valorant['Name'] == 6)])/len(valorant), 4)\n",
        "\n",
        "probHarPearl = probCHar/probPearl\n",
        "print(\"A probabilidade de ser um Harbor na Pearl é de: \" + str(probHarPearl*100) + \"%\")"
      ],
      "metadata": {
        "colab": {
          "base_uri": "https://localhost:8080/"
        },
        "id": "usNuYMwqUtfS",
        "outputId": "efa80905-2e8b-416e-d76f-ff034a679c44"
      },
      "execution_count": null,
      "outputs": [
        {
          "output_type": "stream",
          "name": "stdout",
          "text": [
            "A probabilidade de ser um Brimstone na Pearl é de: 4.927536231884058%\n",
            "A probabilidade de ser uma Viper na Pearl é de: 5.0724637681159415%\n",
            "A probabilidade de ser uma Sage na Pearl é de: 5.0724637681159415%\n",
            "A probabilidade de ser um Omen na Pearl é de: 4.927536231884058%\n",
            "A probabilidade de ser um Phoenix na Pearl é de: 4.927536231884058%\n",
            "A probabilidade de ser um Sova na Pearl é de: 5.0724637681159415%\n",
            "A probabilidade de ser um Cypher na Pearl é de: 4.927536231884058%\n",
            "A probabilidade de ser um Breach na Pearl é de: 4.927536231884058%\n",
            "A probabilidade de ser uma Jett na Pearl é de: 5.0724637681159415%\n",
            "A probabilidade de ser uma Raze na Pearl é de: 5.0724637681159415%\n",
            "A probabilidade de ser uma Reyna na Pearl é de: 5.0724637681159415%\n",
            "A probabilidade de ser uma Killjoy na Pearl é de: 4.927536231884058%\n",
            "A probabilidade de ser uma Skye na Pearl é de: 4.927536231884058%\n",
            "A probabilidade de ser um Yoru na Pearl é de: 5.0724637681159415%\n",
            "A probabilidade de ser uma Astra na Pearl é de: 5.0724637681159415%\n",
            "A probabilidade de ser um KAY/O na Pearl é de: 4.927536231884058%\n",
            "A probabilidade de ser um Chamber na Pearl é de: 4.927536231884058%\n",
            "A probabilidade de ser uma Neon na Pearl é de: 5.0724637681159415%\n",
            "A probabilidade de ser uma Fade na Pearl é de: 5.0724637681159415%\n",
            "A probabilidade de ser um Harbor na Pearl é de: 5.0724637681159415%\n"
          ]
        }
      ]
    },
    {
      "cell_type": "markdown",
      "source": [
        "Inferi-se que os agentes mais jogados na Pearl são: Viper, Sage, Sova, Jett, Raze, Reyna, Yoru, Astra, Neon, Fade e Harbor. Aqui, há uma gama maior de agentes provavelmente por conta de Pearl não ser tão antigo como os demais mapas, mas agentes como Viper e Harbor, que bloqueam a visão por uma longa distância são sim uma boa sinergia para o mapa."
      ],
      "metadata": {
        "id": "wOeRvn6XWHj9"
      }
    },
    {
      "cell_type": "markdown",
      "source": [
        "**Lotus = 6**"
      ],
      "metadata": {
        "id": "-uaj4C8sXaaF"
      }
    },
    {
      "cell_type": "code",
      "source": [
        "probLotus = round(len(valorant[valorant['Map'] == 6])/len(valorant), 4)\n",
        "\n",
        "probCBrim = round(len(valorant[(valorant['Map'] == 6) & (valorant['Name'] == 2)])/len(valorant), 4)\n",
        "\n",
        "probBrimLotus= probCBrim/probLotus\n",
        "print(\"A probabilidade de ser um Brimstone na Lotus é de: \" + str(probBrimLotus*100) + \"%\")\n",
        "\n",
        "probCViper = round(len(valorant[(valorant['Map'] == 6) & (valorant['Name'] == 18)])/len(valorant), 4)\n",
        "\n",
        "probViperLotus= probCViper/probLotus\n",
        "print(\"A probabilidade de ser uma Viper na Lotus é de: \" + str(probViperLotus*100) + \"%\")\n",
        "\n",
        "probCSage= round(len(valorant[(valorant['Map'] == 6) & (valorant['Name'] == 15)])/len(valorant), 4)\n",
        "\n",
        "probSageLotus = probCSage/probLotus\n",
        "print(\"A probabilidade de ser uma Sage na Lotus é de: \" + str(probSageLotus*100) + \"%\")\n",
        "\n",
        "probCOmen= round(len(valorant[(valorant['Map'] == 6) & (valorant['Name'] == 11)])/len(valorant), 4)\n",
        "\n",
        "probOmenLotus = probCOmen/probLotus\n",
        "print(\"A probabilidade de ser um Omen na Lotus é de: \" + str(probOmenLotus*100) + \"%\")\n",
        "\n",
        "probCFN= round(len(valorant[(valorant['Map'] == 6) & (valorant['Name'] == 12)])/len(valorant), 4)\n",
        "\n",
        "probFNLotus = probCFN/probLotus\n",
        "print(\"A probabilidade de ser um Phoenix na Lotus é de: \" + str(probFNLotus*100) + \"%\")\n",
        "\n",
        "probCSova= round(len(valorant[(valorant['Map'] == 6) & (valorant['Name'] == 17)])/len(valorant), 4)\n",
        "\n",
        "probSovaLotus = probCSova/probLotus\n",
        "print(\"A probabilidade de ser um Sova na Lotus é de: \" + str(probSovaLotus*100) + \"%\")\n",
        "\n",
        "probCCY= round(len(valorant[(valorant['Map'] == 6) & (valorant['Name'] == 4)])/len(valorant), 4)\n",
        "\n",
        "probCYLotus = probCCY/probLotus\n",
        "print(\"A probabilidade de ser um Cypher na Lotus é de: \" + str(probCYLotus*100) + \"%\")\n",
        "\n",
        "probCBreach= round(len(valorant[(valorant['Map'] == 6) & (valorant['Name'] == 1)])/len(valorant), 4)\n",
        "\n",
        "probBreachLotus = probCBreach/probLotus\n",
        "print(\"A probabilidade de ser um Breach na Lotus é de: \" + str(probBreachLotus*100) + \"%\")\n",
        "\n",
        "probCJett= round(len(valorant[(valorant['Map'] == 6) & (valorant['Name'] == 7)])/len(valorant), 4)\n",
        "\n",
        "probJettLotus = probCJett/probLotus\n",
        "print(\"A probabilidade de ser uma Jett na Lotus é de: \" + str(probJettLotus*100) + \"%\")\n",
        "\n",
        "probCRaze = round(len(valorant[(valorant['Map'] == 6) & (valorant['Name'] == 13)])/len(valorant), 4)\n",
        "\n",
        "probRazeLotus = probCRaze/probLotus\n",
        "print(\"A probabilidade de ser uma Raze na Lotus é de: \" + str(probRazeLotus*100) + \"%\")\n",
        "\n",
        "probCRey= round(len(valorant[(valorant['Map'] == 6) & (valorant['Name'] == 14)])/len(valorant), 4)\n",
        "\n",
        "probReyLotus= probCRey/probLotus\n",
        "print(\"A probabilidade de ser uma Reyna na Lotus é de: \" + str(probReyPearl*100) + \"%\")\n",
        "\n",
        "probCKJ= round(len(valorant[(valorant['Map'] == 6) & (valorant['Name'] == 9)])/len(valorant), 4)\n",
        "\n",
        "probKJLotus = probCKJ/probLotus\n",
        "print(\"A probabilidade de ser uma Killjoy na Lotus é de: \" + str(probKJPearl*100) + \"%\")\n",
        "\n",
        "probCSkye= round(len(valorant[(valorant['Map'] == 6) & (valorant['Name'] == 16)])/len(valorant), 4)\n",
        "\n",
        "probSkyeLotus = probCSkye/probLotus\n",
        "print(\"A probabilidade de ser uma Skye na Lotus é de: \" + str(probSkyeLotus*100) + \"%\")\n",
        "\n",
        "probCYoru= round(len(valorant[(valorant['Map'] == 6) & (valorant['Name'] == 19)])/len(valorant), 4)\n",
        "\n",
        "probYoruLotus = probCYoru/probLotus\n",
        "print(\"A probabilidade de ser um Yoru na Lotus é de: \" + str(probYoruLotus*100) + \"%\")\n",
        "\n",
        "probCAS= round(len(valorant[(valorant['Map'] == 6) & (valorant['Name'] == 0)])/len(valorant), 4)\n",
        "\n",
        "probASLotus = probCAS/probLotus\n",
        "print(\"A probabilidade de ser uma Astra na Lotus é de: \" + str(probASLotus*100) + \"%\")\n",
        "\n",
        "probCKO= round(len(valorant[(valorant['Map'] == 6) & (valorant['Name'] == 8)])/len(valorant), 4)\n",
        "\n",
        "probKOLotus = probCKO/probLotus\n",
        "print(\"A probabilidade de ser um KAY/O na Lotus é de: \" + str(probKOLotus*100) + \"%\")\n",
        "\n",
        "probCCha= round(len(valorant[(valorant['Map'] == 6) & (valorant['Name'] == 3)])/len(valorant), 4)\n",
        "\n",
        "probChaLotus = probCCha/probLotus\n",
        "print(\"A probabilidade de ser um Chamber na Lotus é de: \" + str(probChaLotus*100) + \"%\")\n",
        "\n",
        "probCNeon= round(len(valorant[(valorant['Map'] == 6) & (valorant['Name'] == 10)])/len(valorant), 4)\n",
        "\n",
        "probNeonLotus = probCNeon/probLotus\n",
        "print(\"A probabilidade de ser uma Neon na Lotus é de: \" + str(probNeonLotus*100) + \"%\")\n",
        "\n",
        "probCFade= round(len(valorant[(valorant['Map'] == 6) & (valorant['Name'] == 5)])/len(valorant), 4)\n",
        "\n",
        "probFadeLotus = probCFade/probLotus\n",
        "print(\"A probabilidade de ser uma Fade na Lotus é de: \" + str(probFadeLotus*100) + \"%\")\n",
        "\n",
        "probCHar= round(len(valorant[(valorant['Map'] == 6) & (valorant['Name'] == 6)])/len(valorant), 4)\n",
        "\n",
        "probHarLotus = probCHar/probLotus\n",
        "print(\"A probabilidade de ser um Harbor na Lotus é de: \" + str(probHarLotus*100) + \"%\")"
      ],
      "metadata": {
        "colab": {
          "base_uri": "https://localhost:8080/"
        },
        "id": "Zg74LIOPX7WV",
        "outputId": "64189a47-79f3-4cd0-bfe3-1afe8b8d27e9"
      },
      "execution_count": null,
      "outputs": [
        {
          "output_type": "stream",
          "name": "stdout",
          "text": [
            "A probabilidade de ser um Brimstone na Lotus é de: 5.0184501845018445%\n",
            "A probabilidade de ser uma Viper na Lotus é de: 5.0184501845018445%\n",
            "A probabilidade de ser uma Sage na Lotus é de: 5.0184501845018445%\n",
            "A probabilidade de ser um Omen na Lotus é de: 5.0184501845018445%\n",
            "A probabilidade de ser um Phoenix na Lotus é de: 5.0184501845018445%\n",
            "A probabilidade de ser um Sova na Lotus é de: 5.0184501845018445%\n",
            "A probabilidade de ser um Cypher na Lotus é de: 5.0184501845018445%\n",
            "A probabilidade de ser um Breach na Lotus é de: 5.0184501845018445%\n",
            "A probabilidade de ser uma Jett na Lotus é de: 5.0184501845018445%\n",
            "A probabilidade de ser uma Raze na Lotus é de: 5.0184501845018445%\n",
            "A probabilidade de ser uma Reyna na Lotus é de: 5.0724637681159415%\n",
            "A probabilidade de ser uma Killjoy na Lotus é de: 4.927536231884058%\n",
            "A probabilidade de ser uma Skye na Lotus é de: 5.0184501845018445%\n",
            "A probabilidade de ser um Yoru na Lotus é de: 5.0184501845018445%\n",
            "A probabilidade de ser uma Astra na Lotus é de: 5.0184501845018445%\n",
            "A probabilidade de ser um KAY/O na Lotus é de: 5.0184501845018445%\n",
            "A probabilidade de ser um Chamber na Lotus é de: 5.0184501845018445%\n",
            "A probabilidade de ser uma Neon na Lotus é de: 5.0184501845018445%\n",
            "A probabilidade de ser uma Fade na Lotus é de: 5.0184501845018445%\n",
            "A probabilidade de ser um Harbor na Lotus é de: 5.0184501845018445%\n"
          ]
        }
      ]
    },
    {
      "cell_type": "markdown",
      "source": [
        "Como pode-se notar, a maioria esmagadora dos agentes é muito usada, como se não houvesse de fato um mais utilizado do que o outro. Isso ocorre porque Lotus é o mapa mais novo no jogo e não se tem uma noção de meta, diferente dos outros mapas, por isso, é correto dizer que não há um \"must-pick\" definido para a Lotus."
      ],
      "metadata": {
        "id": "oVILpYKIbGXi"
      }
    },
    {
      "cell_type": "markdown",
      "source": [
        "##**Teorema de Bayers**"
      ],
      "metadata": {
        "id": "AwINft8G5qa_"
      }
    },
    {
      "cell_type": "markdown",
      "source": [
        "Aqui será testado o quanto a agente mais provável de ser popular (Skye), tem probabilidade de aparecer tal que seja um determinado mapa. A ideia é comparar os resultados da Probabilidade Condicional com o Teorema de Bayers e verificar a diferença de resultados."
      ],
      "metadata": {
        "id": "2NT3cNa9QbtK"
      }
    },
    {
      "cell_type": "code",
      "source": [
        "probBayerBind = (probSkyeBind*probSkye)/probBind\n",
        "print(\"A probabilidade de ser uma Skye tal que esteja na Bind é: \" + str(probBayerBind*100) + \"%\")\n",
        "\n",
        "probBayerHaven = (probSkyeHaven*probSkye)/probHaven\n",
        "print(\"A probabilidade de ser uma Skye tal que esteja na Haven é: \" + str(probBayerHaven*100) + \"%\")\n",
        "\n",
        "probBayerSplit = (probSkyeSplit*probSkye)/probSplit\n",
        "print(\"A probabilidade de ser uma Skye tal que esteja na Split é: \" + str(probBayerSplit*100) + \"%\")\n",
        "\n",
        "probBayerAscent = (probSkyeAscent*probSkye)/probAscent\n",
        "print(\"A probabilidade de ser uma Skye tal que esteja na Ascent é: \" + str(probBayerAscent*100) + \"%\")\n",
        "\n",
        "probBayerIcebox = (probSkyeIcebox*probSkye)/probIcebox\n",
        "print(\"A probabilidade de ser uma Skye tal que esteja na Icebox é: \" + str(probBayerIcebox*100) + \"%\")\n",
        "\n",
        "probBayerBreeze = (probSkyeBreeze*probSkye)/probBreeze\n",
        "print(\"A probabilidade de ser uma Skye tal que esteja na Breeze é: \" + str(probBayerBreeze*100) + \"%\")\n",
        "\n",
        "probBayerFracture = (probSkyeFracture*probSkye)/probFracture\n",
        "print(\"A probabilidade de ser uma Skye tal que esteja na Fracture é: \" + str(probBayerFracture*100) + \"%\")\n",
        "\n",
        "probBayerPearl = (probSkyePearl*probSkye)/probPearl\n",
        "print(\"A probabilidade de ser uma Skye tal que esteja na Pearl é: \" + str(probBayerPearl*100) + \"%\")\n",
        "\n",
        "probBayerLotus = (probSkyeLotus*probSkye)/probLotus\n",
        "print(\"A probabilidade de ser uma Skye tal que esteja na Lotus é: \" + str(probBayerLotus*100) + \"%\")"
      ],
      "metadata": {
        "colab": {
          "base_uri": "https://localhost:8080/"
        },
        "id": "kkbKcBLZrnib",
        "outputId": "fb9f9da9-532b-4dac-c33f-a9a567448b92"
      },
      "execution_count": null,
      "outputs": [
        {
          "output_type": "stream",
          "name": "stdout",
          "text": [
            "A probabilidade de ser uma Skye tal que esteja na Bind é: 12.011718750000002%\n",
            "A probabilidade de ser uma Skye tal que esteja na Haven é: 1.751692737512069%\n",
            "A probabilidade de ser uma Skye tal que esteja na Split é: 1.764436913311278%\n",
            "A probabilidade de ser uma Skye tal que esteja na Ascent é: 1.764436913311278%\n",
            "A probabilidade de ser uma Skye tal que esteja na Icebox é: 1.8088235294117645%\n",
            "A probabilidade de ser uma Skye tal que esteja na Breeze é: 11.181535819802528%\n",
            "A probabilidade de ser uma Skye tal que esteja na Fracture é: 1.764436913311278%\n",
            "A probabilidade de ser uma Skye tal que esteja na Pearl é: 1.7567737870195337%\n",
            "A probabilidade de ser uma Skye tal que esteja na Lotus é: 1.8221974101659832%\n"
          ]
        }
      ]
    },
    {
      "cell_type": "markdown",
      "source": [
        "Como visto acima, a discrepancia entres os valores apresentados, mostra o quanto Skye é escolhida em cada mapa. Isso mostra a diferença entre os dados obtidos anteriormente, que estão simetricos demais para se ter uma melhor precisão, diferente de agora."
      ],
      "metadata": {
        "id": "zefvPhg9zxK2"
      }
    },
    {
      "cell_type": "markdown",
      "source": [
        "##**Gráfico Simples**"
      ],
      "metadata": {
        "id": "f1hFcmkwucpV"
      }
    },
    {
      "cell_type": "markdown",
      "source": [
        "Aqui será mostrado o gráfico da função cumulativa dos modos de jogo."
      ],
      "metadata": {
        "id": "cidQVDccRVou"
      }
    },
    {
      "cell_type": "code",
      "source": [
        "grafico = fpVA.cumsum()\n",
        "plt.plot(grafico, 'b-')\n",
        "plt.xlabel('Tipos de jogo')\n",
        "plt.ylabel('Probabilidade')\n",
        "plt.title('Gráfico')"
      ],
      "metadata": {
        "colab": {
          "base_uri": "https://localhost:8080/",
          "height": 489
        },
        "id": "fUdtRHlTuj78",
        "outputId": "ce6863c4-5435-43d7-d478-278836f7674e"
      },
      "execution_count": null,
      "outputs": [
        {
          "output_type": "execute_result",
          "data": {
            "text/plain": [
              "Text(0.5, 1.0, 'Gráfico')"
            ]
          },
          "metadata": {},
          "execution_count": 111
        },
        {
          "output_type": "display_data",
          "data": {
            "text/plain": [
              "<Figure size 640x480 with 1 Axes>"
            ],
            "image/png": "[encoded data removed]"
          },
          "metadata": {}
        }
      ]
    },
    {
      "cell_type": "markdown",
      "source": [
        "É provável que a variações do gráfico sejam causados por modos de jogo que apareçam menos, como no caso de replication e scalation (2 e 3), que aparecendo periodicamente no jogo."
      ],
      "metadata": {
        "id": "vEneyJENTBXk"
      }
    },
    {
      "cell_type": "markdown",
      "source": [
        "##**Correlação**"
      ],
      "metadata": {
        "id": "6L6vCDByYbbe"
      }
    },
    {
      "cell_type": "markdown",
      "source": [
        "Aqui será mostrado a relação de coluna em coluna. A ideia, é demonstrar o quão relacionados estão. Quanto mais perto de 1 mais relacionadas, por conta disso, não será testado colunas iguais que o resultado será exatamente 1."
      ],
      "metadata": {
        "id": "JzKFnNnuYfu1"
      }
    },
    {
      "cell_type": "markdown",
      "source": [
        "**Name/Game Type**"
      ],
      "metadata": {
        "id": "BzoSf8XeC0rE"
      }
    },
    {
      "cell_type": "code",
      "source": [
        "valorant[['Name', 'Game Type']].corr()"
      ],
      "metadata": {
        "colab": {
          "base_uri": "https://localhost:8080/",
          "height": 112
        },
        "id": "mecAouG4CGX3",
        "outputId": "3484309f-2577-498f-ebbc-33835de6949d"
      },
      "execution_count": null,
      "outputs": [
        {
          "output_type": "execute_result",
          "data": {
            "text/plain": [
              "               Name  Game Type\n",
              "Name       1.000000   0.000318\n",
              "Game Type  0.000318   1.000000"
            ],
            "text/html": [
              "\n",
              "  <div id=\"df-e4586a21-0d0a-4d58-a95d-6772b3a85dae\">\n",
              "    <div class=\"colab-df-container\">\n",
              "      <div>\n",
              "<style scoped>\n",
              "    .dataframe tbody tr th:only-of-type {\n",
              "        vertical-align: middle;\n",
              "    }\n",
              "\n",
              "    .dataframe tbody tr th {\n",
              "        vertical-align: top;\n",
              "    }\n",
              "\n",
              "    .dataframe thead th {\n",
              "        text-align: right;\n",
              "    }\n",
              "</style>\n",
              "<table border=\"1\" class=\"dataframe\">\n",
              "  <thead>\n",
              "    <tr style=\"text-align: right;\">\n",
              "      <th></th>\n",
              "      <th>Name</th>\n",
              "      <th>Game Type</th>\n",
              "    </tr>\n",
              "  </thead>\n",
              "  <tbody>\n",
              "    <tr>\n",
              "      <th>Name</th>\n",
              "      <td>1.000000</td>\n",
              "      <td>0.000318</td>\n",
              "    </tr>\n",
              "    <tr>\n",
              "      <th>Game Type</th>\n",
              "      <td>0.000318</td>\n",
              "      <td>1.000000</td>\n",
              "    </tr>\n",
              "  </tbody>\n",
              "</table>\n",
              "</div>\n",
              "      <button class=\"colab-df-convert\" onclick=\"convertToInteractive('df-e4586a21-0d0a-4d58-a95d-6772b3a85dae')\"\n",
              "              title=\"Convert this dataframe to an interactive table.\"\n",
              "              style=\"display:none;\">\n",
              "        \n",
              "  <svg xmlns=\"http://www.w3.org/2000/svg\" height=\"24px\"viewBox=\"0 0 24 24\"\n",
              "       width=\"24px\">\n",
              "    <path d=\"M0 0h24v24H0V0z\" fill=\"none\"/>\n",
              "    <path d=\"M18.56 5.44l.94 2.06.94-2.06 2.06-.94-2.06-.94-.94-2.06-.94 2.06-2.06.94zm-11 1L8.5 8.5l.94-2.06 2.06-.94-2.06-.94L8.5 2.5l-.94 2.06-2.06.94zm10 10l.94 2.06.94-2.06 2.06-.94-2.06-.94-.94-2.06-.94 2.06-2.06.94z\"/><path d=\"M17.41 7.96l-1.37-1.37c-.4-.4-.92-.59-1.43-.59-.52 0-1.04.2-1.43.59L10.3 9.45l-7.72 7.72c-.78.78-.78 2.05 0 2.83L4 21.41c.39.39.9.59 1.41.59.51 0 1.02-.2 1.41-.59l7.78-7.78 2.81-2.81c.8-.78.8-2.07 0-2.86zM5.41 20L4 18.59l7.72-7.72 1.47 1.35L5.41 20z\"/>\n",
              "  </svg>\n",
              "      </button>\n",
              "      \n",
              "  <style>\n",
              "    .colab-df-container {\n",
              "      display:flex;\n",
              "      flex-wrap:wrap;\n",
              "      gap: 12px;\n",
              "    }\n",
              "\n",
              "    .colab-df-convert {\n",
              "      background-color: #E8F0FE;\n",
              "      border: none;\n",
              "      border-radius: 50%;\n",
              "      cursor: pointer;\n",
              "      display: none;\n",
              "      fill: #1967D2;\n",
              "      height: 32px;\n",
              "      padding: 0 0 0 0;\n",
              "      width: 32px;\n",
              "    }\n",
              "\n",
              "    .colab-df-convert:hover {\n",
              "      background-color: #E2EBFA;\n",
              "      box-shadow: 0px 1px 2px rgba(60, 64, 67, 0.3), 0px 1px 3px 1px rgba(60, 64, 67, 0.15);\n",
              "      fill: #174EA6;\n",
              "    }\n",
              "\n",
              "    [theme=dark] .colab-df-convert {\n",
              "      background-color: #3B4455;\n",
              "      fill: #D2E3FC;\n",
              "    }\n",
              "\n",
              "    [theme=dark] .colab-df-convert:hover {\n",
              "      background-color: #434B5C;\n",
              "      box-shadow: 0px 1px 3px 1px rgba(0, 0, 0, 0.15);\n",
              "      filter: drop-shadow(0px 1px 2px rgba(0, 0, 0, 0.3));\n",
              "      fill: #FFFFFF;\n",
              "    }\n",
              "  </style>\n",
              "\n",
              "      <script>\n",
              "        const buttonEl =\n",
              "          document.querySelector('#df-e4586a21-0d0a-4d58-a95d-6772b3a85dae button.colab-df-convert');\n",
              "        buttonEl.style.display =\n",
              "          google.colab.kernel.accessAllowed ? 'block' : 'none';\n",
              "\n",
              "        async function convertToInteractive(key) {\n",
              "          const element = document.querySelector('#df-e4586a21-0d0a-4d58-a95d-6772b3a85dae');\n",
              "          const dataTable =\n",
              "            await google.colab.kernel.invokeFunction('convertToInteractive',\n",
              "                                                     [key], {});\n",
              "          if (!dataTable) return;\n",
              "\n",
              "          const docLinkHtml = 'Like what you see? Visit the ' +\n",
              "            '<a target=\"_blank\" href=https://colab.research.google.com/notebooks/data_table.ipynb>data table notebook</a>'\n",
              "            + ' to learn more about interactive tables.';\n",
              "          element.innerHTML = '';\n",
              "          dataTable['output_type'] = 'display_data';\n",
              "          await google.colab.output.renderOutput(dataTable, element);\n",
              "          const docLink = document.createElement('div');\n",
              "          docLink.innerHTML = docLinkHtml;\n",
              "          element.appendChild(docLink);\n",
              "        }\n",
              "      </script>\n",
              "    </div>\n",
              "  </div>\n",
              "  "
            ]
          },
          "metadata": {},
          "execution_count": 112
        }
      ]
    },
    {
      "cell_type": "markdown",
      "source": [
        "**Name/Map**"
      ],
      "metadata": {
        "id": "xg4OCFm6C9qw"
      }
    },
    {
      "cell_type": "code",
      "source": [
        "valorant[['Name', 'Map']].corr()"
      ],
      "metadata": {
        "colab": {
          "base_uri": "https://localhost:8080/",
          "height": 112
        },
        "id": "9QPfgmiUDBdA",
        "outputId": "73e14d2d-d199-4470-acb4-612deafce846"
      },
      "execution_count": null,
      "outputs": [
        {
          "output_type": "execute_result",
          "data": {
            "text/plain": [
              "          Name       Map\n",
              "Name  1.000000  0.001287\n",
              "Map   0.001287  1.000000"
            ],
            "text/html": [
              "\n",
              "  <div id=\"df-fbc34a00-d766-4f4b-9555-b9ebc99a8914\">\n",
              "    <div class=\"colab-df-container\">\n",
              "      <div>\n",
              "<style scoped>\n",
              "    .dataframe tbody tr th:only-of-type {\n",
              "        vertical-align: middle;\n",
              "    }\n",
              "\n",
              "    .dataframe tbody tr th {\n",
              "        vertical-align: top;\n",
              "    }\n",
              "\n",
              "    .dataframe thead th {\n",
              "        text-align: right;\n",
              "    }\n",
              "</style>\n",
              "<table border=\"1\" class=\"dataframe\">\n",
              "  <thead>\n",
              "    <tr style=\"text-align: right;\">\n",
              "      <th></th>\n",
              "      <th>Name</th>\n",
              "      <th>Map</th>\n",
              "    </tr>\n",
              "  </thead>\n",
              "  <tbody>\n",
              "    <tr>\n",
              "      <th>Name</th>\n",
              "      <td>1.000000</td>\n",
              "      <td>0.001287</td>\n",
              "    </tr>\n",
              "    <tr>\n",
              "      <th>Map</th>\n",
              "      <td>0.001287</td>\n",
              "      <td>1.000000</td>\n",
              "    </tr>\n",
              "  </tbody>\n",
              "</table>\n",
              "</div>\n",
              "      <button class=\"colab-df-convert\" onclick=\"convertToInteractive('df-fbc34a00-d766-4f4b-9555-b9ebc99a8914')\"\n",
              "              title=\"Convert this dataframe to an interactive table.\"\n",
              "              style=\"display:none;\">\n",
              "        \n",
              "  <svg xmlns=\"http://www.w3.org/2000/svg\" height=\"24px\"viewBox=\"0 0 24 24\"\n",
              "       width=\"24px\">\n",
              "    <path d=\"M0 0h24v24H0V0z\" fill=\"none\"/>\n",
              "    <path d=\"M18.56 5.44l.94 2.06.94-2.06 2.06-.94-2.06-.94-.94-2.06-.94 2.06-2.06.94zm-11 1L8.5 8.5l.94-2.06 2.06-.94-2.06-.94L8.5 2.5l-.94 2.06-2.06.94zm10 10l.94 2.06.94-2.06 2.06-.94-2.06-.94-.94-2.06-.94 2.06-2.06.94z\"/><path d=\"M17.41 7.96l-1.37-1.37c-.4-.4-.92-.59-1.43-.59-.52 0-1.04.2-1.43.59L10.3 9.45l-7.72 7.72c-.78.78-.78 2.05 0 2.83L4 21.41c.39.39.9.59 1.41.59.51 0 1.02-.2 1.41-.59l7.78-7.78 2.81-2.81c.8-.78.8-2.07 0-2.86zM5.41 20L4 18.59l7.72-7.72 1.47 1.35L5.41 20z\"/>\n",
              "  </svg>\n",
              "      </button>\n",
              "      \n",
              "  <style>\n",
              "    .colab-df-container {\n",
              "      display:flex;\n",
              "      flex-wrap:wrap;\n",
              "      gap: 12px;\n",
              "    }\n",
              "\n",
              "    .colab-df-convert {\n",
              "      background-color: #E8F0FE;\n",
              "      border: none;\n",
              "      border-radius: 50%;\n",
              "      cursor: pointer;\n",
              "      display: none;\n",
              "      fill: #1967D2;\n",
              "      height: 32px;\n",
              "      padding: 0 0 0 0;\n",
              "      width: 32px;\n",
              "    }\n",
              "\n",
              "    .colab-df-convert:hover {\n",
              "      background-color: #E2EBFA;\n",
              "      box-shadow: 0px 1px 2px rgba(60, 64, 67, 0.3), 0px 1px 3px 1px rgba(60, 64, 67, 0.15);\n",
              "      fill: #174EA6;\n",
              "    }\n",
              "\n",
              "    [theme=dark] .colab-df-convert {\n",
              "      background-color: #3B4455;\n",
              "      fill: #D2E3FC;\n",
              "    }\n",
              "\n",
              "    [theme=dark] .colab-df-convert:hover {\n",
              "      background-color: #434B5C;\n",
              "      box-shadow: 0px 1px 3px 1px rgba(0, 0, 0, 0.15);\n",
              "      filter: drop-shadow(0px 1px 2px rgba(0, 0, 0, 0.3));\n",
              "      fill: #FFFFFF;\n",
              "    }\n",
              "  </style>\n",
              "\n",
              "      <script>\n",
              "        const buttonEl =\n",
              "          document.querySelector('#df-fbc34a00-d766-4f4b-9555-b9ebc99a8914 button.colab-df-convert');\n",
              "        buttonEl.style.display =\n",
              "          google.colab.kernel.accessAllowed ? 'block' : 'none';\n",
              "\n",
              "        async function convertToInteractive(key) {\n",
              "          const element = document.querySelector('#df-fbc34a00-d766-4f4b-9555-b9ebc99a8914');\n",
              "          const dataTable =\n",
              "            await google.colab.kernel.invokeFunction('convertToInteractive',\n",
              "                                                     [key], {});\n",
              "          if (!dataTable) return;\n",
              "\n",
              "          const docLinkHtml = 'Like what you see? Visit the ' +\n",
              "            '<a target=\"_blank\" href=https://colab.research.google.com/notebooks/data_table.ipynb>data table notebook</a>'\n",
              "            + ' to learn more about interactive tables.';\n",
              "          element.innerHTML = '';\n",
              "          dataTable['output_type'] = 'display_data';\n",
              "          await google.colab.output.renderOutput(dataTable, element);\n",
              "          const docLink = document.createElement('div');\n",
              "          docLink.innerHTML = docLinkHtml;\n",
              "          element.appendChild(docLink);\n",
              "        }\n",
              "      </script>\n",
              "    </div>\n",
              "  </div>\n",
              "  "
            ]
          },
          "metadata": {},
          "execution_count": 113
        }
      ]
    },
    {
      "cell_type": "markdown",
      "source": [
        "**Name/Game Rank**"
      ],
      "metadata": {
        "id": "pK-Kg1gADLD0"
      }
    },
    {
      "cell_type": "code",
      "source": [
        "valorant[['Name', 'Game Rank']].corr()"
      ],
      "metadata": {
        "colab": {
          "base_uri": "https://localhost:8080/",
          "height": 112
        },
        "id": "pdshEC3ZDS1X",
        "outputId": "6bd508c6-8dd2-4232-b349-e8a5791efd22"
      },
      "execution_count": null,
      "outputs": [
        {
          "output_type": "execute_result",
          "data": {
            "text/plain": [
              "               Name  Game Rank\n",
              "Name       1.000000   0.001142\n",
              "Game Rank  0.001142   1.000000"
            ],
            "text/html": [
              "\n",
              "  <div id=\"df-ca4c08ee-09ff-46b9-90d7-bc1126f48d77\">\n",
              "    <div class=\"colab-df-container\">\n",
              "      <div>\n",
              "<style scoped>\n",
              "    .dataframe tbody tr th:only-of-type {\n",
              "        vertical-align: middle;\n",
              "    }\n",
              "\n",
              "    .dataframe tbody tr th {\n",
              "        vertical-align: top;\n",
              "    }\n",
              "\n",
              "    .dataframe thead th {\n",
              "        text-align: right;\n",
              "    }\n",
              "</style>\n",
              "<table border=\"1\" class=\"dataframe\">\n",
              "  <thead>\n",
              "    <tr style=\"text-align: right;\">\n",
              "      <th></th>\n",
              "      <th>Name</th>\n",
              "      <th>Game Rank</th>\n",
              "    </tr>\n",
              "  </thead>\n",
              "  <tbody>\n",
              "    <tr>\n",
              "      <th>Name</th>\n",
              "      <td>1.000000</td>\n",
              "      <td>0.001142</td>\n",
              "    </tr>\n",
              "    <tr>\n",
              "      <th>Game Rank</th>\n",
              "      <td>0.001142</td>\n",
              "      <td>1.000000</td>\n",
              "    </tr>\n",
              "  </tbody>\n",
              "</table>\n",
              "</div>\n",
              "      <button class=\"colab-df-convert\" onclick=\"convertToInteractive('df-ca4c08ee-09ff-46b9-90d7-bc1126f48d77')\"\n",
              "              title=\"Convert this dataframe to an interactive table.\"\n",
              "              style=\"display:none;\">\n",
              "        \n",
              "  <svg xmlns=\"http://www.w3.org/2000/svg\" height=\"24px\"viewBox=\"0 0 24 24\"\n",
              "       width=\"24px\">\n",
              "    <path d=\"M0 0h24v24H0V0z\" fill=\"none\"/>\n",
              "    <path d=\"M18.56 5.44l.94 2.06.94-2.06 2.06-.94-2.06-.94-.94-2.06-.94 2.06-2.06.94zm-11 1L8.5 8.5l.94-2.06 2.06-.94-2.06-.94L8.5 2.5l-.94 2.06-2.06.94zm10 10l.94 2.06.94-2.06 2.06-.94-2.06-.94-.94-2.06-.94 2.06-2.06.94z\"/><path d=\"M17.41 7.96l-1.37-1.37c-.4-.4-.92-.59-1.43-.59-.52 0-1.04.2-1.43.59L10.3 9.45l-7.72 7.72c-.78.78-.78 2.05 0 2.83L4 21.41c.39.39.9.59 1.41.59.51 0 1.02-.2 1.41-.59l7.78-7.78 2.81-2.81c.8-.78.8-2.07 0-2.86zM5.41 20L4 18.59l7.72-7.72 1.47 1.35L5.41 20z\"/>\n",
              "  </svg>\n",
              "      </button>\n",
              "      \n",
              "  <style>\n",
              "    .colab-df-container {\n",
              "      display:flex;\n",
              "      flex-wrap:wrap;\n",
              "      gap: 12px;\n",
              "    }\n",
              "\n",
              "    .colab-df-convert {\n",
              "      background-color: #E8F0FE;\n",
              "      border: none;\n",
              "      border-radius: 50%;\n",
              "      cursor: pointer;\n",
              "      display: none;\n",
              "      fill: #1967D2;\n",
              "      height: 32px;\n",
              "      padding: 0 0 0 0;\n",
              "      width: 32px;\n",
              "    }\n",
              "\n",
              "    .colab-df-convert:hover {\n",
              "      background-color: #E2EBFA;\n",
              "      box-shadow: 0px 1px 2px rgba(60, 64, 67, 0.3), 0px 1px 3px 1px rgba(60, 64, 67, 0.15);\n",
              "      fill: #174EA6;\n",
              "    }\n",
              "\n",
              "    [theme=dark] .colab-df-convert {\n",
              "      background-color: #3B4455;\n",
              "      fill: #D2E3FC;\n",
              "    }\n",
              "\n",
              "    [theme=dark] .colab-df-convert:hover {\n",
              "      background-color: #434B5C;\n",
              "      box-shadow: 0px 1px 3px 1px rgba(0, 0, 0, 0.15);\n",
              "      filter: drop-shadow(0px 1px 2px rgba(0, 0, 0, 0.3));\n",
              "      fill: #FFFFFF;\n",
              "    }\n",
              "  </style>\n",
              "\n",
              "      <script>\n",
              "        const buttonEl =\n",
              "          document.querySelector('#df-ca4c08ee-09ff-46b9-90d7-bc1126f48d77 button.colab-df-convert');\n",
              "        buttonEl.style.display =\n",
              "          google.colab.kernel.accessAllowed ? 'block' : 'none';\n",
              "\n",
              "        async function convertToInteractive(key) {\n",
              "          const element = document.querySelector('#df-ca4c08ee-09ff-46b9-90d7-bc1126f48d77');\n",
              "          const dataTable =\n",
              "            await google.colab.kernel.invokeFunction('convertToInteractive',\n",
              "                                                     [key], {});\n",
              "          if (!dataTable) return;\n",
              "\n",
              "          const docLinkHtml = 'Like what you see? Visit the ' +\n",
              "            '<a target=\"_blank\" href=https://colab.research.google.com/notebooks/data_table.ipynb>data table notebook</a>'\n",
              "            + ' to learn more about interactive tables.';\n",
              "          element.innerHTML = '';\n",
              "          dataTable['output_type'] = 'display_data';\n",
              "          await google.colab.output.renderOutput(dataTable, element);\n",
              "          const docLink = document.createElement('div');\n",
              "          docLink.innerHTML = docLinkHtml;\n",
              "          element.appendChild(docLink);\n",
              "        }\n",
              "      </script>\n",
              "    </div>\n",
              "  </div>\n",
              "  "
            ]
          },
          "metadata": {},
          "execution_count": 114
        }
      ]
    },
    {
      "cell_type": "markdown",
      "source": [
        "Como pode-se observar, a coluna Name tem pouquissima relação com as demais colunas, isso ocorre ao fato dos nomes dos agentes estarem ordenados de acordo com o uso em jogo, sobrando para para as demasi colunas na mesma linha especificarem onde este agente aparece, e não por influência direta das colunas. Assim, por falta de uma padronização entre qualquer outra coluna, os números de correlação são baixos."
      ],
      "metadata": {
        "id": "fyIskJx8FHZT"
      }
    },
    {
      "cell_type": "markdown",
      "source": [
        "**Game Type/Map**"
      ],
      "metadata": {
        "id": "N9SeAYUZDndx"
      }
    },
    {
      "cell_type": "code",
      "source": [
        "valorant[['Game Type', 'Map']].corr()"
      ],
      "metadata": {
        "colab": {
          "base_uri": "https://localhost:8080/",
          "height": 112
        },
        "id": "qvjtlmX4DrwP",
        "outputId": "7547be06-5f8a-4d56-a8c7-d02f38feff82"
      },
      "execution_count": null,
      "outputs": [
        {
          "output_type": "execute_result",
          "data": {
            "text/plain": [
              "           Game Type       Map\n",
              "Game Type   1.000000 -0.073448\n",
              "Map        -0.073448  1.000000"
            ],
            "text/html": [
              "\n",
              "  <div id=\"df-fad29040-4a81-4c16-9037-66b34e18295a\">\n",
              "    <div class=\"colab-df-container\">\n",
              "      <div>\n",
              "<style scoped>\n",
              "    .dataframe tbody tr th:only-of-type {\n",
              "        vertical-align: middle;\n",
              "    }\n",
              "\n",
              "    .dataframe tbody tr th {\n",
              "        vertical-align: top;\n",
              "    }\n",
              "\n",
              "    .dataframe thead th {\n",
              "        text-align: right;\n",
              "    }\n",
              "</style>\n",
              "<table border=\"1\" class=\"dataframe\">\n",
              "  <thead>\n",
              "    <tr style=\"text-align: right;\">\n",
              "      <th></th>\n",
              "      <th>Game Type</th>\n",
              "      <th>Map</th>\n",
              "    </tr>\n",
              "  </thead>\n",
              "  <tbody>\n",
              "    <tr>\n",
              "      <th>Game Type</th>\n",
              "      <td>1.000000</td>\n",
              "      <td>-0.073448</td>\n",
              "    </tr>\n",
              "    <tr>\n",
              "      <th>Map</th>\n",
              "      <td>-0.073448</td>\n",
              "      <td>1.000000</td>\n",
              "    </tr>\n",
              "  </tbody>\n",
              "</table>\n",
              "</div>\n",
              "      <button class=\"colab-df-convert\" onclick=\"convertToInteractive('df-fad29040-4a81-4c16-9037-66b34e18295a')\"\n",
              "              title=\"Convert this dataframe to an interactive table.\"\n",
              "              style=\"display:none;\">\n",
              "        \n",
              "  <svg xmlns=\"http://www.w3.org/2000/svg\" height=\"24px\"viewBox=\"0 0 24 24\"\n",
              "       width=\"24px\">\n",
              "    <path d=\"M0 0h24v24H0V0z\" fill=\"none\"/>\n",
              "    <path d=\"M18.56 5.44l.94 2.06.94-2.06 2.06-.94-2.06-.94-.94-2.06-.94 2.06-2.06.94zm-11 1L8.5 8.5l.94-2.06 2.06-.94-2.06-.94L8.5 2.5l-.94 2.06-2.06.94zm10 10l.94 2.06.94-2.06 2.06-.94-2.06-.94-.94-2.06-.94 2.06-2.06.94z\"/><path d=\"M17.41 7.96l-1.37-1.37c-.4-.4-.92-.59-1.43-.59-.52 0-1.04.2-1.43.59L10.3 9.45l-7.72 7.72c-.78.78-.78 2.05 0 2.83L4 21.41c.39.39.9.59 1.41.59.51 0 1.02-.2 1.41-.59l7.78-7.78 2.81-2.81c.8-.78.8-2.07 0-2.86zM5.41 20L4 18.59l7.72-7.72 1.47 1.35L5.41 20z\"/>\n",
              "  </svg>\n",
              "      </button>\n",
              "      \n",
              "  <style>\n",
              "    .colab-df-container {\n",
              "      display:flex;\n",
              "      flex-wrap:wrap;\n",
              "      gap: 12px;\n",
              "    }\n",
              "\n",
              "    .colab-df-convert {\n",
              "      background-color: #E8F0FE;\n",
              "      border: none;\n",
              "      border-radius: 50%;\n",
              "      cursor: pointer;\n",
              "      display: none;\n",
              "      fill: #1967D2;\n",
              "      height: 32px;\n",
              "      padding: 0 0 0 0;\n",
              "      width: 32px;\n",
              "    }\n",
              "\n",
              "    .colab-df-convert:hover {\n",
              "      background-color: #E2EBFA;\n",
              "      box-shadow: 0px 1px 2px rgba(60, 64, 67, 0.3), 0px 1px 3px 1px rgba(60, 64, 67, 0.15);\n",
              "      fill: #174EA6;\n",
              "    }\n",
              "\n",
              "    [theme=dark] .colab-df-convert {\n",
              "      background-color: #3B4455;\n",
              "      fill: #D2E3FC;\n",
              "    }\n",
              "\n",
              "    [theme=dark] .colab-df-convert:hover {\n",
              "      background-color: #434B5C;\n",
              "      box-shadow: 0px 1px 3px 1px rgba(0, 0, 0, 0.15);\n",
              "      filter: drop-shadow(0px 1px 2px rgba(0, 0, 0, 0.3));\n",
              "      fill: #FFFFFF;\n",
              "    }\n",
              "  </style>\n",
              "\n",
              "      <script>\n",
              "        const buttonEl =\n",
              "          document.querySelector('#df-fad29040-4a81-4c16-9037-66b34e18295a button.colab-df-convert');\n",
              "        buttonEl.style.display =\n",
              "          google.colab.kernel.accessAllowed ? 'block' : 'none';\n",
              "\n",
              "        async function convertToInteractive(key) {\n",
              "          const element = document.querySelector('#df-fad29040-4a81-4c16-9037-66b34e18295a');\n",
              "          const dataTable =\n",
              "            await google.colab.kernel.invokeFunction('convertToInteractive',\n",
              "                                                     [key], {});\n",
              "          if (!dataTable) return;\n",
              "\n",
              "          const docLinkHtml = 'Like what you see? Visit the ' +\n",
              "            '<a target=\"_blank\" href=https://colab.research.google.com/notebooks/data_table.ipynb>data table notebook</a>'\n",
              "            + ' to learn more about interactive tables.';\n",
              "          element.innerHTML = '';\n",
              "          dataTable['output_type'] = 'display_data';\n",
              "          await google.colab.output.renderOutput(dataTable, element);\n",
              "          const docLink = document.createElement('div');\n",
              "          docLink.innerHTML = docLinkHtml;\n",
              "          element.appendChild(docLink);\n",
              "        }\n",
              "      </script>\n",
              "    </div>\n",
              "  </div>\n",
              "  "
            ]
          },
          "metadata": {},
          "execution_count": 115
        }
      ]
    },
    {
      "cell_type": "markdown",
      "source": [
        "Como pode-se notar, a relação especifica entre o Game Type e o Map é negativa. O Coeficiente de Correlação varia entre -1 e 1. Assim sendo, a situação acima demonstra que é quase que inexistente a relação entre as duas colunas, o que se justifica pelo fato que, no dataset, nada além da organização proposta pelo criador do dataset influência entre estas duas colunas."
      ],
      "metadata": {
        "id": "3EDL8JVjG3a_"
      }
    },
    {
      "cell_type": "markdown",
      "source": [
        "**Game Type/ Game Rank**"
      ],
      "metadata": {
        "id": "-B2I6kKyEBcj"
      }
    },
    {
      "cell_type": "code",
      "source": [
        "valorant[['Game Rank', 'Game Type']].corr()"
      ],
      "metadata": {
        "colab": {
          "base_uri": "https://localhost:8080/",
          "height": 112
        },
        "id": "pbIohSy7mYRe",
        "outputId": "8ff7cfd6-dce3-4bb5-cbb8-2089d50caae6"
      },
      "execution_count": null,
      "outputs": [
        {
          "output_type": "execute_result",
          "data": {
            "text/plain": [
              "           Game Rank  Game Type\n",
              "Game Rank   1.000000   0.524129\n",
              "Game Type   0.524129   1.000000"
            ],
            "text/html": [
              "\n",
              "  <div id=\"df-744cd3db-ff1a-444d-8e8e-93affb14b25a\">\n",
              "    <div class=\"colab-df-container\">\n",
              "      <div>\n",
              "<style scoped>\n",
              "    .dataframe tbody tr th:only-of-type {\n",
              "        vertical-align: middle;\n",
              "    }\n",
              "\n",
              "    .dataframe tbody tr th {\n",
              "        vertical-align: top;\n",
              "    }\n",
              "\n",
              "    .dataframe thead th {\n",
              "        text-align: right;\n",
              "    }\n",
              "</style>\n",
              "<table border=\"1\" class=\"dataframe\">\n",
              "  <thead>\n",
              "    <tr style=\"text-align: right;\">\n",
              "      <th></th>\n",
              "      <th>Game Rank</th>\n",
              "      <th>Game Type</th>\n",
              "    </tr>\n",
              "  </thead>\n",
              "  <tbody>\n",
              "    <tr>\n",
              "      <th>Game Rank</th>\n",
              "      <td>1.000000</td>\n",
              "      <td>0.524129</td>\n",
              "    </tr>\n",
              "    <tr>\n",
              "      <th>Game Type</th>\n",
              "      <td>0.524129</td>\n",
              "      <td>1.000000</td>\n",
              "    </tr>\n",
              "  </tbody>\n",
              "</table>\n",
              "</div>\n",
              "      <button class=\"colab-df-convert\" onclick=\"convertToInteractive('df-744cd3db-ff1a-444d-8e8e-93affb14b25a')\"\n",
              "              title=\"Convert this dataframe to an interactive table.\"\n",
              "              style=\"display:none;\">\n",
              "        \n",
              "  <svg xmlns=\"http://www.w3.org/2000/svg\" height=\"24px\"viewBox=\"0 0 24 24\"\n",
              "       width=\"24px\">\n",
              "    <path d=\"M0 0h24v24H0V0z\" fill=\"none\"/>\n",
              "    <path d=\"M18.56 5.44l.94 2.06.94-2.06 2.06-.94-2.06-.94-.94-2.06-.94 2.06-2.06.94zm-11 1L8.5 8.5l.94-2.06 2.06-.94-2.06-.94L8.5 2.5l-.94 2.06-2.06.94zm10 10l.94 2.06.94-2.06 2.06-.94-2.06-.94-.94-2.06-.94 2.06-2.06.94z\"/><path d=\"M17.41 7.96l-1.37-1.37c-.4-.4-.92-.59-1.43-.59-.52 0-1.04.2-1.43.59L10.3 9.45l-7.72 7.72c-.78.78-.78 2.05 0 2.83L4 21.41c.39.39.9.59 1.41.59.51 0 1.02-.2 1.41-.59l7.78-7.78 2.81-2.81c.8-.78.8-2.07 0-2.86zM5.41 20L4 18.59l7.72-7.72 1.47 1.35L5.41 20z\"/>\n",
              "  </svg>\n",
              "      </button>\n",
              "      \n",
              "  <style>\n",
              "    .colab-df-container {\n",
              "      display:flex;\n",
              "      flex-wrap:wrap;\n",
              "      gap: 12px;\n",
              "    }\n",
              "\n",
              "    .colab-df-convert {\n",
              "      background-color: #E8F0FE;\n",
              "      border: none;\n",
              "      border-radius: 50%;\n",
              "      cursor: pointer;\n",
              "      display: none;\n",
              "      fill: #1967D2;\n",
              "      height: 32px;\n",
              "      padding: 0 0 0 0;\n",
              "      width: 32px;\n",
              "    }\n",
              "\n",
              "    .colab-df-convert:hover {\n",
              "      background-color: #E2EBFA;\n",
              "      box-shadow: 0px 1px 2px rgba(60, 64, 67, 0.3), 0px 1px 3px 1px rgba(60, 64, 67, 0.15);\n",
              "      fill: #174EA6;\n",
              "    }\n",
              "\n",
              "    [theme=dark] .colab-df-convert {\n",
              "      background-color: #3B4455;\n",
              "      fill: #D2E3FC;\n",
              "    }\n",
              "\n",
              "    [theme=dark] .colab-df-convert:hover {\n",
              "      background-color: #434B5C;\n",
              "      box-shadow: 0px 1px 3px 1px rgba(0, 0, 0, 0.15);\n",
              "      filter: drop-shadow(0px 1px 2px rgba(0, 0, 0, 0.3));\n",
              "      fill: #FFFFFF;\n",
              "    }\n",
              "  </style>\n",
              "\n",
              "      <script>\n",
              "        const buttonEl =\n",
              "          document.querySelector('#df-744cd3db-ff1a-444d-8e8e-93affb14b25a button.colab-df-convert');\n",
              "        buttonEl.style.display =\n",
              "          google.colab.kernel.accessAllowed ? 'block' : 'none';\n",
              "\n",
              "        async function convertToInteractive(key) {\n",
              "          const element = document.querySelector('#df-744cd3db-ff1a-444d-8e8e-93affb14b25a');\n",
              "          const dataTable =\n",
              "            await google.colab.kernel.invokeFunction('convertToInteractive',\n",
              "                                                     [key], {});\n",
              "          if (!dataTable) return;\n",
              "\n",
              "          const docLinkHtml = 'Like what you see? Visit the ' +\n",
              "            '<a target=\"_blank\" href=https://colab.research.google.com/notebooks/data_table.ipynb>data table notebook</a>'\n",
              "            + ' to learn more about interactive tables.';\n",
              "          element.innerHTML = '';\n",
              "          dataTable['output_type'] = 'display_data';\n",
              "          await google.colab.output.renderOutput(dataTable, element);\n",
              "          const docLink = document.createElement('div');\n",
              "          docLink.innerHTML = docLinkHtml;\n",
              "          element.appendChild(docLink);\n",
              "        }\n",
              "      </script>\n",
              "    </div>\n",
              "  </div>\n",
              "  "
            ]
          },
          "metadata": {},
          "execution_count": 116
        }
      ]
    },
    {
      "cell_type": "markdown",
      "source": [
        "Além das relações entre o Name e o Map, a relação entre Game Type e Game Rank são as mais próximas do dataset. É provável que isso ocorra pelo fato de que, a partir de certo tipo de jogo, o rank começa a se repertir e subir de forma padronizada, ou seja, a partir do modo de jogo do competitivo existe uma relação entre as duas colunas."
      ],
      "metadata": {
        "id": "jzaV_1B_Ii-9"
      }
    },
    {
      "cell_type": "markdown",
      "source": [
        "**Map/Game Rank**"
      ],
      "metadata": {
        "id": "ywikUVNXEGnA"
      }
    },
    {
      "cell_type": "code",
      "source": [
        "valorant[['Game Rank', 'Map']].corr()"
      ],
      "metadata": {
        "colab": {
          "base_uri": "https://localhost:8080/",
          "height": 112
        },
        "id": "Kt0yx74yEJQX",
        "outputId": "0bb16ae3-f04b-4c16-d551-0134a980ca8c"
      },
      "execution_count": null,
      "outputs": [
        {
          "output_type": "execute_result",
          "data": {
            "text/plain": [
              "           Game Rank       Map\n",
              "Game Rank   1.000000 -0.060576\n",
              "Map        -0.060576  1.000000"
            ],
            "text/html": [
              "\n",
              "  <div id=\"df-bbf29eb4-28d5-4a7e-a525-61c81d38695f\">\n",
              "    <div class=\"colab-df-container\">\n",
              "      <div>\n",
              "<style scoped>\n",
              "    .dataframe tbody tr th:only-of-type {\n",
              "        vertical-align: middle;\n",
              "    }\n",
              "\n",
              "    .dataframe tbody tr th {\n",
              "        vertical-align: top;\n",
              "    }\n",
              "\n",
              "    .dataframe thead th {\n",
              "        text-align: right;\n",
              "    }\n",
              "</style>\n",
              "<table border=\"1\" class=\"dataframe\">\n",
              "  <thead>\n",
              "    <tr style=\"text-align: right;\">\n",
              "      <th></th>\n",
              "      <th>Game Rank</th>\n",
              "      <th>Map</th>\n",
              "    </tr>\n",
              "  </thead>\n",
              "  <tbody>\n",
              "    <tr>\n",
              "      <th>Game Rank</th>\n",
              "      <td>1.000000</td>\n",
              "      <td>-0.060576</td>\n",
              "    </tr>\n",
              "    <tr>\n",
              "      <th>Map</th>\n",
              "      <td>-0.060576</td>\n",
              "      <td>1.000000</td>\n",
              "    </tr>\n",
              "  </tbody>\n",
              "</table>\n",
              "</div>\n",
              "      <button class=\"colab-df-convert\" onclick=\"convertToInteractive('df-bbf29eb4-28d5-4a7e-a525-61c81d38695f')\"\n",
              "              title=\"Convert this dataframe to an interactive table.\"\n",
              "              style=\"display:none;\">\n",
              "        \n",
              "  <svg xmlns=\"http://www.w3.org/2000/svg\" height=\"24px\"viewBox=\"0 0 24 24\"\n",
              "       width=\"24px\">\n",
              "    <path d=\"M0 0h24v24H0V0z\" fill=\"none\"/>\n",
              "    <path d=\"M18.56 5.44l.94 2.06.94-2.06 2.06-.94-2.06-.94-.94-2.06-.94 2.06-2.06.94zm-11 1L8.5 8.5l.94-2.06 2.06-.94-2.06-.94L8.5 2.5l-.94 2.06-2.06.94zm10 10l.94 2.06.94-2.06 2.06-.94-2.06-.94-.94-2.06-.94 2.06-2.06.94z\"/><path d=\"M17.41 7.96l-1.37-1.37c-.4-.4-.92-.59-1.43-.59-.52 0-1.04.2-1.43.59L10.3 9.45l-7.72 7.72c-.78.78-.78 2.05 0 2.83L4 21.41c.39.39.9.59 1.41.59.51 0 1.02-.2 1.41-.59l7.78-7.78 2.81-2.81c.8-.78.8-2.07 0-2.86zM5.41 20L4 18.59l7.72-7.72 1.47 1.35L5.41 20z\"/>\n",
              "  </svg>\n",
              "      </button>\n",
              "      \n",
              "  <style>\n",
              "    .colab-df-container {\n",
              "      display:flex;\n",
              "      flex-wrap:wrap;\n",
              "      gap: 12px;\n",
              "    }\n",
              "\n",
              "    .colab-df-convert {\n",
              "      background-color: #E8F0FE;\n",
              "      border: none;\n",
              "      border-radius: 50%;\n",
              "      cursor: pointer;\n",
              "      display: none;\n",
              "      fill: #1967D2;\n",
              "      height: 32px;\n",
              "      padding: 0 0 0 0;\n",
              "      width: 32px;\n",
              "    }\n",
              "\n",
              "    .colab-df-convert:hover {\n",
              "      background-color: #E2EBFA;\n",
              "      box-shadow: 0px 1px 2px rgba(60, 64, 67, 0.3), 0px 1px 3px 1px rgba(60, 64, 67, 0.15);\n",
              "      fill: #174EA6;\n",
              "    }\n",
              "\n",
              "    [theme=dark] .colab-df-convert {\n",
              "      background-color: #3B4455;\n",
              "      fill: #D2E3FC;\n",
              "    }\n",
              "\n",
              "    [theme=dark] .colab-df-convert:hover {\n",
              "      background-color: #434B5C;\n",
              "      box-shadow: 0px 1px 3px 1px rgba(0, 0, 0, 0.15);\n",
              "      filter: drop-shadow(0px 1px 2px rgba(0, 0, 0, 0.3));\n",
              "      fill: #FFFFFF;\n",
              "    }\n",
              "  </style>\n",
              "\n",
              "      <script>\n",
              "        const buttonEl =\n",
              "          document.querySelector('#df-bbf29eb4-28d5-4a7e-a525-61c81d38695f button.colab-df-convert');\n",
              "        buttonEl.style.display =\n",
              "          google.colab.kernel.accessAllowed ? 'block' : 'none';\n",
              "\n",
              "        async function convertToInteractive(key) {\n",
              "          const element = document.querySelector('#df-bbf29eb4-28d5-4a7e-a525-61c81d38695f');\n",
              "          const dataTable =\n",
              "            await google.colab.kernel.invokeFunction('convertToInteractive',\n",
              "                                                     [key], {});\n",
              "          if (!dataTable) return;\n",
              "\n",
              "          const docLinkHtml = 'Like what you see? Visit the ' +\n",
              "            '<a target=\"_blank\" href=https://colab.research.google.com/notebooks/data_table.ipynb>data table notebook</a>'\n",
              "            + ' to learn more about interactive tables.';\n",
              "          element.innerHTML = '';\n",
              "          dataTable['output_type'] = 'display_data';\n",
              "          await google.colab.output.renderOutput(dataTable, element);\n",
              "          const docLink = document.createElement('div');\n",
              "          docLink.innerHTML = docLinkHtml;\n",
              "          element.appendChild(docLink);\n",
              "        }\n",
              "      </script>\n",
              "    </div>\n",
              "  </div>\n",
              "  "
            ]
          },
          "metadata": {},
          "execution_count": 117
        }
      ]
    },
    {
      "cell_type": "markdown",
      "source": [
        "Enquanto a relação entre Name e Map resulta em um número maior que 0, as demais relações de Map são negativas. Isto deve ocorrer pelos fatos mencionados ao decorrer do dataset, certos agentes são considerados melhores em certos mapas do que outros, dando um certo padrão para certos mapas. No entanto, além deste tipo de relacionamento, o relacionamento com o Game Type e o relacionamento com o Game Rank são quase que inexistentes, como já fora explicado acima."
      ],
      "metadata": {
        "id": "PQJUQzswKRHy"
      }
    },
    {
      "cell_type": "markdown",
      "source": [
        "##**Distribuição Amostral**"
      ],
      "metadata": {
        "id": "rW2PdbuI8xOW"
      }
    },
    {
      "cell_type": "markdown",
      "source": [
        "Aqui será utilizado dos dados dos agentes para se testar o Teorema do Limite Central atráves das médias das distribuições amostrais de agentes escolhidos randomicamente."
      ],
      "metadata": {
        "id": "GPVtI32I5eOW"
      }
    },
    {
      "cell_type": "markdown",
      "source": [
        "Para esta análise, serão usados três niveis de quantidade amostral dos agentes. Cada teste será rodado em torno de 1000 vezes por cada nivel."
      ],
      "metadata": {
        "id": "RcoF67l6Aw1F"
      }
    },
    {
      "cell_type": "code",
      "source": [
        "seed(1)\n",
        "\n",
        "mean1= [mean(randint(0, 19, 1)) for _ in range(1000)]\n",
        "\n",
        "plt.hist(mean1)\n",
        "plt.show"
      ],
      "metadata": {
        "colab": {
          "base_uri": "https://localhost:8080/",
          "height": 447
        },
        "id": "382_t6AN7GuE",
        "outputId": "16bc6fe2-7d2a-441b-d29c-7bb9ed6bf305"
      },
      "execution_count": null,
      "outputs": [
        {
          "output_type": "execute_result",
          "data": {
            "text/plain": [
              "<function matplotlib.pyplot.show(close=None, block=None)>"
            ]
          },
          "metadata": {},
          "execution_count": 119
        },
        {
          "output_type": "display_data",
          "data": {
            "text/plain": [
              "<Figure size 640x480 with 1 Axes>"
            ],
            "image/png": "[encoded data removed]"
          },
          "metadata": {}
        }
      ]
    },
    {
      "cell_type": "markdown",
      "source": [
        "Neste nivel, está sendo usado apenas um agente escolhido rândomicamente para calcular a média, e, como pode-se notar, não há alguma semelhança com a normal, apenas um gráfico comum."
      ],
      "metadata": {
        "id": "SlN-gyH8BjZp"
      }
    },
    {
      "cell_type": "code",
      "source": [
        "mean2 = [mean(randint(0, 19, 10)) for _ in range(1000)]\n",
        "\n",
        "plt.hist(mean2)\n",
        "plt.show"
      ],
      "metadata": {
        "colab": {
          "base_uri": "https://localhost:8080/",
          "height": 447
        },
        "id": "YLDvYaZP_ayo",
        "outputId": "488bed46-5074-4348-a0bb-3c30c56b7e3c"
      },
      "execution_count": null,
      "outputs": [
        {
          "output_type": "execute_result",
          "data": {
            "text/plain": [
              "<function matplotlib.pyplot.show(close=None, block=None)>"
            ]
          },
          "metadata": {},
          "execution_count": 120
        },
        {
          "output_type": "display_data",
          "data": {
            "text/plain": [
              "<Figure size 640x480 with 1 Axes>"
            ],
            "image/png": "[encoded data removed]"
          },
          "metadata": {}
        }
      ]
    },
    {
      "cell_type": "markdown",
      "source": [
        "Já neste nivel, está sendo usado 10 agentes rândomicos para calculo da média, e, assim, o gráfico se aproxima a uma normal."
      ],
      "metadata": {
        "id": "_xrC07vsCPF5"
      }
    },
    {
      "cell_type": "code",
      "source": [
        "mean3= [mean(randint(0, 19, 19)) for _ in range(1000)]\n",
        "\n",
        "plt.hist(mean3)\n",
        "plt.show"
      ],
      "metadata": {
        "colab": {
          "base_uri": "https://localhost:8080/",
          "height": 447
        },
        "id": "MpllmbaK_hCC",
        "outputId": "5f80e68e-223d-44d9-ccf5-69f46771d5c2"
      },
      "execution_count": null,
      "outputs": [
        {
          "output_type": "execute_result",
          "data": {
            "text/plain": [
              "<function matplotlib.pyplot.show(close=None, block=None)>"
            ]
          },
          "metadata": {},
          "execution_count": 121
        },
        {
          "output_type": "display_data",
          "data": {
            "text/plain": [
              "<Figure size 640x480 with 1 Axes>"
            ],
            "image/png": "[encoded data removed]"
          },
          "metadata": {}
        }
      ]
    },
    {
      "cell_type": "markdown",
      "source": [
        "Neste nivel, está sendo usado todos os agentes, escolhidos de forma rândomica, para o cálculo da média, e, mesmo assim, há pouca mudança do nivel 2, mas já o possivél notar as propriedades do Teorema do Limite Central, visto que, a amostra não pode ultrapassar 19 agentes por isso ser seu total, esta é o mais próximo da normal que o dataset consegue chegar."
      ],
      "metadata": {
        "id": "qVkdnBlUCg8u"
      }
    },
    {
      "cell_type": "markdown",
      "source": [
        "Com isso, fica demonstrado o Teorema do Limite Central, que diz quanto maior a amostra mais próxima da normal. Conforme os niveis foram subindo, o gráfico da amostra foi ficando cada vez mais próximo da normal, até chegar ao seu máximo e, de fato, parecer a normal, comprovando, assim, o Teorema."
      ],
      "metadata": {
        "id": "6XlZzgnJDCoI"
      }
    },
    {
      "cell_type": "markdown",
      "source": [
        "##**Estatística Descritiva**"
      ],
      "metadata": {
        "id": "hEH0cYLxE-eY"
      }
    },
    {
      "cell_type": "markdown",
      "source": [
        "Aqui será utilizado diferentes gráficos para representar os agentes. A ideia é mostrar as principais caracteristicas de cada gráfico e como eles se comportariam como o dataset em questão."
      ],
      "metadata": {
        "id": "xD9vvAFrD2Oo"
      }
    },
    {
      "cell_type": "markdown",
      "source": [
        "##**Box Plot**"
      ],
      "metadata": {
        "id": "qTJwM5ZsDvmQ"
      }
    },
    {
      "cell_type": "markdown",
      "source": [
        "Aqui será usado BoxPlot para representar a relação entre o agente e o mapa, parecido com que ocorre com a Probabilidade Condicional."
      ],
      "metadata": {
        "id": "ZV8gkh3TT3cQ"
      }
    },
    {
      "cell_type": "code",
      "source": [
        "fig1 = px.box(valorant, x='Name', y='Map')\n",
        "fig1.show()"
      ],
      "metadata": {
        "colab": {
          "base_uri": "https://localhost:8080/",
          "height": 542
        },
        "id": "KKHj3y1HEZfP",
        "outputId": "26119d39-8155-479f-b95a-6aa92e939a63"
      },
      "execution_count": null,
      "outputs": [
        {
          "output_type": "display_data",
          "data": {
            "text/html": [
              "<html>\n",
              "<head><meta charset=\"utf-8\" /></head>\n",
              "<body>\n",
              "    <div>            <script src=\"https://cdnjs.cloudflare.com/ajax/libs/mathjax/2.7.5/MathJax.js?config=TeX-AMS-MML_SVG\"></script><script type=\"text/javascript\">if (window.MathJax && window.MathJax.Hub && window.MathJax.Hub.Config) {window.MathJax.Hub.Config({SVG: {font: \"STIX-Web\"}});}</script>                <script type=\"text/javascript\">window.PlotlyConfig = {MathJaxConfig: 'local'};</script>\n",
              "        <script src=\"https://cdn.plot.ly/plotly-2.18.2.min.js\"></script>                <div id=\"b726ce66-ac57-4668-a470-583e113c46ac\" class=\"plotly-graph-div\" style=\"height:525px; width:100%;\"></div>            <script type=\"text/javascript\">                                    window.PLOTLYENV=window.PLOTLYENV || {};                                    if (document.getElementById(\"b726ce66-ac57-4668-a470-583e113c46ac\")) {                    Plotly.newPlot(                        \"b726ce66-ac57-4668-a470-583e113c46ac\",                        [{\"alignmentgroup\":\"True\",\"hovertemplate\":\"Name=%{x}<br>Map=%{y}<extra></extra>\",\"legendgroup\":\"\",\"marker\":{\"color\":\"#636efa\"},\"name\":\"\",\"notched\":false,\"offsetgroup\":\"\",\"orientation\":\"v\",\"showlegend\":false,\"x\":[1,3,15,13,9,10,12,14,2,8,15,9,10,13,12,2,7,1,0,17,5,13,7,10,15,19,14,18,6,11,13,14,8,1,10,4,12,19,2,7,5,19,14,13,15,10,1,15,14,1,7,13,10,3,6,11,8,17,0,2,7,3,4,15,14,13,19,10,18,0,15,7,13,4,12,14,1,19,10,9,14,13,15,2,18,1,5,4,16,10,7,12,3,0,11,6,19,17,8,9,14,15,13,5,4,2,0,18,16,10,12,7,3,11,1,19,17,6,8,9,14,13,15,2,1,4,11,16,5,0,12,10,7,18,17,3,19,6,8,9,13,14,0,15,5,1,4,3,18,7,16,12,10,11,2,17,19,8,6,9,18,14,15,13,7,5,16,3,17,10,12,0,11,1,4,2,19,8,6,9,13,15,14,16,4,18,2,5,11,0,12,1,7,10,19,3,17,8,6,9,13,14,15,0,2,16,11,4,17,18,5,12,7,1,3,10,6,8,19,4,16,13,3,0,1,9,2,18,8,15,10,7,6,14,12,11,5,17,19,16,5,14,4,2,13,7,15,0,12,9,3,17,11,18,8,10,19,1,6,16,4,9,0,7,17,14,13,10,3,19,1,8,5,12,15,2,6,18,11,9,0,1,14,4,11,17,7,16,13,10,12,18,5,15,3,2,19,8,6,13,9,5,11,7,6,14,12,16,1,3,0,4,10,19,15,17,18,8,2,9,7,18,14,17,15,13,4,3,6,10,12,19,8,16,11,5,0,1,2,4,13,14,9,0,16,15,5,3,1,7,12,11,8,17,19,2,6,10,18,7,14,18,10,4,15,16,19,17,12,13,6,3,5,8,9,11,1,2,0,7,9,14,13,11,17,15,8,0,10,16,4,5,19,12,3,18,2,1,6,14,2,1,12,13,7,9,16,15,4,10,0,19,18,8,5,3,11,17,6,0,14,4,12,9,13,7,16,15,5,2,17,11,10,3,19,1,6,18,8,2,0,14,12,13,7,10,4,1,15,17,9,5,16,19,3,18,6,11,8,12,13,14,0,6,7,4,9,2,15,10,1,17,3,16,11,19,5,18,8,12,13,14,1,7,9,17,10,15,16,19,0,4,11,8,3,6,2,5,18,6,14,1,7,18,12,15,9,2,13,19,16,17,10,4,11,0,5,3,8,9,14,12,7,13,0,4,10,15,16,11,3,1,6,17,2,18,5,19,8,14,7,12,10,3,13,6,18,19,9,4,15,17,16,0,8,1,11,2,5,9,14,12,2,7,13,5,0,17,11,1,15,16,3,10,19,4,6,8,18,18,5,10,16,3,0,8,6,19,11,13,9,1,14,15,7,4,12,17,2,0,5,16,10,13,9,18,8,6,19,3,14,4,12,15,11,7,1,17,2,0,10,9,18,14,13,8,16,19,5,4,6,11,3,7,15,1,12,17,2,16,0,18,9,10,6,13,5,14,19,4,11,3,1,7,15,8,2,12,17,18,0,3,14,10,5,19,16,6,9,1,4,11,13,8,7,15,12,17,2,10,16,9,6,13,18,14,5,0,11,8,3,19,4,15,1,17,7,2,12,0,10,18,19,16,8,6,14,13,4,5,1,3,15,9,11,12,7,17,2,0,16,3,8,10,1,19,9,6,11,14,5,18,13,7,4,17,15,2,12,5,0,14,10,16,19,9,18,11,1,3,8,6,13,4,7,15,17,12,2,9,14,7,13,10,12,16,3,1,15,18,6,4,19,2,5,8,11,17,0,9,14,10,1,13,12,7,3,18,16,15,11,0,5,2,19,17,4,8,6,14,12,3,13,10,7,9,16,15,1,0,19,4,5,11,2,17,8,18,6,14,7,13,12,10,9,15,1,3,5,19,4,11,16,2,0,17,8,18,6,14,12,7,13,9,10,3,15,17,5,16,0,11,19,1,2,18,4,8,6,14,7,13,9,10,3,12,15,4,19,1,11,18,16,17,5,2,8,6,0,9,14,12,13,10,7,15,16,1,2,0,11,3,4,19,18,5,8,17,6,14,7,10,3,12,13,16,9,15,18,6,2,4,8,1,19,5,0,11,17,14,3,12,9,7,13,10,15,17,2,1,5,19,0,16,18,11,4,8,6,14,2,1,13,7,9,18,0,16,5,3,4,10,15,12,11,6,8,17,19,0,9,14,7,5,18,4,16,2,15,13,12,1,3,17,8,11,6,10,19,0,2,14,7,9,16,13,11,4,15,17,12,1,3,18,5,8,6,19,10,7,14,9,16,13,0,4,1,15,3,2,12,18,11,5,10,8,17,19,6,0,7,14,9,18,17,13,15,16,1,2,11,3,8,5,12,4,19,10,6,9,0,13,16,14,2,7,15,4,11,1,3,5,6,18,8,12,19,17,10,9,14,7,13,17,0,2,11,1,12,15,16,4,3,18,5,8,19,10,6,6,13,16,15,14,5,8,10,18,3,4,12,7,17,2,11,0,19,1,9,6,9,4,8,3,14,15,17,5,18,11,10,16,12,0,2,1,7,13,19,0,11,14,9,7,13,15,18,5,12,3,16,2,4,19,1,6,10,8,17,15,9,7,14,3,12,18,8,11,2,17,4,5,0,19,13,16,1,6,10,0,17,15,13,7,3,18,9,14,8,6,12,4,19,5,11,10,2,1,16,9,5,11,18,14,4,13,15,7,2,16,12,19,3,10,6,0,1,17,8,6,9,4,18,2,8,11,14,12,13,15,17,5,19,7,16,3,10,1,0,1,2,9,3,15,14,16,10,4,5,18,17,13,11,19,12,6,7,0,8,12,9,4,1,18,14,16,13,15,3,0,6,2,5,7,11,17,19,8,10,9,8,5,15,14,4,18,16,11,0,13,2,3,7,1,10,6,12,17,19,16,4,0,15,9,1,14,13,17,18,5,3,11,12,7,2,8,10,19,6,0,4,9,16,15,3,2,13,10,11,14,5,12,17,6,18,1,7,8,19,2,9,15,13,16,11,18,5,10,14,3,4,1,0,12,17,19,7,8,6,9,2,18,0,11,13,15,17,12,4,14,3,7,16,8,5,19,10,6,1,9,7,2,1,14,16,13,15,5,12,17,4,18,3,10,11,8,0,19,6,9,18,15,13,2,0,14,4,5,1,7,16,10,3,17,11,12,19,6,8,16,9,15,1,14,12,2,13,17,11,6,10,4,8,5,18,7,3,0,19,9,13,0,15,4,14,16,7,2,5,12,18,10,1,8,11,17,6,3,19,9,15,5,18,4,12,14,0,8,16,17,3,2,13,7,11,1,19,10,6,9,18,2,4,13,15,14,1,16,0,8,11,12,7,5,10,3,6,19,17,0,9,13,2,17,1,14,15,3,16,12,18,11,8,5,7,4,10,19,6,9,15,1,14,12,5,0,10,2,18,13,16,4,17,7,11,3,8,6,19,9,0,14,15,11,2,13,5,3,12,18,17,16,4,1,7,10,6,8,19,0,2,9,1,13,16,15,12,14,4,18,11,17,5,3,7,8,19,10,6,9,7,15,18,14,13,17,5,1,12,16,11,8,10,4,3,0,2,6,19,9,0,14,17,2,13,7,15,4,12,11,16,1,3,18,5,10,8,19,6,9,2,15,13,17,14,7,0,12,11,18,10,6,4,5,1,8,16,3,19,2,9,12,14,13,15,4,7,10,16,1,3,5,18,8,11,0,17,6,19,9,2,14,0,15,16,7,12,18,13,4,5,17,10,11,1,3,8,6,19,4,9,5,12,14,13,2,15,7,17,0,11,18,10,16,1,8,19,3,6,9,14,13,18,2,15,12,7,0,1,16,17,11,5,10,4,3,6,19,8,9,14,18,7,15,13,17,12,11,16,5,10,3,2,8,0,1,4,6,19,2,13,9,15,14,12,16,1,4,18,5,11,17,7,3,0,8,10,19,6,0,9,17,13,14,2,12,15,18,3,5,7,16,11,4,10,19,1,8,6,9,14,7,2,18,15,13,1,10,5,16,12,4,0,11,6,3,17,19,8,9,0,14,13,15,2,5,12,16,18,10,1,4,7,11,6,19,17,8,3,9,15,2,14,13,0,7,12,1,16,3,10,18,17,5,4,11,8,19,6,9,14,12,0,7,2,15,13,3,16,5,18,1,11,4,17,10,8,6,19,14,7,15,9,5,13,18,11,12,16,17,3,10,0,6,1,2,8,4,19,0,14,13,16,2,9,15,12,7,5,4,11,18,1,10,17,3,6,19,8,2,9,14,13,0,15,17,11,7,12,16,10,4,1,18,5,3,19,6,8,2,9,14,7,13,15,12,5,1,10,18,4,0,8,16,17,3,11,19,6,9,2,13,12,5,0,7,14,15,3,18,10,16,4,1,17,11,19,8,6,12,2,9,13,14,15,7,11,4,1,17,5,10,0,16,18,19,3,8,6,12,14,2,9,15,7,5,13,17,18,16,1,0,11,4,3,10,8,19,6,9,7,14,18,0,15,5,12,17,2,13,11,1,16,10,4,8,3,19,6,9,14,2,13,12,15,5,7,4,16,11,0,18,1,17,10,3,6,8,19,12,9,2,17,15,14,13,7,0,18,10,11,1,4,5,16,3,8,19,6,9,2,12,14,15,13,7,5,10,18,1,3,17,16,4,11,0,8,19,6,12,14,0,9,2,13,5,18,15,16,4,17,7,1,11,10,3,8,19,6,12,9,16,2,15,14,0,13,7,18,4,5,11,1,17,19,3,8,6,10,12,9,2,14,13,5,15,1,10,7,3,18,16,4,11,17,6,19,8,0,9,18,7,14,15,17,13,12,16,5,3,2,11,1,8,4,0,19,10,6,12,0,9,13,2,14,15,16,5,11,4,7,18,17,3,19,1,10,8,6,2,17,13,12,9,14,4,0,15,7,16,5,18,11,3,1,19,10,8,6,2,9,14,13,5,12,15,7,17,1,18,10,16,4,0,11,19,3,6,8,12,9,14,2,5,18,15,0,7,13,4,1,19,16,17,10,11,6,3,8,2,12,14,5,9,13,17,15,7,16,4,11,3,10,1,0,18,8,19,6,9,2,12,14,0,15,5,7,1,18,13,16,17,3,11,10,4,19,6,8,9,14,15,18,7,12,5,16,13,10,3,17,2,4,0,11,1,8,19,6,0,13,9,2,15,1,14,12,16,4,7,5,3,17,11,18,10,8,6,19,2,12,13,14,4,17,0,9,15,5,7,1,11,16,3,18,19,6,8,10,9,2,7,5,14,15,1,13,12,10,18,16,4,17,0,3,11,8,19,6,2,12,9,5,14,0,17,13,4,16,15,7,3,18,1,10,11,6,8,19,9,5,2,0,12,17,14,13,15,16,7,4,11,1,18,8,3,10,19,6,2,0,15,14,13,5,17,12,9,7,4,10,16,1,18,3,11,6,8,19,9,15,7,14,17,18,5,13,3,1,12,2,4,11,8,16,10,0,6,19,15,16,9,12,2,14,18,0,7,13,4,11,5,17,3,1,10,19,8,6,2,0,17,9,14,12,13,15,7,1,5,18,11,16,4,3,8,19,10,6,2,9,14,0,15,12,7,18,13,10,1,16,4,5,11,17,3,8,19,6,12,9,15,0,13,2,5,14,18,17,7,4,16,6,11,10,1,19,3,8,9,12,2,5,14,13,0,15,11,17,7,4,1,10,16,18,3,8,19,6,15,2,14,9,12,13,18,16,17,0,3,7,5,4,1,6,11,10,19,8,9,18,12,14,15,7,17,13,2,3,5,0,16,6,11,1,10,4,8,19,2,15,1,13,16,14,7,12,9,5,11,4,18,0,17,3,10,19,8,6,2,12,17,14,4,13,7,15,5,9,3,11,0,16,19,1,18,10,8,6,2,9,0,14,18,16,12,13,7,1,15,10,5,4,3,17,19,11,8,6,12,17,9,15,14,2,13,5,0,4,18,11,16,7,1,3,10,6,19,8,13,9,2,17,15,14,12,16,7,1,18,0,5,3,4,11,10,6,19,8,0,15,12,3,13,1,2,9,14,18,7,11,5,4,17,6,16,10,19,8,9,18,17,5,15,7,14,11,13,12,16,3,2,19,10,1,4,8,6,0,9,15,2,14,13,5,12,0,19,16,7,4,11,17,3,18,8,1,10,6,15,17,2,12,13,0,14,9,3,7,4,18,16,11,10,19,1,5,8,6,9,2,12,13,15,7,18,14,5,1,4,16,17,0,10,3,19,8,11,6,12,2,15,9,18,14,0,5,1,13,7,4,17,19,3,11,16,10,6,8,2,12,4,13,9,17,14,15,5,11,0,16,10,1,7,3,18,19,6,8,9,12,18,0,3,14,15,13,5,2,17,4,11,1,7,6,16,10,8,19,9,18,15,17,7,14,13,0,5,12,3,16,2,10,8,6,11,1,4,19,9,2,17,18,15,0,16,14,13,12,11,5,7,4,10,3,1,8,19,6,2,0,17,14,9,5,12,13,16,15,11,7,4,3,10,1,18,8,19,6,2,5,9,12,13,17,15,14,16,1,7,3,10,0,4,19,18,11,8,6,2,9,5,15,0,14,12,18,10,17,7,4,13,16,11,3,1,19,8,6,15,9,13,16,18,12,2,5,14,4,7,17,11,1,0,10,19,3,8,6,2,13,5,15,9,1,0,12,3,14,11,16,18,17,7,6,10,4,8,19,15,9,18,17,14,12,5,2,13,7,3,10,16,6,11,8,19,4,1,0,15,9,2,5,14,13,0,1,16,12,11,4,7,18,17,10,6,8,3,19,12,2,17,15,9,16,19,14,5,7,13,0,3,4,11,1,6,18,8,10,2,17,9,18,14,15,13,7,12,0,4,1,10,5,3,16,8,11,19,6,9,17,18,16,15,13,14,2,4,5,12,3,7,0,10,11,8,19,1,6,16,2,0,17,9,12,5,15,7,19,11,10,3,14,4,13,1,8,18,6,12,13,15,0,18,9,1,14,5,2,7,3,17,16,4,11,8,6,10,19,12,15,14,6,7,16,13,9,5,18,2,17,3,10,11,1,8,0,19,4,15,5,2,12,14,13,0,9,1,7,11,3,17,4,19,16,18,8,10,6,2,12,17,13,9,14,5,15,7,1,19,0,4,11,3,16,18,8,6,10,12,2,9,13,14,7,17,15,18,4,5,3,1,16,10,0,11,8,19,6,15,13,12,5,17,0,18,7,2,14,4,9,3,8,16,11,19,1,10,6,2,9,0,12,13,14,17,10,15,4,5,7,16,1,11,19,18,3,6,8,15,9,0,2,1,13,12,14,10,5,3,11,18,7,16,17,4,19,6,8,9,15,14,2,5,18,3,13,1,17,7,10,19,12,4,0,16,11,8,6,2,15,9,14,13,0,16,7,12,10,1,11,17,5,4,8,18,3,19,6,2,15,12,17,0,4,13,9,14,16,7,19,11,5,3,1,8,18,10,6,9,12,15,2,14,7,1,13,4,16,5,18,10,3,17,0,19,11,8,6,12,15,2,14,9,18,17,13,4,5,19,7,11,0,1,16,3,8,10,6,18,2,15,12,17,9,4,19,14,13,0,7,16,3,5,1,11,6,10,8,2,13,15,12,0,17,9,5,3,14,1,7,4,18,16,11,6,10,19,8,18,12,15,2,7,14,17,9,16,10,5,3,0,4,13,1,8,11,19,6,15,2,12,13,16,9,14,11,17,18,1,7,4,0,5,3,8,10,19,6,12,2,9,15,17,13,18,4,14,0,1,5,11,7,3,16,10,19,8,6,12,9,14,2,5,1,13,15,18,3,0,16,19,7,4,11,8,10,17,6,2,0,9,12,13,15,14,5,16,1,17,3,7,4,18,6,11,19,10,8,2,9,15,17,14,12,4,16,0,13,7,5,1,11,10,3,18,19,8,6,2,15,9,5,13,3,11,7,14,0,12,16,17,4,1,10,18,8,19,6,9,18,3,14,5,15,17,7,13,16,11,2,12,1,8,19,6,10,4,0,9,15,13,12,14,2,16,11,17,5,18,1,0,4,10,7,3,8,19,6,2,17,15,14,0,4,11,1,12,7,9,13,5,19,16,18,3,6,8,10,9,0,10,17,15,12,2,14,5,13,7,4,1,3,18,16,19,6,8,11,2,0,17,16,4,14,15,13,10,9,12,5,18,3,7,6,8,1,11,19,13,9,2,12,15,16,19,3,17,1,10,11,14,7,5,4,0,18,8,6,2,12,13,9,14,18,17,1,11,15,0,5,16,3,4,6,7,19,10,8,15,12,16,9,18,14,7,17,0,5,19,10,13,2,11,4,3,6,1,8,2,18,15,9,16,14,19,13,4,7,11,12,5,0,8,17,3,6,1,10,15,2,16,14,1,17,9,7,0,5,13,11,19,4,12,18,3,10,8,6,12,15,13,5,2,14,16,9,7,10,4,1,19,3,18,11,0,17,8,6,6,0,2,17,1,18,12,7,11,15,16,9,14,13,3,4,5,10,8,19,12,2,9,15,13,1,5,16,7,10,3,0,17,14,4,11,8,18,19,6,0,5,15,1,14,4,9,7,13,17,18,12,10,16,11,3,19,2,6,8,2,15,12,7,14,0,16,13,9,4,5,1,3,11,10,17,18,8,19,6,2,19,1,13,12,18,14,4,7,17,15,9,16,5,11,6,8,0,3,10,19,15,2,14,9,13,7,1,17,5,12,18,4,10,3,0,11,16,8,6,15,9,2,12,19,0,14,5,10,16,7,18,4,3,17,13,11,8,1,6,12,16,15,9,14,17,13,1,5,11,0,2,7,10,3,4,19,8,6,18,2,6,16,17,1,13,7,15,14,9,3,8,12,11,4,10,0,5,18,19,2,9,17,15,13,18,14,12,7,11,6,4,5,19,3,1,10,8,16,0,10,2,3,16,17,4,9,15,13,0,14,12,5,11,7,18,1,19,8,6,6,1,2,13,16,17,14,10,4,7,9,12,5,11,18,15,0,8,3,19,15,9,2,16,3,14,5,1,13,4,18,7,19,0,10,8,12,11,6,17,0,2,18,12,13,14,9,7,15,5,19,17,4,10,16,11,1,3,8,6,12,15,2,3,9,16,11,14,13,5,1,4,7,0,17,6,19,8,10,18,9,18,2,5,15,8,13,0,14,10,4,7,11,1,3,16,17,12,19,6,10,9,16,6,18,15,5,3,17,1,14,7,13,4,2,12,19,11,8,0,2,19,10,13,15,9,4,7,14,16,1,11,0,17,5,8,12,3,6,18,10,2,15,13,16,19,1,6,4,11,17,5,9,14,7,3,0,18,12,8,17,9,5,15,12,10,14,19,2,7,13,4,1,11,8,6,18,16,0,3,9,17,15,2,13,12,10,0,4,5,16,19,18,1,14,6,7,8,11,3,6,18,19,13,2,14,10,9,15,8,12,3,5,7,11,16,4,17,0,1,12,2,16,15,9,11,13,7,8,18,5,1,3,6,14,4,0,19,17,10,11,14,15,18,13,9,7,17,5,2,16,19,6,3,8,12,10,4,0,1,17,3,2,19,0,5,18,12,15,4,13,14,9,1,11,8,7,16,10,6,1,2,15,13,12,5,14,17,3,4,0,7,8,19,9,11,16,6,10,18,12,15,9,14,10,7,2,1,3,19,4,13,11,5,16,18,8,0,6,17,1,15,19,13,7,3,12,4,5,2,14,17,0,11,6,18,9,8,16,10,18,10,2,14,9,0,8,4,13,17,19,7,12,1,5,15,11,16,3,6,18,0,15,16,10,2,14,11,9,13,4,1,12,17,5,7,3,6,8,19,3,12,2,11,19,17,15,7,13,14,18,9,6,16,4,10,8,5,0,1,2,16,12,14,5,13,15,3,11,0,7,8,9,1,4,18,17,6,19,10,10,12,19,2,13,0,4,9,14,7,17,5,15,16,11,8,3,1,18,6,16,3,15,13,2,4,17,1,14,7,11,9,10,5,12,6,8,0,18,19,19,16,2,3,15,4,10,17,13,9,6,12,7,18,5,0,8,14,11,1,3,2,19,7,5,14,15,0,13,9,8,4,17,11,18,1,16,12,6,10,18,12,15,8,13,9,4,11,19,10,2,5,17,14,7,16,1,3,6,0,19,13,14,9,12,7,17,18,3,15,8,6,16,4,10,11,19,3,2,12,9,14,11,16,5,15,4,18,6,13,1,7,0,8,17,10,2,15,3,4,0,5,7,17,1,12,14,6,11,19,9,8,10,13,16,9,2,1,13,14,15,7,4,8,12,10,17,0,11,5,16,18,19,3,6,9,13,5,14,18,2,15,12,6,4,17,7,3,16,0,19,8,11,10,1],\"x0\":\" \",\"xaxis\":\"x\",\"y\":[3,3,3,3,3,3,3,3,3,3,1,1,1,1,1,1,1,1,7,7,7,7,7,7,7,7,7,7,7,4,4,4,4,4,4,4,4,4,4,4,4,5,5,5,5,5,5,8,8,8,8,8,8,8,8,8,8,2,2,2,2,2,2,2,2,2,2,2,0,0,0,0,0,0,0,0,0,0,0,3,3,3,3,3,3,3,3,3,3,3,3,3,3,3,3,3,3,3,3,7,7,7,7,7,7,7,7,7,7,7,7,7,7,7,7,7,7,7,7,4,4,4,4,4,4,4,4,4,4,4,4,4,4,4,4,4,4,4,4,6,6,6,6,6,6,6,6,6,6,6,6,6,6,6,6,6,6,6,6,5,5,5,5,5,5,5,5,5,5,5,5,5,5,5,5,5,5,5,5,8,8,8,8,8,8,8,8,8,8,8,8,8,8,8,8,8,8,8,8,0,0,0,0,0,0,0,0,0,0,0,0,0,0,0,0,0,0,0,0,3,3,3,3,3,3,3,3,3,3,3,3,3,3,3,3,3,3,3,3,1,1,1,1,1,1,1,1,1,1,1,1,1,1,1,1,1,1,1,1,7,7,7,7,7,7,7,7,7,7,7,7,7,7,7,7,7,7,7,7,4,4,4,4,4,4,4,4,4,4,4,4,4,4,4,4,4,4,4,4,6,6,6,6,6,6,6,6,6,6,6,6,6,6,6,6,6,6,6,6,5,5,5,5,5,5,5,5,5,5,5,5,5,5,5,5,5,5,5,5,8,8,8,8,8,8,8,8,8,8,8,8,8,8,8,8,8,8,8,8,2,2,2,2,2,2,2,2,2,2,2,2,2,2,2,2,2,2,2,2,0,0,0,0,0,0,0,0,0,0,0,0,0,0,0,0,0,0,0,0,3,3,3,3,3,3,3,3,3,3,3,3,3,3,3,3,3,3,3,3,1,1,1,1,1,1,1,1,1,1,1,1,1,1,1,1,1,1,1,1,7,7,7,7,7,7,7,7,7,7,7,7,7,7,7,7,7,7,7,7,4,4,4,4,4,4,4,4,4,4,4,4,4,4,4,4,4,4,4,4,6,6,6,6,6,6,6,6,6,6,6,6,6,6,6,6,6,6,6,6,5,5,5,5,5,5,5,5,5,5,5,5,5,5,5,5,5,5,5,5,8,8,8,8,8,8,8,8,8,8,8,8,8,8,8,8,8,8,8,8,2,2,2,2,2,2,2,2,2,2,2,2,2,2,2,2,2,2,2,2,0,0,0,0,0,0,0,0,0,0,0,0,0,0,0,0,0,0,0,0,3,3,3,3,3,3,3,3,3,3,3,3,3,3,3,3,3,3,3,3,1,1,1,1,1,1,1,1,1,1,1,1,1,1,1,1,1,1,1,1,7,7,7,7,7,7,7,7,7,7,7,7,7,7,7,7,7,7,7,7,4,4,4,4,4,4,4,4,4,4,4,4,4,4,4,4,4,4,4,4,6,6,6,6,6,6,6,6,6,6,6,6,6,6,6,6,6,6,6,6,5,5,5,5,5,5,5,5,5,5,5,5,5,5,5,5,5,5,5,5,8,8,8,8,8,8,8,8,8,8,8,8,8,8,8,8,8,8,8,8,2,2,2,2,2,2,2,2,2,2,2,2,2,2,2,2,2,2,2,2,0,0,0,0,0,0,0,0,0,0,0,0,0,0,0,0,0,0,0,0,3,3,3,3,3,3,3,3,3,3,3,3,3,3,3,3,3,3,3,3,1,1,1,1,1,1,1,1,1,1,1,1,1,1,1,1,1,1,1,1,7,7,7,7,7,7,7,7,7,7,7,7,7,7,7,7,7,7,7,7,4,4,4,4,4,4,4,4,4,4,4,4,4,4,4,4,4,4,4,4,6,6,6,6,6,6,6,6,6,6,6,6,6,6,6,6,6,6,6,6,5,5,5,5,5,5,5,5,5,5,5,5,5,5,5,5,5,5,5,5,8,8,8,8,8,8,8,8,8,8,8,8,8,8,8,8,8,8,8,8,2,2,2,2,2,2,2,2,2,2,2,2,2,2,2,2,2,2,2,2,0,0,0,0,0,0,0,0,0,0,0,0,0,0,0,0,0,0,0,0,3,3,3,3,3,3,3,3,3,3,3,3,3,3,3,3,3,3,3,3,7,7,7,7,7,7,7,7,7,7,7,7,7,7,7,7,7,7,7,7,4,4,4,4,4,4,4,4,4,4,4,4,4,4,4,4,4,4,4,4,6,6,6,6,6,6,6,6,6,6,6,6,6,6,6,6,6,6,6,6,5,5,5,5,5,5,5,5,5,5,5,5,5,5,5,5,5,5,5,5,8,8,8,8,8,8,8,8,8,8,8,8,8,8,8,8,8,8,8,8,0,0,0,0,0,0,0,0,0,0,0,0,0,0,0,0,0,0,0,0,3,3,3,3,3,3,3,3,3,3,3,3,3,3,3,3,3,3,3,3,7,7,7,7,7,7,7,7,7,7,7,7,7,7,7,7,7,7,7,7,4,4,4,4,4,4,4,4,4,4,4,4,4,4,4,4,4,4,4,4,6,6,6,6,6,6,6,6,6,6,6,6,6,6,6,6,6,6,6,6,5,5,5,5,5,5,5,5,5,5,5,5,5,5,5,5,5,5,5,5,8,8,8,8,8,8,8,8,8,8,8,8,8,8,8,8,8,8,8,8,0,0,0,0,0,0,0,0,0,0,0,0,0,0,0,0,0,0,0,0,3,3,3,3,3,3,3,3,3,3,3,3,3,3,3,3,3,3,3,3,7,7,7,7,7,7,7,7,7,7,7,7,7,7,7,7,7,7,7,7,4,4,4,4,4,4,4,4,4,4,4,4,4,4,4,4,4,4,4,4,6,6,6,6,6,6,6,6,6,6,6,6,6,6,6,6,6,6,6,6,5,5,5,5,5,5,5,5,5,5,5,5,5,5,5,5,5,5,5,5,8,8,8,8,8,8,8,8,8,8,8,8,8,8,8,8,8,8,8,8,0,0,0,0,0,0,0,0,0,0,0,0,0,0,0,0,0,0,0,0,3,3,3,3,3,3,3,3,3,3,3,3,3,3,3,3,3,3,3,3,7,7,7,7,7,7,7,7,7,7,7,7,7,7,7,7,7,7,7,7,4,4,4,4,4,4,4,4,4,4,4,4,4,4,4,4,4,4,4,4,6,6,6,6,6,6,6,6,6,6,6,6,6,6,6,6,6,6,6,6,5,5,5,5,5,5,5,5,5,5,5,5,5,5,5,5,5,5,5,5,8,8,8,8,8,8,8,8,8,8,8,8,8,8,8,8,8,8,8,8,0,0,0,0,0,0,0,0,0,0,0,0,0,0,0,0,0,0,0,0,3,3,3,3,3,3,3,3,3,3,3,3,3,3,3,3,3,3,3,3,7,7,7,7,7,7,7,7,7,7,7,7,7,7,7,7,7,7,7,7,6,6,6,6,6,6,6,6,6,6,6,6,6,6,6,6,6,6,6,6,5,5,5,5,5,5,5,5,5,5,5,5,5,5,5,5,5,5,5,5,8,8,8,8,8,8,8,8,8,8,8,8,8,8,8,8,8,8,8,8,0,0,0,0,0,0,0,0,0,0,0,0,0,0,0,0,0,0,0,0,3,3,3,3,3,3,3,3,3,3,3,3,3,3,3,3,3,3,3,3,7,7,7,7,7,7,7,7,7,7,7,7,7,7,7,7,7,7,7,7,4,4,4,4,4,4,4,4,4,4,4,4,4,4,4,4,4,4,4,4,6,6,6,6,6,6,6,6,6,6,6,6,6,6,6,6,6,6,6,6,5,5,5,5,5,5,5,5,5,5,5,5,5,5,5,5,5,5,5,5,8,8,8,8,8,8,8,8,8,8,8,8,8,8,8,8,8,8,8,8,0,0,0,0,0,0,0,0,0,0,0,0,0,0,0,0,0,0,0,0,3,3,3,3,3,3,3,3,3,3,3,3,3,3,3,3,3,3,3,3,7,7,7,7,7,7,7,7,7,7,7,7,7,7,7,7,7,7,7,7,4,4,4,4,4,4,4,4,4,4,4,4,4,4,4,4,4,4,4,4,6,6,6,6,6,6,6,6,6,6,6,6,6,6,6,6,6,6,6,6,5,5,5,5,5,5,5,5,5,5,5,5,5,5,5,5,5,5,5,5,8,8,8,8,8,8,8,8,8,8,8,8,8,8,8,8,8,8,8,8,0,0,0,0,0,0,0,0,0,0,0,0,0,0,0,0,0,0,0,0,3,3,3,3,3,3,3,3,3,3,3,3,3,3,3,3,3,3,3,3,7,7,7,7,7,7,7,7,7,7,7,7,7,7,7,7,7,7,7,7,4,4,4,4,4,4,4,4,4,4,4,4,4,4,4,4,4,4,4,4,6,6,6,6,6,6,6,6,6,6,6,6,6,6,6,6,6,6,6,6,5,5,5,5,5,5,5,5,5,5,5,5,5,5,5,5,5,5,5,5,8,8,8,8,8,8,8,8,8,8,8,8,8,8,8,8,8,8,8,8,0,0,0,0,0,0,0,0,0,0,0,0,0,0,0,0,0,0,0,0,3,3,3,3,3,3,3,3,3,3,3,3,3,3,3,3,3,3,3,3,7,7,7,7,7,7,7,7,7,7,7,7,7,7,7,7,7,7,7,7,4,4,4,4,4,4,4,4,4,4,4,4,4,4,4,4,4,4,4,4,6,6,6,6,6,6,6,6,6,6,6,6,6,6,6,6,6,6,6,6,5,5,5,5,5,5,5,5,5,5,5,5,5,5,5,5,5,5,5,5,8,8,8,8,8,8,8,8,8,8,8,8,8,8,8,8,8,8,8,8,0,0,0,0,0,0,0,0,0,0,0,0,0,0,0,0,0,0,0,0,3,3,3,3,3,3,3,3,3,3,3,3,3,3,3,3,3,3,3,3,7,7,7,7,7,7,7,7,7,7,7,7,7,7,7,7,7,7,7,7,4,4,4,4,4,4,4,4,4,4,4,4,4,4,4,4,4,4,4,4,6,6,6,6,6,6,6,6,6,6,6,6,6,6,6,6,6,6,6,6,5,5,5,5,5,5,5,5,5,5,5,5,5,5,5,5,5,5,5,5,8,8,8,8,8,8,8,8,8,8,8,8,8,8,8,8,8,8,8,8,0,0,0,0,0,0,0,0,0,0,0,0,0,0,0,0,0,0,0,0,3,3,3,3,3,3,3,3,3,3,3,3,3,3,3,3,3,3,3,3,7,7,7,7,7,7,7,7,7,7,7,7,7,7,7,7,7,7,7,7,4,4,4,4,4,4,4,4,4,4,4,4,4,4,4,4,4,4,4,4,6,6,6,6,6,6,6,6,6,6,6,6,6,6,6,6,6,6,6,6,5,5,5,5,5,5,5,5,5,5,5,5,5,5,5,5,5,5,5,5,8,8,8,8,8,8,8,8,8,8,8,8,8,8,8,8,8,8,8,8,0,0,0,0,0,0,0,0,0,0,0,0,0,0,0,0,0,0,0,0,3,3,3,3,3,3,3,3,3,3,3,3,3,3,3,3,3,3,3,3,7,7,7,7,7,7,7,7,7,7,7,7,7,7,7,7,7,7,7,7,4,4,4,4,4,4,4,4,4,4,4,4,4,4,4,4,4,4,4,4,6,6,6,6,6,6,6,6,6,6,6,6,6,6,6,6,6,6,6,6,5,5,5,5,5,5,5,5,5,5,5,5,5,5,5,5,5,5,5,5,8,8,8,8,8,8,8,8,8,8,8,8,8,8,8,8,8,8,8,8,0,0,0,0,0,0,0,0,0,0,0,0,0,0,0,0,0,0,0,0,3,3,3,3,3,3,3,3,3,3,3,3,3,3,3,3,3,3,3,3,7,7,7,7,7,7,7,7,7,7,7,7,7,7,7,7,7,7,7,7,4,4,4,4,4,4,4,4,4,4,4,4,4,4,4,4,4,4,4,4,6,6,6,6,6,6,6,6,6,6,6,6,6,6,6,6,6,6,6,6,5,5,5,5,5,5,5,5,5,5,5,5,5,5,5,5,5,5,5,5,8,8,8,8,8,8,8,8,8,8,8,8,8,8,8,8,8,8,8,8,0,0,0,0,0,0,0,0,0,0,0,0,0,0,0,0,0,0,0,0,3,3,3,3,3,3,3,3,3,3,3,3,3,3,3,3,3,3,3,3,7,7,7,7,7,7,7,7,7,7,7,7,7,7,7,7,7,7,7,7,4,4,4,4,4,4,4,4,4,4,4,4,4,4,4,4,4,4,4,4,6,6,6,6,6,6,6,6,6,6,6,6,6,6,6,6,6,6,6,6,5,5,5,5,5,5,5,5,5,5,5,5,5,5,5,5,5,5,5,5,8,8,8,8,8,8,8,8,8,8,8,8,8,8,8,8,8,8,8,8,0,0,0,0,0,0,0,0,0,0,0,0,0,0,0,0,0,0,0,0,3,3,3,3,3,3,3,3,3,3,3,3,3,3,3,3,3,3,3,3,7,7,7,7,7,7,7,7,7,7,7,7,7,7,7,7,7,7,7,7,4,4,4,4,4,4,4,4,4,4,4,4,4,4,4,4,4,4,4,4,6,6,6,6,6,6,6,6,6,6,6,6,6,6,6,6,6,6,6,6,5,5,5,5,5,5,5,5,5,5,5,5,5,5,5,5,5,5,5,5,8,8,8,8,8,8,8,8,8,8,8,8,8,8,8,8,8,8,8,8,0,0,0,0,0,0,0,0,0,0,0,0,0,0,0,0,0,0,0,0,3,3,3,3,3,3,3,3,3,3,3,3,3,3,3,3,3,3,3,3,7,7,7,7,7,7,7,7,7,7,7,7,7,7,7,7,7,7,7,7,4,4,4,4,4,4,4,4,4,4,4,4,4,4,4,4,4,4,4,4,6,6,6,6,6,6,6,6,6,6,6,6,6,6,6,6,6,6,6,6,5,5,5,5,5,5,5,5,5,5,5,5,5,5,5,5,5,5,5,5,8,8,8,8,8,8,8,8,8,8,8,8,8,8,8,8,8,8,8,8,0,0,0,0,0,0,0,0,0,0,0,0,0,0,0,0,0,0,0,0,3,3,3,3,3,3,3,3,3,3,3,3,3,3,3,3,3,3,3,3,7,7,7,7,7,7,7,7,7,7,7,7,7,7,7,7,7,7,7,7,4,4,4,4,4,4,4,4,4,4,4,4,4,4,4,4,4,4,4,4,6,6,6,6,6,6,6,6,6,6,6,6,6,6,6,6,6,6,6,6,5,5,5,5,5,5,5,5,5,5,5,5,5,5,5,5,5,5,5,5,8,8,8,8,8,8,8,8,8,8,8,8,8,8,8,8,8,8,8,8,0,0,0,0,0,0,0,0,0,0,0,0,0,0,0,0,0,0,0,0,3,3,3,3,3,3,3,3,3,3,3,3,3,3,3,3,3,3,3,3,7,7,7,7,7,7,7,7,7,7,7,7,7,7,7,7,7,7,7,7,4,4,4,4,4,4,4,4,4,4,4,4,4,4,4,4,4,4,4,4,6,6,6,6,6,6,6,6,6,6,6,6,6,6,6,6,6,6,6,6,5,5,5,5,5,5,5,5,5,5,5,5,5,5,5,5,5,5,5,5,8,8,8,8,8,8,8,8,8,8,8,8,8,8,8,8,8,8,8,8,0,0,0,0,0,0,0,0,0,0,0,0,0,0,0,0,0,0,0,0,3,3,3,3,3,3,3,3,3,3,3,3,3,3,3,3,3,3,3,3,7,7,7,7,7,7,7,7,7,7,7,7,7,7,7,7,7,7,7,7,4,4,4,4,4,4,4,4,4,4,4,4,4,4,4,4,4,4,4,4,6,6,6,6,6,6,6,6,6,6,6,6,6,6,6,6,6,6,6,6,5,5,5,5,5,5,5,5,5,5,5,5,5,5,5,5,5,5,5,5,8,8,8,8,8,8,8,8,8,8,8,8,8,8,8,8,8,8,8,8,0,0,0,0,0,0,0,0,0,0,0,0,0,0,0,0,0,0,0,0,3,3,3,3,3,3,3,3,3,3,3,3,3,3,3,3,3,3,3,3,7,7,7,7,7,7,7,7,7,7,7,7,7,7,7,7,7,7,7,7,4,4,4,4,4,4,4,4,4,4,4,4,4,4,4,4,4,4,4,4,6,6,6,6,6,6,6,6,6,6,6,6,6,6,6,6,6,6,6,6,5,5,5,5,5,5,5,5,5,5,5,5,5,5,5,5,5,5,5,5,8,8,8,8,8,8,8,8,8,8,8,8,8,8,8,8,8,8,8,8,0,0,0,0,0,0,0,0,0,0,0,0,0,0,0,0,0,0,0,0,3,3,3,3,3,3,3,3,3,3,3,3,3,3,3,3,3,3,3,3,4,4,4,4,4,4,4,4,4,4,4,4,4,4,4,4,4,4,4,4,6,6,6,6,6,6,6,6,6,6,6,6,6,6,6,6,6,6,6,6,5,5,5,5,5,5,5,5,5,5,5,5,5,5,5,5,5,5,5,5,8,8,8,8,8,8,8,8,8,8,8,8,8,8,8,8,8,8,8,8,0,0,0,0,0,0,0,0,0,0,0,0,0,0,0,0,0,0,0,0,3,3,3,3,3,3,3,3,3,3,3,3,3,3,3,3,3,3,3,3,7,7,7,7,7,7,7,7,7,7,7,7,7,7,7,7,7,7,7,7,4,4,4,4,4,4,4,4,4,4,4,4,4,4,4,4,4,4,4,4,6,6,6,6,6,6,6,6,6,6,6,6,6,6,6,6,6,6,6,6,5,5,5,5,5,5,5,5,5,5,5,5,5,5,5,5,5,5,5,5,8,8,8,8,8,8,8,8,8,8,8,8,8,8,8,8,8,8,8,8,0,0,0,0,0,0,0,0,0,0,0,0,0,0,0,0,0,0,0,0,3,3,3,3,3,3,3,3,3,3,3,3,3,3,3,3,3,3,3,3,7,7,7,7,7,7,7,7,7,7,7,7,7,7,7,7,7,7,7,7,4,4,4,4,4,4,4,4,4,4,4,4,4,4,4,4,4,4,4,4,6,6,6,6,6,6,6,6,6,6,6,6,6,6,6,6,6,6,6,6,5,5,5,5,5,5,5,5,5,5,5,5,5,5,5,5,5,5,5,5,8,8,8,8,8,8,8,8,8,8,8,8,8,8,8,8,8,8,8,8,0,0,0,0,0,0,0,0,0,0,0,0,0,0,0,0,0,0,0,0,3,3,3,3,3,3,3,3,3,3,3,3,3,3,3,3,3,3,3,3,7,7,7,7,7,7,7,7,7,7,7,7,7,7,7,7,7,7,7,7,4,4,4,4,4,4,4,4,4,4,4,4,4,4,4,4,4,4,4,4,6,6,6,6,6,6,6,6,6,6,6,6,6,6,6,6,6,6,6,6,5,5,5,5,5,5,5,5,5,5,5,5,5,5,5,5,5,5,5,5,8,8,8,8,8,8,8,8,8,8,8,8,8,8,8,8,8,8,8,8,0,0,0,0,0,0,0,0,0,0,0,0,0,0,0,0,0,0,0,0,3,3,3,3,3,3,3,3,3,3,3,3,3,3,3,3,3,3,3,3,7,7,7,7,7,7,7,7,7,7,7,7,7,7,7,7,7,7,7,7,4,4,4,4,4,4,4,4,4,4,4,4,4,4,4,4,4,4,4,4,6,6,6,6,6,6,6,6,6,6,6,6,6,6,6,6,6,6,6,6,5,5,5,5,5,5,5,5,5,5,5,5,5,5,5,5,5,5,5,5,8,8,8,8,8,8,8,8,8,8,8,8,8,8,8,8,8,8,8,8,0,0,0,0,0,0,0,0,0,0,0,0,0,0,0,0,0,0,0,0,3,3,3,3,3,3,3,3,3,3,3,3,3,3,3,3,3,3,3,3,7,7,7,7,7,7,7,7,7,7,7,7,7,7,7,7,7,7,7,7,4,4,4,4,4,4,4,4,4,4,4,4,4,4,4,4,4,4,4,4,6,6,6,6,6,6,6,6,6,6,6,6,6,6,6,6,6,6,6,6,5,5,5,5,5,5,5,5,5,5,5,5,5,5,5,5,8,8,8,8,8,8,8,8,8,8,8,8,8,8,8,8,8,8,8,8,0,0,0,0,0,0,0,0,0,0,0,0,0,0,0,0,0,0,0,4,4,4,4,4,4,4,4,4,4,4,4,4,4,4,4,4,4,4,4,7,7,7,7,7,7,7,7,7,7,7,7,7,7,7,7,7,7,7,7],\"y0\":\" \",\"yaxis\":\"y\",\"type\":\"box\"}],                        {\"template\":{\"data\":{\"histogram2dcontour\":[{\"type\":\"histogram2dcontour\",\"colorbar\":{\"outlinewidth\":0,\"ticks\":\"\"},\"colorscale\":[[0.0,\"#0d0887\"],[0.1111111111111111,\"#46039f\"],[0.2222222222222222,\"#7201a8\"],[0.3333333333333333,\"#9c179e\"],[0.4444444444444444,\"#bd3786\"],[0.5555555555555556,\"#d8576b\"],[0.6666666666666666,\"#ed7953\"],[0.7777777777777778,\"#fb9f3a\"],[0.8888888888888888,\"#fdca26\"],[1.0,\"#f0f921\"]]}],\"choropleth\":[{\"type\":\"choropleth\",\"colorbar\":{\"outlinewidth\":0,\"ticks\":\"\"}}],\"histogram2d\":[{\"type\":\"histogram2d\",\"colorbar\":{\"outlinewidth\":0,\"ticks\":\"\"},\"colorscale\":[[0.0,\"#0d0887\"],[0.1111111111111111,\"#46039f\"],[0.2222222222222222,\"#7201a8\"],[0.3333333333333333,\"#9c179e\"],[0.4444444444444444,\"#bd3786\"],[0.5555555555555556,\"#d8576b\"],[0.6666666666666666,\"#ed7953\"],[0.7777777777777778,\"#fb9f3a\"],[0.8888888888888888,\"#fdca26\"],[1.0,\"#f0f921\"]]}],\"heatmap\":[{\"type\":\"heatmap\",\"colorbar\":{\"outlinewidth\":0,\"ticks\":\"\"},\"colorscale\":[[0.0,\"#0d0887\"],[0.1111111111111111,\"#46039f\"],[0.2222222222222222,\"#7201a8\"],[0.3333333333333333,\"#9c179e\"],[0.4444444444444444,\"#bd3786\"],[0.5555555555555556,\"#d8576b\"],[0.6666666666666666,\"#ed7953\"],[0.7777777777777778,\"#fb9f3a\"],[0.8888888888888888,\"#fdca26\"],[1.0,\"#f0f921\"]]}],\"heatmapgl\":[{\"type\":\"heatmapgl\",\"colorbar\":{\"outlinewidth\":0,\"ticks\":\"\"},\"colorscale\":[[0.0,\"#0d0887\"],[0.1111111111111111,\"#46039f\"],[0.2222222222222222,\"#7201a8\"],[0.3333333333333333,\"#9c179e\"],[0.4444444444444444,\"#bd3786\"],[0.5555555555555556,\"#d8576b\"],[0.6666666666666666,\"#ed7953\"],[0.7777777777777778,\"#fb9f3a\"],[0.8888888888888888,\"#fdca26\"],[1.0,\"#f0f921\"]]}],\"contourcarpet\":[{\"type\":\"contourcarpet\",\"colorbar\":{\"outlinewidth\":0,\"ticks\":\"\"}}],\"contour\":[{\"type\":\"contour\",\"colorbar\":{\"outlinewidth\":0,\"ticks\":\"\"},\"colorscale\":[[0.0,\"#0d0887\"],[0.1111111111111111,\"#46039f\"],[0.2222222222222222,\"#7201a8\"],[0.3333333333333333,\"#9c179e\"],[0.4444444444444444,\"#bd3786\"],[0.5555555555555556,\"#d8576b\"],[0.6666666666666666,\"#ed7953\"],[0.7777777777777778,\"#fb9f3a\"],[0.8888888888888888,\"#fdca26\"],[1.0,\"#f0f921\"]]}],\"surface\":[{\"type\":\"surface\",\"colorbar\":{\"outlinewidth\":0,\"ticks\":\"\"},\"colorscale\":[[0.0,\"#0d0887\"],[0.1111111111111111,\"#46039f\"],[0.2222222222222222,\"#7201a8\"],[0.3333333333333333,\"#9c179e\"],[0.4444444444444444,\"#bd3786\"],[0.5555555555555556,\"#d8576b\"],[0.6666666666666666,\"#ed7953\"],[0.7777777777777778,\"#fb9f3a\"],[0.8888888888888888,\"#fdca26\"],[1.0,\"#f0f921\"]]}],\"mesh3d\":[{\"type\":\"mesh3d\",\"colorbar\":{\"outlinewidth\":0,\"ticks\":\"\"}}],\"scatter\":[{\"fillpattern\":{\"fillmode\":\"overlay\",\"size\":10,\"solidity\":0.2},\"type\":\"scatter\"}],\"parcoords\":[{\"type\":\"parcoords\",\"line\":{\"colorbar\":{\"outlinewidth\":0,\"ticks\":\"\"}}}],\"scatterpolargl\":[{\"type\":\"scatterpolargl\",\"marker\":{\"colorbar\":{\"outlinewidth\":0,\"ticks\":\"\"}}}],\"bar\":[{\"error_x\":{\"color\":\"#2a3f5f\"},\"error_y\":{\"color\":\"#2a3f5f\"},\"marker\":{\"line\":{\"color\":\"#E5ECF6\",\"width\":0.5},\"pattern\":{\"fillmode\":\"overlay\",\"size\":10,\"solidity\":0.2}},\"type\":\"bar\"}],\"scattergeo\":[{\"type\":\"scattergeo\",\"marker\":{\"colorbar\":{\"outlinewidth\":0,\"ticks\":\"\"}}}],\"scatterpolar\":[{\"type\":\"scatterpolar\",\"marker\":{\"colorbar\":{\"outlinewidth\":0,\"ticks\":\"\"}}}],\"histogram\":[{\"marker\":{\"pattern\":{\"fillmode\":\"overlay\",\"size\":10,\"solidity\":0.2}},\"type\":\"histogram\"}],\"scattergl\":[{\"type\":\"scattergl\",\"marker\":{\"colorbar\":{\"outlinewidth\":0,\"ticks\":\"\"}}}],\"scatter3d\":[{\"type\":\"scatter3d\",\"line\":{\"colorbar\":{\"outlinewidth\":0,\"ticks\":\"\"}},\"marker\":{\"colorbar\":{\"outlinewidth\":0,\"ticks\":\"\"}}}],\"scattermapbox\":[{\"type\":\"scattermapbox\",\"marker\":{\"colorbar\":{\"outlinewidth\":0,\"ticks\":\"\"}}}],\"scatterternary\":[{\"type\":\"scatterternary\",\"marker\":{\"colorbar\":{\"outlinewidth\":0,\"ticks\":\"\"}}}],\"scattercarpet\":[{\"type\":\"scattercarpet\",\"marker\":{\"colorbar\":{\"outlinewidth\":0,\"ticks\":\"\"}}}],\"carpet\":[{\"aaxis\":{\"endlinecolor\":\"#2a3f5f\",\"gridcolor\":\"white\",\"linecolor\":\"white\",\"minorgridcolor\":\"white\",\"startlinecolor\":\"#2a3f5f\"},\"baxis\":{\"endlinecolor\":\"#2a3f5f\",\"gridcolor\":\"white\",\"linecolor\":\"white\",\"minorgridcolor\":\"white\",\"startlinecolor\":\"#2a3f5f\"},\"type\":\"carpet\"}],\"table\":[{\"cells\":{\"fill\":{\"color\":\"#EBF0F8\"},\"line\":{\"color\":\"white\"}},\"header\":{\"fill\":{\"color\":\"#C8D4E3\"},\"line\":{\"color\":\"white\"}},\"type\":\"table\"}],\"barpolar\":[{\"marker\":{\"line\":{\"color\":\"#E5ECF6\",\"width\":0.5},\"pattern\":{\"fillmode\":\"overlay\",\"size\":10,\"solidity\":0.2}},\"type\":\"barpolar\"}],\"pie\":[{\"automargin\":true,\"type\":\"pie\"}]},\"layout\":{\"autotypenumbers\":\"strict\",\"colorway\":[\"#636efa\",\"#EF553B\",\"#00cc96\",\"#ab63fa\",\"#FFA15A\",\"#19d3f3\",\"#FF6692\",\"#B6E880\",\"#FF97FF\",\"#FECB52\"],\"font\":{\"color\":\"#2a3f5f\"},\"hovermode\":\"closest\",\"hoverlabel\":{\"align\":\"left\"},\"paper_bgcolor\":\"white\",\"plot_bgcolor\":\"#E5ECF6\",\"polar\":{\"bgcolor\":\"#E5ECF6\",\"angularaxis\":{\"gridcolor\":\"white\",\"linecolor\":\"white\",\"ticks\":\"\"},\"radialaxis\":{\"gridcolor\":\"white\",\"linecolor\":\"white\",\"ticks\":\"\"}},\"ternary\":{\"bgcolor\":\"#E5ECF6\",\"aaxis\":{\"gridcolor\":\"white\",\"linecolor\":\"white\",\"ticks\":\"\"},\"baxis\":{\"gridcolor\":\"white\",\"linecolor\":\"white\",\"ticks\":\"\"},\"caxis\":{\"gridcolor\":\"white\",\"linecolor\":\"white\",\"ticks\":\"\"}},\"coloraxis\":{\"colorbar\":{\"outlinewidth\":0,\"ticks\":\"\"}},\"colorscale\":{\"sequential\":[[0.0,\"#0d0887\"],[0.1111111111111111,\"#46039f\"],[0.2222222222222222,\"#7201a8\"],[0.3333333333333333,\"#9c179e\"],[0.4444444444444444,\"#bd3786\"],[0.5555555555555556,\"#d8576b\"],[0.6666666666666666,\"#ed7953\"],[0.7777777777777778,\"#fb9f3a\"],[0.8888888888888888,\"#fdca26\"],[1.0,\"#f0f921\"]],\"sequentialminus\":[[0.0,\"#0d0887\"],[0.1111111111111111,\"#46039f\"],[0.2222222222222222,\"#7201a8\"],[0.3333333333333333,\"#9c179e\"],[0.4444444444444444,\"#bd3786\"],[0.5555555555555556,\"#d8576b\"],[0.6666666666666666,\"#ed7953\"],[0.7777777777777778,\"#fb9f3a\"],[0.8888888888888888,\"#fdca26\"],[1.0,\"#f0f921\"]],\"diverging\":[[0,\"#8e0152\"],[0.1,\"#c51b7d\"],[0.2,\"#de77ae\"],[0.3,\"#f1b6da\"],[0.4,\"#fde0ef\"],[0.5,\"#f7f7f7\"],[0.6,\"#e6f5d0\"],[0.7,\"#b8e186\"],[0.8,\"#7fbc41\"],[0.9,\"#4d9221\"],[1,\"#276419\"]]},\"xaxis\":{\"gridcolor\":\"white\",\"linecolor\":\"white\",\"ticks\":\"\",\"title\":{\"standoff\":15},\"zerolinecolor\":\"white\",\"automargin\":true,\"zerolinewidth\":2},\"yaxis\":{\"gridcolor\":\"white\",\"linecolor\":\"white\",\"ticks\":\"\",\"title\":{\"standoff\":15},\"zerolinecolor\":\"white\",\"automargin\":true,\"zerolinewidth\":2},\"scene\":{\"xaxis\":{\"backgroundcolor\":\"#E5ECF6\",\"gridcolor\":\"white\",\"linecolor\":\"white\",\"showbackground\":true,\"ticks\":\"\",\"zerolinecolor\":\"white\",\"gridwidth\":2},\"yaxis\":{\"backgroundcolor\":\"#E5ECF6\",\"gridcolor\":\"white\",\"linecolor\":\"white\",\"showbackground\":true,\"ticks\":\"\",\"zerolinecolor\":\"white\",\"gridwidth\":2},\"zaxis\":{\"backgroundcolor\":\"#E5ECF6\",\"gridcolor\":\"white\",\"linecolor\":\"white\",\"showbackground\":true,\"ticks\":\"\",\"zerolinecolor\":\"white\",\"gridwidth\":2}},\"shapedefaults\":{\"line\":{\"color\":\"#2a3f5f\"}},\"annotationdefaults\":{\"arrowcolor\":\"#2a3f5f\",\"arrowhead\":0,\"arrowwidth\":1},\"geo\":{\"bgcolor\":\"white\",\"landcolor\":\"#E5ECF6\",\"subunitcolor\":\"white\",\"showland\":true,\"showlakes\":true,\"lakecolor\":\"white\"},\"title\":{\"x\":0.05},\"mapbox\":{\"style\":\"light\"}}},\"xaxis\":{\"anchor\":\"y\",\"domain\":[0.0,1.0],\"title\":{\"text\":\"Name\"}},\"yaxis\":{\"anchor\":\"x\",\"domain\":[0.0,1.0],\"title\":{\"text\":\"Map\"}},\"legend\":{\"tracegroupgap\":0},\"margin\":{\"t\":60},\"boxmode\":\"group\"},                        {\"responsive\": true}                    ).then(function(){\n",
              "                            \n",
              "var gd = document.getElementById('b726ce66-ac57-4668-a470-583e113c46ac');\n",
              "var x = new MutationObserver(function (mutations, observer) {{\n",
              "        var display = window.getComputedStyle(gd).display;\n",
              "        if (!display || display === 'none') {{\n",
              "            console.log([gd, 'removed!']);\n",
              "            Plotly.purge(gd);\n",
              "            observer.disconnect();\n",
              "        }}\n",
              "}});\n",
              "\n",
              "// Listen for the removal of the full notebook cells\n",
              "var notebookContainer = gd.closest('#notebook-container');\n",
              "if (notebookContainer) {{\n",
              "    x.observe(notebookContainer, {childList: true});\n",
              "}}\n",
              "\n",
              "// Listen for the clearing of the current output cell\n",
              "var outputEl = gd.closest('.output');\n",
              "if (outputEl) {{\n",
              "    x.observe(outputEl, {childList: true});\n",
              "}}\n",
              "\n",
              "                        })                };                            </script>        </div>\n",
              "</body>\n",
              "</html>"
            ]
          },
          "metadata": {}
        }
      ]
    },
    {
      "cell_type": "markdown",
      "source": [
        "Como pode se ver, o BoxPlot mostra simetria entre as duas variáveis. Na analise da Probabilidade Condicional, foi-se levado em conta a lógica por trás do jogo e de como os personagens são escolhidos dependendo do mapa. Porém, o BoxPlot pode trazer uma alternativa que foi apenas mencionada na análise, a organização dos mapas. Todos os mapas aparecem, diferente dos agentes, mas como um mesmo mapa se repete diversas vezes, dá espaço para determinadosa agentes se repetirem gerando o gráfico acima."
      ],
      "metadata": {
        "id": "YZkImM75Uxl9"
      }
    },
    {
      "cell_type": "markdown",
      "source": [
        "Diferente do que foi visto acima, um BoxPlot tem a vantagem de identificar a mediana, ou seja, onde os dados mais estão agrupados, além de, conseguir identifcar pontos dispersantes, porém, se esses pontos dispersantes forem relevantes o suficiente, podem inválidar o BoxPlot."
      ],
      "metadata": {
        "id": "9DsdDlcPXkrR"
      }
    },
    {
      "cell_type": "markdown",
      "source": [
        "##**Histograma**"
      ],
      "metadata": {
        "id": "VwoEirUvWbyA"
      }
    },
    {
      "cell_type": "markdown",
      "source": [
        "Aqui será utilizado o Histograma, para isso, se utilizará do rank, pois é uma medida em que a maioria é simetrica."
      ],
      "metadata": {
        "id": "_YsGgt6YZkyG"
      }
    },
    {
      "cell_type": "code",
      "source": [
        "fig2 = px.histogram(valorant, x = 'Game Rank', marginal= 'rug')\n",
        "fig2.show()"
      ],
      "metadata": {
        "colab": {
          "base_uri": "https://localhost:8080/",
          "height": 542
        },
        "id": "YKPLXN0DWe9Z",
        "outputId": "eb6b8d8f-122b-44ee-d218-8ab2df54ea89"
      },
      "execution_count": null,
      "outputs": [
        {
          "output_type": "display_data",
          "data": {
            "text/html": [
              "<html>\n",
              "<head><meta charset=\"utf-8\" /></head>\n",
              "<body>\n",
              "    <div>            <script src=\"https://cdnjs.cloudflare.com/ajax/libs/mathjax/2.7.5/MathJax.js?config=TeX-AMS-MML_SVG\"></script><script type=\"text/javascript\">if (window.MathJax && window.MathJax.Hub && window.MathJax.Hub.Config) {window.MathJax.Hub.Config({SVG: {font: \"STIX-Web\"}});}</script>                <script type=\"text/javascript\">window.PlotlyConfig = {MathJaxConfig: 'local'};</script>\n",
              "        <script src=\"https://cdn.plot.ly/plotly-2.18.2.min.js\"></script>                <div id=\"ff9d9a2c-6343-46f0-8ec9-76fd7c1d7508\" class=\"plotly-graph-div\" style=\"height:525px; width:100%;\"></div>            <script type=\"text/javascript\">                                    window.PLOTLYENV=window.PLOTLYENV || {};                                    if (document.getElementById(\"ff9d9a2c-6343-46f0-8ec9-76fd7c1d7508\")) {                    Plotly.newPlot(                        \"ff9d9a2c-6343-46f0-8ec9-76fd7c1d7508\",                        [{\"alignmentgroup\":\"True\",\"bingroup\":\"x\",\"hovertemplate\":\"Game Rank=%{x}<br>count=%{y}<extra></extra>\",\"legendgroup\":\"\",\"marker\":{\"color\":\"#636efa\",\"pattern\":{\"shape\":\"\"}},\"name\":\"\",\"offsetgroup\":\"\",\"orientation\":\"v\",\"showlegend\":false,\"x\":[25,25,25,25,25,25,25,25,25,25,25,25,25,25,25,25,25,25,25,25,25,25,25,25,25,25,25,25,25,25,25,25,25,25,25,25,25,25,25,25,25,25,25,25,25,25,25,25,25,25,25,25,25,25,25,25,25,25,25,25,25,25,25,25,25,25,25,25,25,25,25,25,25,25,25,25,25,25,25,25,25,25,25,25,25,25,25,25,25,25,25,25,25,25,25,25,25,25,25,25,25,25,25,25,25,25,25,25,25,25,25,25,25,25,25,25,25,25,25,25,25,25,25,25,25,25,25,25,25,25,25,25,25,25,25,25,25,25,25,25,25,25,25,25,25,25,25,25,25,25,25,25,25,25,25,25,25,25,25,25,25,25,25,25,25,25,25,25,25,25,25,25,25,25,25,25,25,25,25,25,25,25,25,25,25,25,25,25,25,25,25,25,25,25,25,25,25,25,25,25,25,25,25,25,25,25,25,25,25,25,25,25,25,25,25,25,25,25,25,25,25,25,25,25,25,25,25,25,25,25,25,25,25,25,25,25,25,25,25,25,25,25,25,25,25,25,25,25,25,25,25,25,25,25,25,25,25,25,25,25,25,25,25,25,25,25,25,25,25,25,25,25,25,25,25,25,25,25,25,25,25,25,25,25,25,25,25,25,25,25,25,25,25,25,25,25,25,25,25,25,25,25,25,25,25,25,25,25,25,25,25,25,25,25,25,25,25,25,25,25,25,25,25,25,25,25,25,25,25,25,25,25,25,25,25,25,25,25,25,25,25,25,25,25,25,25,25,25,25,25,25,25,25,25,25,25,25,25,25,25,25,25,25,25,25,25,25,25,25,25,25,25,25,25,25,25,25,25,25,25,25,25,25,25,25,25,25,25,25,25,25,25,25,25,25,25,25,25,25,25,25,25,25,25,25,25,25,25,25,25,25,25,25,25,25,25,25,25,25,25,25,25,25,25,25,25,25,25,25,25,25,25,25,25,25,25,25,25,25,25,25,25,25,25,25,25,25,25,25,25,25,25,25,25,25,25,25,25,25,25,25,25,25,25,25,25,25,25,25,25,25,25,25,25,25,25,25,25,25,25,25,25,25,25,25,25,25,25,25,25,25,25,25,25,25,25,25,25,25,25,25,25,25,25,25,25,25,25,25,25,25,25,25,25,25,25,25,25,25,25,25,25,25,25,25,25,25,25,25,25,25,25,25,25,25,25,25,25,25,25,25,25,25,25,25,25,25,25,25,25,25,25,25,25,25,25,25,25,25,25,25,25,25,25,25,25,25,25,25,25,25,25,25,25,25,25,25,25,25,25,25,25,25,25,25,25,25,25,25,25,25,25,25,25,25,25,25,25,25,25,25,25,25,25,25,25,25,25,25,25,25,25,25,25,25,25,25,25,25,25,25,25,25,25,25,25,25,25,25,25,25,25,25,25,25,25,25,25,25,25,25,25,25,25,25,25,25,25,25,25,25,25,25,25,25,25,25,25,25,25,25,25,25,25,25,25,25,25,25,25,25,25,25,25,25,25,25,25,25,25,25,25,25,25,25,25,25,25,25,25,25,25,25,25,25,25,25,25,25,25,25,25,25,25,25,25,25,25,25,25,25,25,25,25,25,25,25,25,25,25,25,25,25,25,25,25,25,25,25,25,25,25,25,25,25,25,25,25,25,25,25,25,25,25,25,25,25,25,25,25,25,25,25,25,25,25,25,25,25,25,25,25,25,25,25,25,25,25,25,25,25,25,25,25,25,25,25,25,25,25,25,25,25,25,25,25,25,25,25,25,25,25,25,25,25,25,25,25,25,25,25,25,25,25,25,25,25,25,25,25,25,25,25,25,25,25,25,25,25,25,25,25,25,25,25,25,25,25,25,25,25,25,25,25,25,25,25,25,25,25,25,25,25,25,25,25,25,25,25,25,25,25,25,25,25,25,25,25,25,25,25,25,25,25,25,25,25,25,25,25,25,25,25,25,25,25,25,25,25,25,25,25,25,25,25,25,25,25,25,25,25,25,25,25,25,25,25,25,25,25,25,25,25,25,25,25,25,25,25,25,25,25,25,25,25,25,25,25,25,25,25,25,25,25,25,25,25,25,25,25,25,25,25,25,25,25,25,25,25,25,25,25,25,25,25,25,25,25,25,25,25,25,25,25,25,25,25,25,25,25,25,25,25,25,25,25,25,25,25,25,25,25,25,25,25,25,25,25,25,25,25,25,25,25,25,25,25,25,25,25,25,25,25,25,25,25,25,25,25,25,25,25,25,25,25,25,25,25,25,25,25,25,25,25,25,25,25,25,25,25,25,25,25,25,25,25,25,25,25,25,25,25,25,25,25,25,25,25,25,25,25,25,25,25,25,25,25,25,25,25,25,25,25,25,25,25,25,25,25,25,25,25,25,25,25,25,25,25,25,25,25,25,25,25,25,25,25,25,25,15,15,15,15,15,15,15,15,15,15,15,15,15,15,15,15,15,15,15,15,15,15,15,15,15,15,15,15,15,15,15,15,15,15,15,15,15,15,15,15,15,15,15,15,15,15,15,15,15,15,15,15,15,15,15,15,15,15,15,15,15,15,15,15,15,15,15,15,15,15,15,15,15,15,15,15,15,15,15,15,15,15,15,15,15,15,15,15,15,15,15,15,15,15,15,15,15,15,15,15,15,15,15,15,15,15,15,15,15,15,15,15,15,15,15,15,15,15,15,15,15,15,15,15,15,15,15,15,15,15,15,15,15,15,15,15,15,15,15,15,16,16,16,16,16,16,16,16,16,16,16,16,16,16,16,16,16,16,16,16,16,16,16,16,16,16,16,16,16,16,16,16,16,16,16,16,16,16,16,16,16,16,16,16,16,16,16,16,16,16,16,16,16,16,16,16,16,16,16,16,16,16,16,16,16,16,16,16,16,16,16,16,16,16,16,16,16,16,16,16,16,16,16,16,16,16,16,16,16,16,16,16,16,16,16,16,16,16,16,16,16,16,16,16,16,16,16,16,16,16,16,16,16,16,16,16,16,16,16,16,16,16,16,16,16,16,16,16,16,16,16,16,16,16,16,16,16,16,16,16,17,17,17,17,17,17,17,17,17,17,17,17,17,17,17,17,17,17,17,17,17,17,17,17,17,17,17,17,17,17,17,17,17,17,17,17,17,17,17,17,17,17,17,17,17,17,17,17,17,17,17,17,17,17,17,17,17,17,17,17,17,17,17,17,17,17,17,17,17,17,17,17,17,17,17,17,17,17,17,17,17,17,17,17,17,17,17,17,17,17,17,17,17,17,17,17,17,17,17,17,17,17,17,17,17,17,17,17,17,17,17,17,17,17,17,17,17,17,17,17,17,17,17,17,17,17,17,17,17,17,17,17,17,17,17,17,17,17,17,17,3,3,3,3,3,3,3,3,3,3,3,3,3,3,3,3,3,3,3,3,3,3,3,3,3,3,3,3,3,3,3,3,3,3,3,3,3,3,3,3,3,3,3,3,3,3,3,3,3,3,3,3,3,3,3,3,3,3,3,3,3,3,3,3,3,3,3,3,3,3,3,3,3,3,3,3,3,3,3,3,3,3,3,3,3,3,3,3,3,3,3,3,3,3,3,3,3,3,3,3,3,3,3,3,3,3,3,3,3,3,3,3,3,3,3,3,3,3,3,3,4,4,4,4,4,4,4,4,4,4,4,4,4,4,4,4,4,4,4,4,4,4,4,4,4,4,4,4,4,4,4,4,4,4,4,4,4,4,4,4,4,4,4,4,4,4,4,4,4,4,4,4,4,4,4,4,4,4,4,4,4,4,4,4,4,4,4,4,4,4,4,4,4,4,4,4,4,4,4,4,4,4,4,4,4,4,4,4,4,4,4,4,4,4,4,4,4,4,4,4,4,4,4,4,4,4,4,4,4,4,4,4,4,4,4,4,4,4,4,4,4,4,4,4,4,4,4,4,4,4,4,4,4,4,4,4,4,4,4,4,5,5,5,5,5,5,5,5,5,5,5,5,5,5,5,5,5,5,5,5,5,5,5,5,5,5,5,5,5,5,5,5,5,5,5,5,5,5,5,5,5,5,5,5,5,5,5,5,5,5,5,5,5,5,5,5,5,5,5,5,5,5,5,5,5,5,5,5,5,5,5,5,5,5,5,5,5,5,5,5,5,5,5,5,5,5,5,5,5,5,5,5,5,5,5,5,5,5,5,5,5,5,5,5,5,5,5,5,5,5,5,5,5,5,5,5,5,5,5,5,5,5,5,5,5,5,5,5,5,5,5,5,5,5,5,5,5,5,5,5,22,22,22,22,22,22,22,22,22,22,22,22,22,22,22,22,22,22,22,22,22,22,22,22,22,22,22,22,22,22,22,22,22,22,22,22,22,22,22,22,22,22,22,22,22,22,22,22,22,22,22,22,22,22,22,22,22,22,22,22,22,22,22,22,22,22,22,22,22,22,22,22,22,22,22,22,22,22,22,22,22,22,22,22,22,22,22,22,22,22,22,22,22,22,22,22,22,22,22,22,22,22,22,22,22,22,22,22,22,22,22,22,22,22,22,22,22,22,22,22,22,22,22,22,22,22,22,22,22,22,22,22,22,22,22,22,22,22,22,22,23,23,23,23,23,23,23,23,23,23,23,23,23,23,23,23,23,23,23,23,23,23,23,23,23,23,23,23,23,23,23,23,23,23,23,23,23,23,23,23,23,23,23,23,23,23,23,23,23,23,23,23,23,23,23,23,23,23,23,23,23,23,23,23,23,23,23,23,23,23,23,23,23,23,23,23,23,23,23,23,23,23,23,23,23,23,23,23,23,23,23,23,23,23,23,23,23,23,23,23,23,23,23,23,23,23,23,23,23,23,23,23,23,23,23,23,23,23,23,23,23,23,23,23,23,23,23,23,23,23,23,23,23,23,23,23,23,23,23,23,24,24,24,24,24,24,24,24,24,24,24,24,24,24,24,24,24,24,24,24,24,24,24,24,24,24,24,24,24,24,24,24,24,24,24,24,24,24,24,24,24,24,24,24,24,24,24,24,24,24,24,24,24,24,24,24,24,24,24,24,24,24,24,24,24,24,24,24,24,24,24,24,24,24,24,24,24,24,24,24,24,24,24,24,24,24,24,24,24,24,24,24,24,24,24,24,24,24,24,24,24,24,24,24,24,24,24,24,24,24,24,24,24,24,24,24,24,24,24,24,24,24,24,24,24,24,24,24,24,24,24,24,24,24,24,24,24,24,24,24,9,9,9,9,9,9,9,9,9,9,9,9,9,9,9,9,9,9,9,9,9,9,9,9,9,9,9,9,9,9,9,9,9,9,9,9,9,9,9,9,9,9,9,9,9,9,9,9,9,9,9,9,9,9,9,9,9,9,9,9,9,9,9,9,9,9,9,9,9,9,9,9,9,9,9,9,9,9,9,9,9,9,9,9,9,9,9,9,9,9,9,9,9,9,9,9,9,9,9,9,9,9,9,9,9,9,9,9,9,9,9,9,9,9,9,9,9,9,9,9,9,9,9,9,9,9,9,9,9,9,9,9,9,9,9,9,9,9,9,9,10,10,10,10,10,10,10,10,10,10,10,10,10,10,10,10,10,10,10,10,10,10,10,10,10,10,10,10,10,10,10,10,10,10,10,10,10,10,10,10,10,10,10,10,10,10,10,10,10,10,10,10,10,10,10,10,10,10,10,10,10,10,10,10,10,10,10,10,10,10,10,10,10,10,10,10,10,10,10,10,10,10,10,10,10,10,10,10,10,10,10,10,10,10,10,10,10,10,10,10,10,10,10,10,10,10,10,10,10,10,10,10,10,10,10,10,10,10,10,10,10,10,10,10,10,10,10,10,10,10,10,10,10,10,10,10,10,10,10,10,11,11,11,11,11,11,11,11,11,11,11,11,11,11,11,11,11,11,11,11,11,11,11,11,11,11,11,11,11,11,11,11,11,11,11,11,11,11,11,11,11,11,11,11,11,11,11,11,11,11,11,11,11,11,11,11,11,11,11,11,11,11,11,11,11,11,11,11,11,11,11,11,11,11,11,11,11,11,11,11,11,11,11,11,11,11,11,11,11,11,11,11,11,11,11,11,11,11,11,11,11,11,11,11,11,11,11,11,11,11,11,11,11,11,11,11,11,11,11,11,11,11,11,11,11,11,11,11,11,11,11,11,11,11,11,11,11,11,11,11,18,18,18,18,18,18,18,18,18,18,18,18,18,18,18,18,18,18,18,18,18,18,18,18,18,18,18,18,18,18,18,18,18,18,18,18,18,18,18,18,18,18,18,18,18,18,18,18,18,18,18,18,18,18,18,18,18,18,18,18,18,18,18,18,18,18,18,18,18,18,18,18,18,18,18,18,18,18,18,18,18,18,18,18,18,18,18,18,18,18,18,18,18,18,18,18,18,18,18,18,18,18,18,18,18,18,18,18,18,18,18,18,18,18,18,18,18,18,18,18,18,18,18,18,18,18,18,18,18,18,18,18,18,18,18,18,18,18,18,18,19,19,19,19,19,19,19,19,19,19,19,19,19,19,19,19,19,19,19,19,19,19,19,19,19,19,19,19,19,19,19,19,19,19,19,19,19,19,19,19,19,19,19,19,19,19,19,19,19,19,19,19,19,19,19,19,19,19,19,19,19,19,19,19,19,19,19,19,19,19,19,19,19,19,19,19,19,19,19,19,19,19,19,19,19,19,19,19,19,19,19,19,19,19,19,19,19,19,19,19,19,19,19,19,19,19,19,19,19,19,19,19,19,19,19,19,19,19,19,19,19,19,19,19,19,19,19,19,19,19,19,19,19,19,19,19,19,19,19,19,20,20,20,20,20,20,20,20,20,20,20,20,20,20,20,20,20,20,20,20,20,20,20,20,20,20,20,20,20,20,20,20,20,20,20,20,20,20,20,20,20,20,20,20,20,20,20,20,20,20,20,20,20,20,20,20,20,20,20,20,20,20,20,20,20,20,20,20,20,20,20,20,20,20,20,20,20,20,20,20,20,20,20,20,20,20,20,20,20,20,20,20,20,20,20,20,20,20,20,20,20,20,20,20,20,20,20,20,20,20,20,20,20,20,20,20,20,20,20,20,20,20,20,20,20,20,20,20,20,20,20,20,20,20,20,20,20,20,20,20,6,6,6,6,6,6,6,6,6,6,6,6,6,6,6,6,6,6,6,6,6,6,6,6,6,6,6,6,6,6,6,6,6,6,6,6,6,6,6,6,6,6,6,6,6,6,6,6,6,6,6,6,6,6,6,6,6,6,6,6,6,6,6,6,6,6,6,6,6,6,6,6,6,6,6,6,6,6,6,6,6,6,6,6,6,6,6,6,6,6,6,6,6,6,6,6,6,6,6,6,6,6,6,6,6,6,6,6,6,6,6,6,6,6,6,6,6,6,6,6,6,6,6,6,6,6,6,6,6,6,6,6,6,6,6,6,6,6,6,6,7,7,7,7,7,7,7,7,7,7,7,7,7,7,7,7,7,7,7,7,7,7,7,7,7,7,7,7,7,7,7,7,7,7,7,7,7,7,7,7,7,7,7,7,7,7,7,7,7,7,7,7,7,7,7,7,7,7,7,7,7,7,7,7,7,7,7,7,7,7,7,7,7,7,7,7,7,7,7,7,7,7,7,7,7,7,7,7,7,7,7,7,7,7,7,7,7,7,7,7,7,7,7,7,7,7,7,7,7,7,7,7,7,7,7,7,7,7,7,7,7,7,7,7,7,7,7,7,7,7,7,7,7,7,7,7,7,7,7,7,8,8,8,8,8,8,8,8,8,8,8,8,8,8,8,8,8,8,8,8,8,8,8,8,8,8,8,8,8,8,8,8,8,8,8,8,8,8,8,8,8,8,8,8,8,8,8,8,8,8,8,8,8,8,8,8,8,8,8,8,8,8,8,8,8,8,8,8,8,8,8,8,8,8,8,8,8,8,8,8,8,8,8,8,8,8,8,8,8,8,8,8,8,8,8,8,8,8,8,8,8,8,8,8,8,8,8,8,8,8,8,8,8,8,8,8,8,8,8,8,8,8,8,8,8,8,8,8,8,8,8,8,8,8,8,8,8,8,8,8,0,0,0,0,0,0,0,0,0,0,0,0,0,0,0,0,0,0,0,0,0,0,0,0,0,0,0,0,0,0,0,0,0,0,0,0,0,0,0,0,0,0,0,0,0,0,0,0,0,0,0,0,0,0,0,0,0,0,0,0,0,0,0,0,0,0,0,0,0,0,0,0,0,0,0,0,0,0,0,0,0,0,0,0,0,0,0,0,0,0,0,0,0,0,0,0,0,0,0,0,0,0,0,0,0,0,0,0,0,0,0,0,0,0,0,0,0,0,0,0,0,0,0,0,0,0,0,0,0,0,0,0,0,0,0,0,0,0,0,0,1,1,1,1,1,1,1,1,1,1,1,1,1,1,1,1,1,1,1,1,1,1,1,1,1,1,1,1,1,1,1,1,1,1,1,1,1,1,1,1,1,1,1,1,1,1,1,1,1,1,1,1,1,1,1,1,1,1,1,1,1,1,1,1,1,1,1,1,1,1,1,1,1,1,1,1,1,1,1,1,1,1,1,1,1,1,1,1,1,1,1,1,1,1,1,1,1,1,1,1,1,1,1,1,1,1,1,1,1,1,1,1,1,1,1,1,1,1,1,1,2,2,2,2,2,2,2,2,2,2,2,2,2,2,2,2,2,2,2,2,2,2,2,2,2,2,2,2,2,2,2,2,2,2,2,2,2,2,2,2,2,2,2,2,2,2,2,2,2,2,2,2,2,2,2,2,2,2,2,2,2,2,2,2,2,2,2,2,2,2,2,2,2,2,2,2,2,2,2,2,2,2,2,2,2,2,2,2,2,2,2,2,2,2,2,2,2,2,2,2,2,2,2,2,2,2,2,2,2,2,2,2,2,2,2,2,2,2,2,2,2,2,2,2,2,2,2,2,2,2,2,2,2,2,2,2,2,2,2,2,12,12,12,12,12,12,12,12,12,12,12,12,12,12,12,12,12,12,12,12,12,12,12,12,12,12,12,12,12,12,12,12,12,12,12,12,12,12,12,12,12,12,12,12,12,12,12,12,12,12,12,12,12,12,12,12,12,12,12,12,12,12,12,12,12,12,12,12,12,12,12,12,12,12,12,12,12,12,12,12,12,12,12,12,12,12,12,12,12,12,12,12,12,12,12,12,12,12,12,12,12,12,12,12,12,12,12,12,12,12,12,12,12,12,12,12,12,12,12,12,12,12,12,12,12,12,12,12,12,12,12,12,12,12,12,12,12,12,12,12,13,13,13,13,13,13,13,13,13,13,13,13,13,13,13,13,13,13,13,13,13,13,13,13,13,13,13,13,13,13,13,13,13,13,13,13,13,13,13,13,13,13,13,13,13,13,13,13,13,13,13,13,13,13,13,13,13,13,13,13,13,13,13,13,13,13,13,13,13,13,13,13,13,13,13,13,13,13,13,13,13,13,13,13,13,13,13,13,13,13,13,13,13,13,13,13,13,13,13,13,13,13,13,13,13,13,13,13,13,13,13,13,13,13,13,13,13,13,13,13,13,13,13,13,13,13,13,13,13,13,13,13,13,13,13,13,13,13,13,13,14,14,14,14,14,14,14,14,14,14,14,14,14,14,14,14,14,14,14,14,14,14,14,14,14,14,14,14,14,14,14,14,14,14,14,14,14,14,14,14,14,14,14,14,14,14,14,14,14,14,14,14,14,14,14,14,14,14,14,14,14,14,14,14,14,14,14,14,14,14,14,14,14,14,14,14,14,14,14,14,14,14,14,14,14,14,14,14,14,14,14,14,14,14,14,14,14,14,14,14,14,14,14,14,14,14,14,14,14,14,14,14,14,14,14,14,14,14,14,14,14,14,14,14,14,14,14,14,14,14,14,14,14,14,14,14,14,14,14,14,21,21,21,21,21,21,21,21,21,21,21,21,21,21,21,21,21,21,21,21,21,21,21,21,21,21,21,21,21,21,21,21,21,21,21,21,21,21,21,21,21,21,21,21,21,21,21,21,21,21,21,21,21,21,21,21,21,21,21,21,21,21,21,21,21,21,21,21,21,21,21,21,21,21,21,21,21,21,21,21,21,21,21,21,21,21,21,21,21,21,21,21,21,21,21,21,21,21,21,21,21,21,21,21,21,21,21,21,21,21,21,21,21,21,21,21,21,21,21,21,21,21,21,21,21,21,21,21,21,21,21,21,21,21,21,3,3,3,3,3,3,3,3,3,3,3,3,3,3,3,3,3,3,3,3,1,1,1,1,1,1,1,1,1,1,1,1,1,1,1,1,1,1,1,1],\"xaxis\":\"x\",\"yaxis\":\"y\",\"type\":\"histogram\"},{\"alignmentgroup\":\"True\",\"boxpoints\":\"all\",\"fillcolor\":\"rgba(255,255,255,0)\",\"hoveron\":\"points\",\"hovertemplate\":\"Game Rank=%{x}<extra></extra>\",\"jitter\":0,\"legendgroup\":\"\",\"line\":{\"color\":\"rgba(255,255,255,0)\"},\"marker\":{\"color\":\"#636efa\",\"symbol\":\"line-ns-open\"},\"name\":\"\",\"offsetgroup\":\"\",\"showlegend\":false,\"x\":[25,25,25,25,25,25,25,25,25,25,25,25,25,25,25,25,25,25,25,25,25,25,25,25,25,25,25,25,25,25,25,25,25,25,25,25,25,25,25,25,25,25,25,25,25,25,25,25,25,25,25,25,25,25,25,25,25,25,25,25,25,25,25,25,25,25,25,25,25,25,25,25,25,25,25,25,25,25,25,25,25,25,25,25,25,25,25,25,25,25,25,25,25,25,25,25,25,25,25,25,25,25,25,25,25,25,25,25,25,25,25,25,25,25,25,25,25,25,25,25,25,25,25,25,25,25,25,25,25,25,25,25,25,25,25,25,25,25,25,25,25,25,25,25,25,25,25,25,25,25,25,25,25,25,25,25,25,25,25,25,25,25,25,25,25,25,25,25,25,25,25,25,25,25,25,25,25,25,25,25,25,25,25,25,25,25,25,25,25,25,25,25,25,25,25,25,25,25,25,25,25,25,25,25,25,25,25,25,25,25,25,25,25,25,25,25,25,25,25,25,25,25,25,25,25,25,25,25,25,25,25,25,25,25,25,25,25,25,25,25,25,25,25,25,25,25,25,25,25,25,25,25,25,25,25,25,25,25,25,25,25,25,25,25,25,25,25,25,25,25,25,25,25,25,25,25,25,25,25,25,25,25,25,25,25,25,25,25,25,25,25,25,25,25,25,25,25,25,25,25,25,25,25,25,25,25,25,25,25,25,25,25,25,25,25,25,25,25,25,25,25,25,25,25,25,25,25,25,25,25,25,25,25,25,25,25,25,25,25,25,25,25,25,25,25,25,25,25,25,25,25,25,25,25,25,25,25,25,25,25,25,25,25,25,25,25,25,25,25,25,25,25,25,25,25,25,25,25,25,25,25,25,25,25,25,25,25,25,25,25,25,25,25,25,25,25,25,25,25,25,25,25,25,25,25,25,25,25,25,25,25,25,25,25,25,25,25,25,25,25,25,25,25,25,25,25,25,25,25,25,25,25,25,25,25,25,25,25,25,25,25,25,25,25,25,25,25,25,25,25,25,25,25,25,25,25,25,25,25,25,25,25,25,25,25,25,25,25,25,25,25,25,25,25,25,25,25,25,25,25,25,25,25,25,25,25,25,25,25,25,25,25,25,25,25,25,25,25,25,25,25,25,25,25,25,25,25,25,25,25,25,25,25,25,25,25,25,25,25,25,25,25,25,25,25,25,25,25,25,25,25,25,25,25,25,25,25,25,25,25,25,25,25,25,25,25,25,25,25,25,25,25,25,25,25,25,25,25,25,25,25,25,25,25,25,25,25,25,25,25,25,25,25,25,25,25,25,25,25,25,25,25,25,25,25,25,25,25,25,25,25,25,25,25,25,25,25,25,25,25,25,25,25,25,25,25,25,25,25,25,25,25,25,25,25,25,25,25,25,25,25,25,25,25,25,25,25,25,25,25,25,25,25,25,25,25,25,25,25,25,25,25,25,25,25,25,25,25,25,25,25,25,25,25,25,25,25,25,25,25,25,25,25,25,25,25,25,25,25,25,25,25,25,25,25,25,25,25,25,25,25,25,25,25,25,25,25,25,25,25,25,25,25,25,25,25,25,25,25,25,25,25,25,25,25,25,25,25,25,25,25,25,25,25,25,25,25,25,25,25,25,25,25,25,25,25,25,25,25,25,25,25,25,25,25,25,25,25,25,25,25,25,25,25,25,25,25,25,25,25,25,25,25,25,25,25,25,25,25,25,25,25,25,25,25,25,25,25,25,25,25,25,25,25,25,25,25,25,25,25,25,25,25,25,25,25,25,25,25,25,25,25,25,25,25,25,25,25,25,25,25,25,25,25,25,25,25,25,25,25,25,25,25,25,25,25,25,25,25,25,25,25,25,25,25,25,25,25,25,25,25,25,25,25,25,25,25,25,25,25,25,25,25,25,25,25,25,25,25,25,25,25,25,25,25,25,25,25,25,25,25,25,25,25,25,25,25,25,25,25,25,25,25,25,25,25,25,25,25,25,25,25,25,25,25,25,25,25,25,25,25,25,25,25,25,25,25,25,25,25,25,25,25,25,25,25,25,25,25,25,25,25,25,25,25,25,25,25,25,25,25,25,25,25,25,25,25,25,25,25,25,25,25,25,25,25,25,25,25,25,25,25,25,25,25,25,25,25,25,25,25,25,25,25,25,25,25,25,25,25,25,25,25,25,25,25,25,25,25,25,25,25,25,25,25,25,25,25,25,25,25,25,25,25,25,25,25,25,25,25,25,25,25,25,25,25,25,25,25,25,25,25,25,25,25,25,25,25,25,25,25,25,25,25,25,25,25,25,25,25,25,25,25,25,25,25,25,25,25,25,25,25,25,25,25,25,25,25,25,25,25,25,25,25,25,25,25,25,25,25,25,25,25,25,25,25,25,25,25,25,25,25,25,25,25,25,25,25,25,25,25,25,25,25,25,25,25,25,25,15,15,15,15,15,15,15,15,15,15,15,15,15,15,15,15,15,15,15,15,15,15,15,15,15,15,15,15,15,15,15,15,15,15,15,15,15,15,15,15,15,15,15,15,15,15,15,15,15,15,15,15,15,15,15,15,15,15,15,15,15,15,15,15,15,15,15,15,15,15,15,15,15,15,15,15,15,15,15,15,15,15,15,15,15,15,15,15,15,15,15,15,15,15,15,15,15,15,15,15,15,15,15,15,15,15,15,15,15,15,15,15,15,15,15,15,15,15,15,15,15,15,15,15,15,15,15,15,15,15,15,15,15,15,15,15,15,15,15,15,16,16,16,16,16,16,16,16,16,16,16,16,16,16,16,16,16,16,16,16,16,16,16,16,16,16,16,16,16,16,16,16,16,16,16,16,16,16,16,16,16,16,16,16,16,16,16,16,16,16,16,16,16,16,16,16,16,16,16,16,16,16,16,16,16,16,16,16,16,16,16,16,16,16,16,16,16,16,16,16,16,16,16,16,16,16,16,16,16,16,16,16,16,16,16,16,16,16,16,16,16,16,16,16,16,16,16,16,16,16,16,16,16,16,16,16,16,16,16,16,16,16,16,16,16,16,16,16,16,16,16,16,16,16,16,16,16,16,16,16,17,17,17,17,17,17,17,17,17,17,17,17,17,17,17,17,17,17,17,17,17,17,17,17,17,17,17,17,17,17,17,17,17,17,17,17,17,17,17,17,17,17,17,17,17,17,17,17,17,17,17,17,17,17,17,17,17,17,17,17,17,17,17,17,17,17,17,17,17,17,17,17,17,17,17,17,17,17,17,17,17,17,17,17,17,17,17,17,17,17,17,17,17,17,17,17,17,17,17,17,17,17,17,17,17,17,17,17,17,17,17,17,17,17,17,17,17,17,17,17,17,17,17,17,17,17,17,17,17,17,17,17,17,17,17,17,17,17,17,17,3,3,3,3,3,3,3,3,3,3,3,3,3,3,3,3,3,3,3,3,3,3,3,3,3,3,3,3,3,3,3,3,3,3,3,3,3,3,3,3,3,3,3,3,3,3,3,3,3,3,3,3,3,3,3,3,3,3,3,3,3,3,3,3,3,3,3,3,3,3,3,3,3,3,3,3,3,3,3,3,3,3,3,3,3,3,3,3,3,3,3,3,3,3,3,3,3,3,3,3,3,3,3,3,3,3,3,3,3,3,3,3,3,3,3,3,3,3,3,3,4,4,4,4,4,4,4,4,4,4,4,4,4,4,4,4,4,4,4,4,4,4,4,4,4,4,4,4,4,4,4,4,4,4,4,4,4,4,4,4,4,4,4,4,4,4,4,4,4,4,4,4,4,4,4,4,4,4,4,4,4,4,4,4,4,4,4,4,4,4,4,4,4,4,4,4,4,4,4,4,4,4,4,4,4,4,4,4,4,4,4,4,4,4,4,4,4,4,4,4,4,4,4,4,4,4,4,4,4,4,4,4,4,4,4,4,4,4,4,4,4,4,4,4,4,4,4,4,4,4,4,4,4,4,4,4,4,4,4,4,5,5,5,5,5,5,5,5,5,5,5,5,5,5,5,5,5,5,5,5,5,5,5,5,5,5,5,5,5,5,5,5,5,5,5,5,5,5,5,5,5,5,5,5,5,5,5,5,5,5,5,5,5,5,5,5,5,5,5,5,5,5,5,5,5,5,5,5,5,5,5,5,5,5,5,5,5,5,5,5,5,5,5,5,5,5,5,5,5,5,5,5,5,5,5,5,5,5,5,5,5,5,5,5,5,5,5,5,5,5,5,5,5,5,5,5,5,5,5,5,5,5,5,5,5,5,5,5,5,5,5,5,5,5,5,5,5,5,5,5,22,22,22,22,22,22,22,22,22,22,22,22,22,22,22,22,22,22,22,22,22,22,22,22,22,22,22,22,22,22,22,22,22,22,22,22,22,22,22,22,22,22,22,22,22,22,22,22,22,22,22,22,22,22,22,22,22,22,22,22,22,22,22,22,22,22,22,22,22,22,22,22,22,22,22,22,22,22,22,22,22,22,22,22,22,22,22,22,22,22,22,22,22,22,22,22,22,22,22,22,22,22,22,22,22,22,22,22,22,22,22,22,22,22,22,22,22,22,22,22,22,22,22,22,22,22,22,22,22,22,22,22,22,22,22,22,22,22,22,22,23,23,23,23,23,23,23,23,23,23,23,23,23,23,23,23,23,23,23,23,23,23,23,23,23,23,23,23,23,23,23,23,23,23,23,23,23,23,23,23,23,23,23,23,23,23,23,23,23,23,23,23,23,23,23,23,23,23,23,23,23,23,23,23,23,23,23,23,23,23,23,23,23,23,23,23,23,23,23,23,23,23,23,23,23,23,23,23,23,23,23,23,23,23,23,23,23,23,23,23,23,23,23,23,23,23,23,23,23,23,23,23,23,23,23,23,23,23,23,23,23,23,23,23,23,23,23,23,23,23,23,23,23,23,23,23,23,23,23,23,24,24,24,24,24,24,24,24,24,24,24,24,24,24,24,24,24,24,24,24,24,24,24,24,24,24,24,24,24,24,24,24,24,24,24,24,24,24,24,24,24,24,24,24,24,24,24,24,24,24,24,24,24,24,24,24,24,24,24,24,24,24,24,24,24,24,24,24,24,24,24,24,24,24,24,24,24,24,24,24,24,24,24,24,24,24,24,24,24,24,24,24,24,24,24,24,24,24,24,24,24,24,24,24,24,24,24,24,24,24,24,24,24,24,24,24,24,24,24,24,24,24,24,24,24,24,24,24,24,24,24,24,24,24,24,24,24,24,24,24,9,9,9,9,9,9,9,9,9,9,9,9,9,9,9,9,9,9,9,9,9,9,9,9,9,9,9,9,9,9,9,9,9,9,9,9,9,9,9,9,9,9,9,9,9,9,9,9,9,9,9,9,9,9,9,9,9,9,9,9,9,9,9,9,9,9,9,9,9,9,9,9,9,9,9,9,9,9,9,9,9,9,9,9,9,9,9,9,9,9,9,9,9,9,9,9,9,9,9,9,9,9,9,9,9,9,9,9,9,9,9,9,9,9,9,9,9,9,9,9,9,9,9,9,9,9,9,9,9,9,9,9,9,9,9,9,9,9,9,9,10,10,10,10,10,10,10,10,10,10,10,10,10,10,10,10,10,10,10,10,10,10,10,10,10,10,10,10,10,10,10,10,10,10,10,10,10,10,10,10,10,10,10,10,10,10,10,10,10,10,10,10,10,10,10,10,10,10,10,10,10,10,10,10,10,10,10,10,10,10,10,10,10,10,10,10,10,10,10,10,10,10,10,10,10,10,10,10,10,10,10,10,10,10,10,10,10,10,10,10,10,10,10,10,10,10,10,10,10,10,10,10,10,10,10,10,10,10,10,10,10,10,10,10,10,10,10,10,10,10,10,10,10,10,10,10,10,10,10,10,11,11,11,11,11,11,11,11,11,11,11,11,11,11,11,11,11,11,11,11,11,11,11,11,11,11,11,11,11,11,11,11,11,11,11,11,11,11,11,11,11,11,11,11,11,11,11,11,11,11,11,11,11,11,11,11,11,11,11,11,11,11,11,11,11,11,11,11,11,11,11,11,11,11,11,11,11,11,11,11,11,11,11,11,11,11,11,11,11,11,11,11,11,11,11,11,11,11,11,11,11,11,11,11,11,11,11,11,11,11,11,11,11,11,11,11,11,11,11,11,11,11,11,11,11,11,11,11,11,11,11,11,11,11,11,11,11,11,11,11,18,18,18,18,18,18,18,18,18,18,18,18,18,18,18,18,18,18,18,18,18,18,18,18,18,18,18,18,18,18,18,18,18,18,18,18,18,18,18,18,18,18,18,18,18,18,18,18,18,18,18,18,18,18,18,18,18,18,18,18,18,18,18,18,18,18,18,18,18,18,18,18,18,18,18,18,18,18,18,18,18,18,18,18,18,18,18,18,18,18,18,18,18,18,18,18,18,18,18,18,18,18,18,18,18,18,18,18,18,18,18,18,18,18,18,18,18,18,18,18,18,18,18,18,18,18,18,18,18,18,18,18,18,18,18,18,18,18,18,18,19,19,19,19,19,19,19,19,19,19,19,19,19,19,19,19,19,19,19,19,19,19,19,19,19,19,19,19,19,19,19,19,19,19,19,19,19,19,19,19,19,19,19,19,19,19,19,19,19,19,19,19,19,19,19,19,19,19,19,19,19,19,19,19,19,19,19,19,19,19,19,19,19,19,19,19,19,19,19,19,19,19,19,19,19,19,19,19,19,19,19,19,19,19,19,19,19,19,19,19,19,19,19,19,19,19,19,19,19,19,19,19,19,19,19,19,19,19,19,19,19,19,19,19,19,19,19,19,19,19,19,19,19,19,19,19,19,19,19,19,20,20,20,20,20,20,20,20,20,20,20,20,20,20,20,20,20,20,20,20,20,20,20,20,20,20,20,20,20,20,20,20,20,20,20,20,20,20,20,20,20,20,20,20,20,20,20,20,20,20,20,20,20,20,20,20,20,20,20,20,20,20,20,20,20,20,20,20,20,20,20,20,20,20,20,20,20,20,20,20,20,20,20,20,20,20,20,20,20,20,20,20,20,20,20,20,20,20,20,20,20,20,20,20,20,20,20,20,20,20,20,20,20,20,20,20,20,20,20,20,20,20,20,20,20,20,20,20,20,20,20,20,20,20,20,20,20,20,20,20,6,6,6,6,6,6,6,6,6,6,6,6,6,6,6,6,6,6,6,6,6,6,6,6,6,6,6,6,6,6,6,6,6,6,6,6,6,6,6,6,6,6,6,6,6,6,6,6,6,6,6,6,6,6,6,6,6,6,6,6,6,6,6,6,6,6,6,6,6,6,6,6,6,6,6,6,6,6,6,6,6,6,6,6,6,6,6,6,6,6,6,6,6,6,6,6,6,6,6,6,6,6,6,6,6,6,6,6,6,6,6,6,6,6,6,6,6,6,6,6,6,6,6,6,6,6,6,6,6,6,6,6,6,6,6,6,6,6,6,6,7,7,7,7,7,7,7,7,7,7,7,7,7,7,7,7,7,7,7,7,7,7,7,7,7,7,7,7,7,7,7,7,7,7,7,7,7,7,7,7,7,7,7,7,7,7,7,7,7,7,7,7,7,7,7,7,7,7,7,7,7,7,7,7,7,7,7,7,7,7,7,7,7,7,7,7,7,7,7,7,7,7,7,7,7,7,7,7,7,7,7,7,7,7,7,7,7,7,7,7,7,7,7,7,7,7,7,7,7,7,7,7,7,7,7,7,7,7,7,7,7,7,7,7,7,7,7,7,7,7,7,7,7,7,7,7,7,7,7,7,8,8,8,8,8,8,8,8,8,8,8,8,8,8,8,8,8,8,8,8,8,8,8,8,8,8,8,8,8,8,8,8,8,8,8,8,8,8,8,8,8,8,8,8,8,8,8,8,8,8,8,8,8,8,8,8,8,8,8,8,8,8,8,8,8,8,8,8,8,8,8,8,8,8,8,8,8,8,8,8,8,8,8,8,8,8,8,8,8,8,8,8,8,8,8,8,8,8,8,8,8,8,8,8,8,8,8,8,8,8,8,8,8,8,8,8,8,8,8,8,8,8,8,8,8,8,8,8,8,8,8,8,8,8,8,8,8,8,8,8,0,0,0,0,0,0,0,0,0,0,0,0,0,0,0,0,0,0,0,0,0,0,0,0,0,0,0,0,0,0,0,0,0,0,0,0,0,0,0,0,0,0,0,0,0,0,0,0,0,0,0,0,0,0,0,0,0,0,0,0,0,0,0,0,0,0,0,0,0,0,0,0,0,0,0,0,0,0,0,0,0,0,0,0,0,0,0,0,0,0,0,0,0,0,0,0,0,0,0,0,0,0,0,0,0,0,0,0,0,0,0,0,0,0,0,0,0,0,0,0,0,0,0,0,0,0,0,0,0,0,0,0,0,0,0,0,0,0,0,0,1,1,1,1,1,1,1,1,1,1,1,1,1,1,1,1,1,1,1,1,1,1,1,1,1,1,1,1,1,1,1,1,1,1,1,1,1,1,1,1,1,1,1,1,1,1,1,1,1,1,1,1,1,1,1,1,1,1,1,1,1,1,1,1,1,1,1,1,1,1,1,1,1,1,1,1,1,1,1,1,1,1,1,1,1,1,1,1,1,1,1,1,1,1,1,1,1,1,1,1,1,1,1,1,1,1,1,1,1,1,1,1,1,1,1,1,1,1,1,1,2,2,2,2,2,2,2,2,2,2,2,2,2,2,2,2,2,2,2,2,2,2,2,2,2,2,2,2,2,2,2,2,2,2,2,2,2,2,2,2,2,2,2,2,2,2,2,2,2,2,2,2,2,2,2,2,2,2,2,2,2,2,2,2,2,2,2,2,2,2,2,2,2,2,2,2,2,2,2,2,2,2,2,2,2,2,2,2,2,2,2,2,2,2,2,2,2,2,2,2,2,2,2,2,2,2,2,2,2,2,2,2,2,2,2,2,2,2,2,2,2,2,2,2,2,2,2,2,2,2,2,2,2,2,2,2,2,2,2,2,12,12,12,12,12,12,12,12,12,12,12,12,12,12,12,12,12,12,12,12,12,12,12,12,12,12,12,12,12,12,12,12,12,12,12,12,12,12,12,12,12,12,12,12,12,12,12,12,12,12,12,12,12,12,12,12,12,12,12,12,12,12,12,12,12,12,12,12,12,12,12,12,12,12,12,12,12,12,12,12,12,12,12,12,12,12,12,12,12,12,12,12,12,12,12,12,12,12,12,12,12,12,12,12,12,12,12,12,12,12,12,12,12,12,12,12,12,12,12,12,12,12,12,12,12,12,12,12,12,12,12,12,12,12,12,12,12,12,12,12,13,13,13,13,13,13,13,13,13,13,13,13,13,13,13,13,13,13,13,13,13,13,13,13,13,13,13,13,13,13,13,13,13,13,13,13,13,13,13,13,13,13,13,13,13,13,13,13,13,13,13,13,13,13,13,13,13,13,13,13,13,13,13,13,13,13,13,13,13,13,13,13,13,13,13,13,13,13,13,13,13,13,13,13,13,13,13,13,13,13,13,13,13,13,13,13,13,13,13,13,13,13,13,13,13,13,13,13,13,13,13,13,13,13,13,13,13,13,13,13,13,13,13,13,13,13,13,13,13,13,13,13,13,13,13,13,13,13,13,13,14,14,14,14,14,14,14,14,14,14,14,14,14,14,14,14,14,14,14,14,14,14,14,14,14,14,14,14,14,14,14,14,14,14,14,14,14,14,14,14,14,14,14,14,14,14,14,14,14,14,14,14,14,14,14,14,14,14,14,14,14,14,14,14,14,14,14,14,14,14,14,14,14,14,14,14,14,14,14,14,14,14,14,14,14,14,14,14,14,14,14,14,14,14,14,14,14,14,14,14,14,14,14,14,14,14,14,14,14,14,14,14,14,14,14,14,14,14,14,14,14,14,14,14,14,14,14,14,14,14,14,14,14,14,14,14,14,14,14,14,21,21,21,21,21,21,21,21,21,21,21,21,21,21,21,21,21,21,21,21,21,21,21,21,21,21,21,21,21,21,21,21,21,21,21,21,21,21,21,21,21,21,21,21,21,21,21,21,21,21,21,21,21,21,21,21,21,21,21,21,21,21,21,21,21,21,21,21,21,21,21,21,21,21,21,21,21,21,21,21,21,21,21,21,21,21,21,21,21,21,21,21,21,21,21,21,21,21,21,21,21,21,21,21,21,21,21,21,21,21,21,21,21,21,21,21,21,21,21,21,21,21,21,21,21,21,21,21,21,21,21,21,21,21,21,3,3,3,3,3,3,3,3,3,3,3,3,3,3,3,3,3,3,3,3,1,1,1,1,1,1,1,1,1,1,1,1,1,1,1,1,1,1,1,1],\"xaxis\":\"x2\",\"yaxis\":\"y2\",\"type\":\"box\"}],                        {\"template\":{\"data\":{\"histogram2dcontour\":[{\"type\":\"histogram2dcontour\",\"colorbar\":{\"outlinewidth\":0,\"ticks\":\"\"},\"colorscale\":[[0.0,\"#0d0887\"],[0.1111111111111111,\"#46039f\"],[0.2222222222222222,\"#7201a8\"],[0.3333333333333333,\"#9c179e\"],[0.4444444444444444,\"#bd3786\"],[0.5555555555555556,\"#d8576b\"],[0.6666666666666666,\"#ed7953\"],[0.7777777777777778,\"#fb9f3a\"],[0.8888888888888888,\"#fdca26\"],[1.0,\"#f0f921\"]]}],\"choropleth\":[{\"type\":\"choropleth\",\"colorbar\":{\"outlinewidth\":0,\"ticks\":\"\"}}],\"histogram2d\":[{\"type\":\"histogram2d\",\"colorbar\":{\"outlinewidth\":0,\"ticks\":\"\"},\"colorscale\":[[0.0,\"#0d0887\"],[0.1111111111111111,\"#46039f\"],[0.2222222222222222,\"#7201a8\"],[0.3333333333333333,\"#9c179e\"],[0.4444444444444444,\"#bd3786\"],[0.5555555555555556,\"#d8576b\"],[0.6666666666666666,\"#ed7953\"],[0.7777777777777778,\"#fb9f3a\"],[0.8888888888888888,\"#fdca26\"],[1.0,\"#f0f921\"]]}],\"heatmap\":[{\"type\":\"heatmap\",\"colorbar\":{\"outlinewidth\":0,\"ticks\":\"\"},\"colorscale\":[[0.0,\"#0d0887\"],[0.1111111111111111,\"#46039f\"],[0.2222222222222222,\"#7201a8\"],[0.3333333333333333,\"#9c179e\"],[0.4444444444444444,\"#bd3786\"],[0.5555555555555556,\"#d8576b\"],[0.6666666666666666,\"#ed7953\"],[0.7777777777777778,\"#fb9f3a\"],[0.8888888888888888,\"#fdca26\"],[1.0,\"#f0f921\"]]}],\"heatmapgl\":[{\"type\":\"heatmapgl\",\"colorbar\":{\"outlinewidth\":0,\"ticks\":\"\"},\"colorscale\":[[0.0,\"#0d0887\"],[0.1111111111111111,\"#46039f\"],[0.2222222222222222,\"#7201a8\"],[0.3333333333333333,\"#9c179e\"],[0.4444444444444444,\"#bd3786\"],[0.5555555555555556,\"#d8576b\"],[0.6666666666666666,\"#ed7953\"],[0.7777777777777778,\"#fb9f3a\"],[0.8888888888888888,\"#fdca26\"],[1.0,\"#f0f921\"]]}],\"contourcarpet\":[{\"type\":\"contourcarpet\",\"colorbar\":{\"outlinewidth\":0,\"ticks\":\"\"}}],\"contour\":[{\"type\":\"contour\",\"colorbar\":{\"outlinewidth\":0,\"ticks\":\"\"},\"colorscale\":[[0.0,\"#0d0887\"],[0.1111111111111111,\"#46039f\"],[0.2222222222222222,\"#7201a8\"],[0.3333333333333333,\"#9c179e\"],[0.4444444444444444,\"#bd3786\"],[0.5555555555555556,\"#d8576b\"],[0.6666666666666666,\"#ed7953\"],[0.7777777777777778,\"#fb9f3a\"],[0.8888888888888888,\"#fdca26\"],[1.0,\"#f0f921\"]]}],\"surface\":[{\"type\":\"surface\",\"colorbar\":{\"outlinewidth\":0,\"ticks\":\"\"},\"colorscale\":[[0.0,\"#0d0887\"],[0.1111111111111111,\"#46039f\"],[0.2222222222222222,\"#7201a8\"],[0.3333333333333333,\"#9c179e\"],[0.4444444444444444,\"#bd3786\"],[0.5555555555555556,\"#d8576b\"],[0.6666666666666666,\"#ed7953\"],[0.7777777777777778,\"#fb9f3a\"],[0.8888888888888888,\"#fdca26\"],[1.0,\"#f0f921\"]]}],\"mesh3d\":[{\"type\":\"mesh3d\",\"colorbar\":{\"outlinewidth\":0,\"ticks\":\"\"}}],\"scatter\":[{\"fillpattern\":{\"fillmode\":\"overlay\",\"size\":10,\"solidity\":0.2},\"type\":\"scatter\"}],\"parcoords\":[{\"type\":\"parcoords\",\"line\":{\"colorbar\":{\"outlinewidth\":0,\"ticks\":\"\"}}}],\"scatterpolargl\":[{\"type\":\"scatterpolargl\",\"marker\":{\"colorbar\":{\"outlinewidth\":0,\"ticks\":\"\"}}}],\"bar\":[{\"error_x\":{\"color\":\"#2a3f5f\"},\"error_y\":{\"color\":\"#2a3f5f\"},\"marker\":{\"line\":{\"color\":\"#E5ECF6\",\"width\":0.5},\"pattern\":{\"fillmode\":\"overlay\",\"size\":10,\"solidity\":0.2}},\"type\":\"bar\"}],\"scattergeo\":[{\"type\":\"scattergeo\",\"marker\":{\"colorbar\":{\"outlinewidth\":0,\"ticks\":\"\"}}}],\"scatterpolar\":[{\"type\":\"scatterpolar\",\"marker\":{\"colorbar\":{\"outlinewidth\":0,\"ticks\":\"\"}}}],\"histogram\":[{\"marker\":{\"pattern\":{\"fillmode\":\"overlay\",\"size\":10,\"solidity\":0.2}},\"type\":\"histogram\"}],\"scattergl\":[{\"type\":\"scattergl\",\"marker\":{\"colorbar\":{\"outlinewidth\":0,\"ticks\":\"\"}}}],\"scatter3d\":[{\"type\":\"scatter3d\",\"line\":{\"colorbar\":{\"outlinewidth\":0,\"ticks\":\"\"}},\"marker\":{\"colorbar\":{\"outlinewidth\":0,\"ticks\":\"\"}}}],\"scattermapbox\":[{\"type\":\"scattermapbox\",\"marker\":{\"colorbar\":{\"outlinewidth\":0,\"ticks\":\"\"}}}],\"scatterternary\":[{\"type\":\"scatterternary\",\"marker\":{\"colorbar\":{\"outlinewidth\":0,\"ticks\":\"\"}}}],\"scattercarpet\":[{\"type\":\"scattercarpet\",\"marker\":{\"colorbar\":{\"outlinewidth\":0,\"ticks\":\"\"}}}],\"carpet\":[{\"aaxis\":{\"endlinecolor\":\"#2a3f5f\",\"gridcolor\":\"white\",\"linecolor\":\"white\",\"minorgridcolor\":\"white\",\"startlinecolor\":\"#2a3f5f\"},\"baxis\":{\"endlinecolor\":\"#2a3f5f\",\"gridcolor\":\"white\",\"linecolor\":\"white\",\"minorgridcolor\":\"white\",\"startlinecolor\":\"#2a3f5f\"},\"type\":\"carpet\"}],\"table\":[{\"cells\":{\"fill\":{\"color\":\"#EBF0F8\"},\"line\":{\"color\":\"white\"}},\"header\":{\"fill\":{\"color\":\"#C8D4E3\"},\"line\":{\"color\":\"white\"}},\"type\":\"table\"}],\"barpolar\":[{\"marker\":{\"line\":{\"color\":\"#E5ECF6\",\"width\":0.5},\"pattern\":{\"fillmode\":\"overlay\",\"size\":10,\"solidity\":0.2}},\"type\":\"barpolar\"}],\"pie\":[{\"automargin\":true,\"type\":\"pie\"}]},\"layout\":{\"autotypenumbers\":\"strict\",\"colorway\":[\"#636efa\",\"#EF553B\",\"#00cc96\",\"#ab63fa\",\"#FFA15A\",\"#19d3f3\",\"#FF6692\",\"#B6E880\",\"#FF97FF\",\"#FECB52\"],\"font\":{\"color\":\"#2a3f5f\"},\"hovermode\":\"closest\",\"hoverlabel\":{\"align\":\"left\"},\"paper_bgcolor\":\"white\",\"plot_bgcolor\":\"#E5ECF6\",\"polar\":{\"bgcolor\":\"#E5ECF6\",\"angularaxis\":{\"gridcolor\":\"white\",\"linecolor\":\"white\",\"ticks\":\"\"},\"radialaxis\":{\"gridcolor\":\"white\",\"linecolor\":\"white\",\"ticks\":\"\"}},\"ternary\":{\"bgcolor\":\"#E5ECF6\",\"aaxis\":{\"gridcolor\":\"white\",\"linecolor\":\"white\",\"ticks\":\"\"},\"baxis\":{\"gridcolor\":\"white\",\"linecolor\":\"white\",\"ticks\":\"\"},\"caxis\":{\"gridcolor\":\"white\",\"linecolor\":\"white\",\"ticks\":\"\"}},\"coloraxis\":{\"colorbar\":{\"outlinewidth\":0,\"ticks\":\"\"}},\"colorscale\":{\"sequential\":[[0.0,\"#0d0887\"],[0.1111111111111111,\"#46039f\"],[0.2222222222222222,\"#7201a8\"],[0.3333333333333333,\"#9c179e\"],[0.4444444444444444,\"#bd3786\"],[0.5555555555555556,\"#d8576b\"],[0.6666666666666666,\"#ed7953\"],[0.7777777777777778,\"#fb9f3a\"],[0.8888888888888888,\"#fdca26\"],[1.0,\"#f0f921\"]],\"sequentialminus\":[[0.0,\"#0d0887\"],[0.1111111111111111,\"#46039f\"],[0.2222222222222222,\"#7201a8\"],[0.3333333333333333,\"#9c179e\"],[0.4444444444444444,\"#bd3786\"],[0.5555555555555556,\"#d8576b\"],[0.6666666666666666,\"#ed7953\"],[0.7777777777777778,\"#fb9f3a\"],[0.8888888888888888,\"#fdca26\"],[1.0,\"#f0f921\"]],\"diverging\":[[0,\"#8e0152\"],[0.1,\"#c51b7d\"],[0.2,\"#de77ae\"],[0.3,\"#f1b6da\"],[0.4,\"#fde0ef\"],[0.5,\"#f7f7f7\"],[0.6,\"#e6f5d0\"],[0.7,\"#b8e186\"],[0.8,\"#7fbc41\"],[0.9,\"#4d9221\"],[1,\"#276419\"]]},\"xaxis\":{\"gridcolor\":\"white\",\"linecolor\":\"white\",\"ticks\":\"\",\"title\":{\"standoff\":15},\"zerolinecolor\":\"white\",\"automargin\":true,\"zerolinewidth\":2},\"yaxis\":{\"gridcolor\":\"white\",\"linecolor\":\"white\",\"ticks\":\"\",\"title\":{\"standoff\":15},\"zerolinecolor\":\"white\",\"automargin\":true,\"zerolinewidth\":2},\"scene\":{\"xaxis\":{\"backgroundcolor\":\"#E5ECF6\",\"gridcolor\":\"white\",\"linecolor\":\"white\",\"showbackground\":true,\"ticks\":\"\",\"zerolinecolor\":\"white\",\"gridwidth\":2},\"yaxis\":{\"backgroundcolor\":\"#E5ECF6\",\"gridcolor\":\"white\",\"linecolor\":\"white\",\"showbackground\":true,\"ticks\":\"\",\"zerolinecolor\":\"white\",\"gridwidth\":2},\"zaxis\":{\"backgroundcolor\":\"#E5ECF6\",\"gridcolor\":\"white\",\"linecolor\":\"white\",\"showbackground\":true,\"ticks\":\"\",\"zerolinecolor\":\"white\",\"gridwidth\":2}},\"shapedefaults\":{\"line\":{\"color\":\"#2a3f5f\"}},\"annotationdefaults\":{\"arrowcolor\":\"#2a3f5f\",\"arrowhead\":0,\"arrowwidth\":1},\"geo\":{\"bgcolor\":\"white\",\"landcolor\":\"#E5ECF6\",\"subunitcolor\":\"white\",\"showland\":true,\"showlakes\":true,\"lakecolor\":\"white\"},\"title\":{\"x\":0.05},\"mapbox\":{\"style\":\"light\"}}},\"xaxis\":{\"anchor\":\"y\",\"domain\":[0.0,1.0],\"title\":{\"text\":\"Game Rank\"}},\"yaxis\":{\"anchor\":\"x\",\"domain\":[0.0,0.8316],\"title\":{\"text\":\"count\"}},\"xaxis2\":{\"anchor\":\"y2\",\"domain\":[0.0,1.0],\"matches\":\"x\",\"showticklabels\":false,\"showgrid\":true},\"yaxis2\":{\"anchor\":\"x2\",\"domain\":[0.8416,1.0],\"matches\":\"y2\",\"showticklabels\":false,\"showline\":false,\"ticks\":\"\",\"showgrid\":false},\"legend\":{\"tracegroupgap\":0},\"margin\":{\"t\":60},\"barmode\":\"relative\"},                        {\"responsive\": true}                    ).then(function(){\n",
              "                            \n",
              "var gd = document.getElementById('ff9d9a2c-6343-46f0-8ec9-76fd7c1d7508');\n",
              "var x = new MutationObserver(function (mutations, observer) {{\n",
              "        var display = window.getComputedStyle(gd).display;\n",
              "        if (!display || display === 'none') {{\n",
              "            console.log([gd, 'removed!']);\n",
              "            Plotly.purge(gd);\n",
              "            observer.disconnect();\n",
              "        }}\n",
              "}});\n",
              "\n",
              "// Listen for the removal of the full notebook cells\n",
              "var notebookContainer = gd.closest('#notebook-container');\n",
              "if (notebookContainer) {{\n",
              "    x.observe(notebookContainer, {childList: true});\n",
              "}}\n",
              "\n",
              "// Listen for the clearing of the current output cell\n",
              "var outputEl = gd.closest('.output');\n",
              "if (outputEl) {{\n",
              "    x.observe(outputEl, {childList: true});\n",
              "}}\n",
              "\n",
              "                        })                };                            </script>        </div>\n",
              "</body>\n",
              "</html>"
            ]
          },
          "metadata": {}
        }
      ]
    },
    {
      "cell_type": "markdown",
      "source": [
        "Como dito acima a ideia era escolher uma medida simetrica, porém, especificamente o rank, há um dos resultados que discrepa extremamente dos outros (Unrated), que causa o que é visto no gráfico. Neste caso o Histograma acaba não sendo tão efetivo quanto realmente pode ser. O Histogram, é uma otima ferramentea para visualizar as quantidades da amostra e analisar fenomenos, como o Teorema do Limite Central como já foi mostrado. Porém, por contra, novamente, da natureza simetrica como o dataset foi criado e organizado, o Histograma não se torna efetivo por conta da maioria dos valores estarem na mesma quantidade, dificultando sua analie atráves dele."
      ],
      "metadata": {
        "id": "N-8yS-bvadE6"
      }
    },
    {
      "cell_type": "markdown",
      "source": [
        "##**Scatter Plot**"
      ],
      "metadata": {
        "id": "ZFLVwXKNcKqN"
      }
    },
    {
      "cell_type": "markdown",
      "source": [
        "Aqui será utilizado dos comparátivos entre Game Type e Game Rank para explicar a ideia do Scatter Plot."
      ],
      "metadata": {
        "id": "LbgCgB_KcQNh"
      }
    },
    {
      "cell_type": "code",
      "source": [
        "fig  = px.scatter(valorant, x = 'Name', y = 'Game Rank', log_x = True, width = 800)\n",
        "fig.update_traces(marker = dict(size = 12, line=dict(width = 2)), selector = dict(mode = 'markers'))\n",
        "fig.update_layout(title = 'Agentes X Rank em jogo')\n",
        "fig.update_xaxes(title = 'Agentes')\n",
        "fig.update_yaxes(title = 'Ranks')\n",
        "fig.show()"
      ],
      "metadata": {
        "colab": {
          "base_uri": "https://localhost:8080/",
          "height": 542
        },
        "id": "731WwmQl2Lpp",
        "outputId": "1ebba25b-665a-4aff-d29c-52791c2f1729"
      },
      "execution_count": null,
      "outputs": [
        {
          "output_type": "display_data",
          "data": {
            "text/html": [
              "<html>\n",
              "<head><meta charset=\"utf-8\" /></head>\n",
              "<body>\n",
              "    <div>            <script src=\"https://cdnjs.cloudflare.com/ajax/libs/mathjax/2.7.5/MathJax.js?config=TeX-AMS-MML_SVG\"></script><script type=\"text/javascript\">if (window.MathJax && window.MathJax.Hub && window.MathJax.Hub.Config) {window.MathJax.Hub.Config({SVG: {font: \"STIX-Web\"}});}</script>                <script type=\"text/javascript\">window.PlotlyConfig = {MathJaxConfig: 'local'};</script>\n",
              "        <script src=\"https://cdn.plot.ly/plotly-2.18.2.min.js\"></script>                <div id=\"9a6f824b-bddd-48a9-84b7-131aac8e3a69\" class=\"plotly-graph-div\" style=\"height:525px; width:800px;\"></div>            <script type=\"text/javascript\">                                    window.PLOTLYENV=window.PLOTLYENV || {};                                    if (document.getElementById(\"9a6f824b-bddd-48a9-84b7-131aac8e3a69\")) {                    Plotly.newPlot(                        \"9a6f824b-bddd-48a9-84b7-131aac8e3a69\",                        [{\"hovertemplate\":\"Name=%{x}<br>Game Rank=%{y}<extra></extra>\",\"legendgroup\":\"\",\"marker\":{\"color\":\"#636efa\",\"symbol\":\"circle\",\"line\":{\"width\":2},\"size\":12},\"mode\":\"markers\",\"name\":\"\",\"showlegend\":false,\"x\":[1,3,15,13,9,10,12,14,2,8,15,9,10,13,12,2,7,1,0,17,5,13,7,10,15,19,14,18,6,11,13,14,8,1,10,4,12,19,2,7,5,19,14,13,15,10,1,15,14,1,7,13,10,3,6,11,8,17,0,2,7,3,4,15,14,13,19,10,18,0,15,7,13,4,12,14,1,19,10,9,14,13,15,2,18,1,5,4,16,10,7,12,3,0,11,6,19,17,8,9,14,15,13,5,4,2,0,18,16,10,12,7,3,11,1,19,17,6,8,9,14,13,15,2,1,4,11,16,5,0,12,10,7,18,17,3,19,6,8,9,13,14,0,15,5,1,4,3,18,7,16,12,10,11,2,17,19,8,6,9,18,14,15,13,7,5,16,3,17,10,12,0,11,1,4,2,19,8,6,9,13,15,14,16,4,18,2,5,11,0,12,1,7,10,19,3,17,8,6,9,13,14,15,0,2,16,11,4,17,18,5,12,7,1,3,10,6,8,19,4,16,13,3,0,1,9,2,18,8,15,10,7,6,14,12,11,5,17,19,16,5,14,4,2,13,7,15,0,12,9,3,17,11,18,8,10,19,1,6,16,4,9,0,7,17,14,13,10,3,19,1,8,5,12,15,2,6,18,11,9,0,1,14,4,11,17,7,16,13,10,12,18,5,15,3,2,19,8,6,13,9,5,11,7,6,14,12,16,1,3,0,4,10,19,15,17,18,8,2,9,7,18,14,17,15,13,4,3,6,10,12,19,8,16,11,5,0,1,2,4,13,14,9,0,16,15,5,3,1,7,12,11,8,17,19,2,6,10,18,7,14,18,10,4,15,16,19,17,12,13,6,3,5,8,9,11,1,2,0,7,9,14,13,11,17,15,8,0,10,16,4,5,19,12,3,18,2,1,6,14,2,1,12,13,7,9,16,15,4,10,0,19,18,8,5,3,11,17,6,0,14,4,12,9,13,7,16,15,5,2,17,11,10,3,19,1,6,18,8,2,0,14,12,13,7,10,4,1,15,17,9,5,16,19,3,18,6,11,8,12,13,14,0,6,7,4,9,2,15,10,1,17,3,16,11,19,5,18,8,12,13,14,1,7,9,17,10,15,16,19,0,4,11,8,3,6,2,5,18,6,14,1,7,18,12,15,9,2,13,19,16,17,10,4,11,0,5,3,8,9,14,12,7,13,0,4,10,15,16,11,3,1,6,17,2,18,5,19,8,14,7,12,10,3,13,6,18,19,9,4,15,17,16,0,8,1,11,2,5,9,14,12,2,7,13,5,0,17,11,1,15,16,3,10,19,4,6,8,18,18,5,10,16,3,0,8,6,19,11,13,9,1,14,15,7,4,12,17,2,0,5,16,10,13,9,18,8,6,19,3,14,4,12,15,11,7,1,17,2,0,10,9,18,14,13,8,16,19,5,4,6,11,3,7,15,1,12,17,2,16,0,18,9,10,6,13,5,14,19,4,11,3,1,7,15,8,2,12,17,18,0,3,14,10,5,19,16,6,9,1,4,11,13,8,7,15,12,17,2,10,16,9,6,13,18,14,5,0,11,8,3,19,4,15,1,17,7,2,12,0,10,18,19,16,8,6,14,13,4,5,1,3,15,9,11,12,7,17,2,0,16,3,8,10,1,19,9,6,11,14,5,18,13,7,4,17,15,2,12,5,0,14,10,16,19,9,18,11,1,3,8,6,13,4,7,15,17,12,2,9,14,7,13,10,12,16,3,1,15,18,6,4,19,2,5,8,11,17,0,9,14,10,1,13,12,7,3,18,16,15,11,0,5,2,19,17,4,8,6,14,12,3,13,10,7,9,16,15,1,0,19,4,5,11,2,17,8,18,6,14,7,13,12,10,9,15,1,3,5,19,4,11,16,2,0,17,8,18,6,14,12,7,13,9,10,3,15,17,5,16,0,11,19,1,2,18,4,8,6,14,7,13,9,10,3,12,15,4,19,1,11,18,16,17,5,2,8,6,0,9,14,12,13,10,7,15,16,1,2,0,11,3,4,19,18,5,8,17,6,14,7,10,3,12,13,16,9,15,18,6,2,4,8,1,19,5,0,11,17,14,3,12,9,7,13,10,15,17,2,1,5,19,0,16,18,11,4,8,6,14,2,1,13,7,9,18,0,16,5,3,4,10,15,12,11,6,8,17,19,0,9,14,7,5,18,4,16,2,15,13,12,1,3,17,8,11,6,10,19,0,2,14,7,9,16,13,11,4,15,17,12,1,3,18,5,8,6,19,10,7,14,9,16,13,0,4,1,15,3,2,12,18,11,5,10,8,17,19,6,0,7,14,9,18,17,13,15,16,1,2,11,3,8,5,12,4,19,10,6,9,0,13,16,14,2,7,15,4,11,1,3,5,6,18,8,12,19,17,10,9,14,7,13,17,0,2,11,1,12,15,16,4,3,18,5,8,19,10,6,6,13,16,15,14,5,8,10,18,3,4,12,7,17,2,11,0,19,1,9,6,9,4,8,3,14,15,17,5,18,11,10,16,12,0,2,1,7,13,19,0,11,14,9,7,13,15,18,5,12,3,16,2,4,19,1,6,10,8,17,15,9,7,14,3,12,18,8,11,2,17,4,5,0,19,13,16,1,6,10,0,17,15,13,7,3,18,9,14,8,6,12,4,19,5,11,10,2,1,16,9,5,11,18,14,4,13,15,7,2,16,12,19,3,10,6,0,1,17,8,6,9,4,18,2,8,11,14,12,13,15,17,5,19,7,16,3,10,1,0,1,2,9,3,15,14,16,10,4,5,18,17,13,11,19,12,6,7,0,8,12,9,4,1,18,14,16,13,15,3,0,6,2,5,7,11,17,19,8,10,9,8,5,15,14,4,18,16,11,0,13,2,3,7,1,10,6,12,17,19,16,4,0,15,9,1,14,13,17,18,5,3,11,12,7,2,8,10,19,6,0,4,9,16,15,3,2,13,10,11,14,5,12,17,6,18,1,7,8,19,2,9,15,13,16,11,18,5,10,14,3,4,1,0,12,17,19,7,8,6,9,2,18,0,11,13,15,17,12,4,14,3,7,16,8,5,19,10,6,1,9,7,2,1,14,16,13,15,5,12,17,4,18,3,10,11,8,0,19,6,9,18,15,13,2,0,14,4,5,1,7,16,10,3,17,11,12,19,6,8,16,9,15,1,14,12,2,13,17,11,6,10,4,8,5,18,7,3,0,19,9,13,0,15,4,14,16,7,2,5,12,18,10,1,8,11,17,6,3,19,9,15,5,18,4,12,14,0,8,16,17,3,2,13,7,11,1,19,10,6,9,18,2,4,13,15,14,1,16,0,8,11,12,7,5,10,3,6,19,17,0,9,13,2,17,1,14,15,3,16,12,18,11,8,5,7,4,10,19,6,9,15,1,14,12,5,0,10,2,18,13,16,4,17,7,11,3,8,6,19,9,0,14,15,11,2,13,5,3,12,18,17,16,4,1,7,10,6,8,19,0,2,9,1,13,16,15,12,14,4,18,11,17,5,3,7,8,19,10,6,9,7,15,18,14,13,17,5,1,12,16,11,8,10,4,3,0,2,6,19,9,0,14,17,2,13,7,15,4,12,11,16,1,3,18,5,10,8,19,6,9,2,15,13,17,14,7,0,12,11,18,10,6,4,5,1,8,16,3,19,2,9,12,14,13,15,4,7,10,16,1,3,5,18,8,11,0,17,6,19,9,2,14,0,15,16,7,12,18,13,4,5,17,10,11,1,3,8,6,19,4,9,5,12,14,13,2,15,7,17,0,11,18,10,16,1,8,19,3,6,9,14,13,18,2,15,12,7,0,1,16,17,11,5,10,4,3,6,19,8,9,14,18,7,15,13,17,12,11,16,5,10,3,2,8,0,1,4,6,19,2,13,9,15,14,12,16,1,4,18,5,11,17,7,3,0,8,10,19,6,0,9,17,13,14,2,12,15,18,3,5,7,16,11,4,10,19,1,8,6,9,14,7,2,18,15,13,1,10,5,16,12,4,0,11,6,3,17,19,8,9,0,14,13,15,2,5,12,16,18,10,1,4,7,11,6,19,17,8,3,9,15,2,14,13,0,7,12,1,16,3,10,18,17,5,4,11,8,19,6,9,14,12,0,7,2,15,13,3,16,5,18,1,11,4,17,10,8,6,19,14,7,15,9,5,13,18,11,12,16,17,3,10,0,6,1,2,8,4,19,0,14,13,16,2,9,15,12,7,5,4,11,18,1,10,17,3,6,19,8,2,9,14,13,0,15,17,11,7,12,16,10,4,1,18,5,3,19,6,8,2,9,14,7,13,15,12,5,1,10,18,4,0,8,16,17,3,11,19,6,9,2,13,12,5,0,7,14,15,3,18,10,16,4,1,17,11,19,8,6,12,2,9,13,14,15,7,11,4,1,17,5,10,0,16,18,19,3,8,6,12,14,2,9,15,7,5,13,17,18,16,1,0,11,4,3,10,8,19,6,9,7,14,18,0,15,5,12,17,2,13,11,1,16,10,4,8,3,19,6,9,14,2,13,12,15,5,7,4,16,11,0,18,1,17,10,3,6,8,19,12,9,2,17,15,14,13,7,0,18,10,11,1,4,5,16,3,8,19,6,9,2,12,14,15,13,7,5,10,18,1,3,17,16,4,11,0,8,19,6,12,14,0,9,2,13,5,18,15,16,4,17,7,1,11,10,3,8,19,6,12,9,16,2,15,14,0,13,7,18,4,5,11,1,17,19,3,8,6,10,12,9,2,14,13,5,15,1,10,7,3,18,16,4,11,17,6,19,8,0,9,18,7,14,15,17,13,12,16,5,3,2,11,1,8,4,0,19,10,6,12,0,9,13,2,14,15,16,5,11,4,7,18,17,3,19,1,10,8,6,2,17,13,12,9,14,4,0,15,7,16,5,18,11,3,1,19,10,8,6,2,9,14,13,5,12,15,7,17,1,18,10,16,4,0,11,19,3,6,8,12,9,14,2,5,18,15,0,7,13,4,1,19,16,17,10,11,6,3,8,2,12,14,5,9,13,17,15,7,16,4,11,3,10,1,0,18,8,19,6,9,2,12,14,0,15,5,7,1,18,13,16,17,3,11,10,4,19,6,8,9,14,15,18,7,12,5,16,13,10,3,17,2,4,0,11,1,8,19,6,0,13,9,2,15,1,14,12,16,4,7,5,3,17,11,18,10,8,6,19,2,12,13,14,4,17,0,9,15,5,7,1,11,16,3,18,19,6,8,10,9,2,7,5,14,15,1,13,12,10,18,16,4,17,0,3,11,8,19,6,2,12,9,5,14,0,17,13,4,16,15,7,3,18,1,10,11,6,8,19,9,5,2,0,12,17,14,13,15,16,7,4,11,1,18,8,3,10,19,6,2,0,15,14,13,5,17,12,9,7,4,10,16,1,18,3,11,6,8,19,9,15,7,14,17,18,5,13,3,1,12,2,4,11,8,16,10,0,6,19,15,16,9,12,2,14,18,0,7,13,4,11,5,17,3,1,10,19,8,6,2,0,17,9,14,12,13,15,7,1,5,18,11,16,4,3,8,19,10,6,2,9,14,0,15,12,7,18,13,10,1,16,4,5,11,17,3,8,19,6,12,9,15,0,13,2,5,14,18,17,7,4,16,6,11,10,1,19,3,8,9,12,2,5,14,13,0,15,11,17,7,4,1,10,16,18,3,8,19,6,15,2,14,9,12,13,18,16,17,0,3,7,5,4,1,6,11,10,19,8,9,18,12,14,15,7,17,13,2,3,5,0,16,6,11,1,10,4,8,19,2,15,1,13,16,14,7,12,9,5,11,4,18,0,17,3,10,19,8,6,2,12,17,14,4,13,7,15,5,9,3,11,0,16,19,1,18,10,8,6,2,9,0,14,18,16,12,13,7,1,15,10,5,4,3,17,19,11,8,6,12,17,9,15,14,2,13,5,0,4,18,11,16,7,1,3,10,6,19,8,13,9,2,17,15,14,12,16,7,1,18,0,5,3,4,11,10,6,19,8,0,15,12,3,13,1,2,9,14,18,7,11,5,4,17,6,16,10,19,8,9,18,17,5,15,7,14,11,13,12,16,3,2,19,10,1,4,8,6,0,9,15,2,14,13,5,12,0,19,16,7,4,11,17,3,18,8,1,10,6,15,17,2,12,13,0,14,9,3,7,4,18,16,11,10,19,1,5,8,6,9,2,12,13,15,7,18,14,5,1,4,16,17,0,10,3,19,8,11,6,12,2,15,9,18,14,0,5,1,13,7,4,17,19,3,11,16,10,6,8,2,12,4,13,9,17,14,15,5,11,0,16,10,1,7,3,18,19,6,8,9,12,18,0,3,14,15,13,5,2,17,4,11,1,7,6,16,10,8,19,9,18,15,17,7,14,13,0,5,12,3,16,2,10,8,6,11,1,4,19,9,2,17,18,15,0,16,14,13,12,11,5,7,4,10,3,1,8,19,6,2,0,17,14,9,5,12,13,16,15,11,7,4,3,10,1,18,8,19,6,2,5,9,12,13,17,15,14,16,1,7,3,10,0,4,19,18,11,8,6,2,9,5,15,0,14,12,18,10,17,7,4,13,16,11,3,1,19,8,6,15,9,13,16,18,12,2,5,14,4,7,17,11,1,0,10,19,3,8,6,2,13,5,15,9,1,0,12,3,14,11,16,18,17,7,6,10,4,8,19,15,9,18,17,14,12,5,2,13,7,3,10,16,6,11,8,19,4,1,0,15,9,2,5,14,13,0,1,16,12,11,4,7,18,17,10,6,8,3,19,12,2,17,15,9,16,19,14,5,7,13,0,3,4,11,1,6,18,8,10,2,17,9,18,14,15,13,7,12,0,4,1,10,5,3,16,8,11,19,6,9,17,18,16,15,13,14,2,4,5,12,3,7,0,10,11,8,19,1,6,16,2,0,17,9,12,5,15,7,19,11,10,3,14,4,13,1,8,18,6,12,13,15,0,18,9,1,14,5,2,7,3,17,16,4,11,8,6,10,19,12,15,14,6,7,16,13,9,5,18,2,17,3,10,11,1,8,0,19,4,15,5,2,12,14,13,0,9,1,7,11,3,17,4,19,16,18,8,10,6,2,12,17,13,9,14,5,15,7,1,19,0,4,11,3,16,18,8,6,10,12,2,9,13,14,7,17,15,18,4,5,3,1,16,10,0,11,8,19,6,15,13,12,5,17,0,18,7,2,14,4,9,3,8,16,11,19,1,10,6,2,9,0,12,13,14,17,10,15,4,5,7,16,1,11,19,18,3,6,8,15,9,0,2,1,13,12,14,10,5,3,11,18,7,16,17,4,19,6,8,9,15,14,2,5,18,3,13,1,17,7,10,19,12,4,0,16,11,8,6,2,15,9,14,13,0,16,7,12,10,1,11,17,5,4,8,18,3,19,6,2,15,12,17,0,4,13,9,14,16,7,19,11,5,3,1,8,18,10,6,9,12,15,2,14,7,1,13,4,16,5,18,10,3,17,0,19,11,8,6,12,15,2,14,9,18,17,13,4,5,19,7,11,0,1,16,3,8,10,6,18,2,15,12,17,9,4,19,14,13,0,7,16,3,5,1,11,6,10,8,2,13,15,12,0,17,9,5,3,14,1,7,4,18,16,11,6,10,19,8,18,12,15,2,7,14,17,9,16,10,5,3,0,4,13,1,8,11,19,6,15,2,12,13,16,9,14,11,17,18,1,7,4,0,5,3,8,10,19,6,12,2,9,15,17,13,18,4,14,0,1,5,11,7,3,16,10,19,8,6,12,9,14,2,5,1,13,15,18,3,0,16,19,7,4,11,8,10,17,6,2,0,9,12,13,15,14,5,16,1,17,3,7,4,18,6,11,19,10,8,2,9,15,17,14,12,4,16,0,13,7,5,1,11,10,3,18,19,8,6,2,15,9,5,13,3,11,7,14,0,12,16,17,4,1,10,18,8,19,6,9,18,3,14,5,15,17,7,13,16,11,2,12,1,8,19,6,10,4,0,9,15,13,12,14,2,16,11,17,5,18,1,0,4,10,7,3,8,19,6,2,17,15,14,0,4,11,1,12,7,9,13,5,19,16,18,3,6,8,10,9,0,10,17,15,12,2,14,5,13,7,4,1,3,18,16,19,6,8,11,2,0,17,16,4,14,15,13,10,9,12,5,18,3,7,6,8,1,11,19,13,9,2,12,15,16,19,3,17,1,10,11,14,7,5,4,0,18,8,6,2,12,13,9,14,18,17,1,11,15,0,5,16,3,4,6,7,19,10,8,15,12,16,9,18,14,7,17,0,5,19,10,13,2,11,4,3,6,1,8,2,18,15,9,16,14,19,13,4,7,11,12,5,0,8,17,3,6,1,10,15,2,16,14,1,17,9,7,0,5,13,11,19,4,12,18,3,10,8,6,12,15,13,5,2,14,16,9,7,10,4,1,19,3,18,11,0,17,8,6,6,0,2,17,1,18,12,7,11,15,16,9,14,13,3,4,5,10,8,19,12,2,9,15,13,1,5,16,7,10,3,0,17,14,4,11,8,18,19,6,0,5,15,1,14,4,9,7,13,17,18,12,10,16,11,3,19,2,6,8,2,15,12,7,14,0,16,13,9,4,5,1,3,11,10,17,18,8,19,6,2,19,1,13,12,18,14,4,7,17,15,9,16,5,11,6,8,0,3,10,19,15,2,14,9,13,7,1,17,5,12,18,4,10,3,0,11,16,8,6,15,9,2,12,19,0,14,5,10,16,7,18,4,3,17,13,11,8,1,6,12,16,15,9,14,17,13,1,5,11,0,2,7,10,3,4,19,8,6,18,2,6,16,17,1,13,7,15,14,9,3,8,12,11,4,10,0,5,18,19,2,9,17,15,13,18,14,12,7,11,6,4,5,19,3,1,10,8,16,0,10,2,3,16,17,4,9,15,13,0,14,12,5,11,7,18,1,19,8,6,6,1,2,13,16,17,14,10,4,7,9,12,5,11,18,15,0,8,3,19,15,9,2,16,3,14,5,1,13,4,18,7,19,0,10,8,12,11,6,17,0,2,18,12,13,14,9,7,15,5,19,17,4,10,16,11,1,3,8,6,12,15,2,3,9,16,11,14,13,5,1,4,7,0,17,6,19,8,10,18,9,18,2,5,15,8,13,0,14,10,4,7,11,1,3,16,17,12,19,6,10,9,16,6,18,15,5,3,17,1,14,7,13,4,2,12,19,11,8,0,2,19,10,13,15,9,4,7,14,16,1,11,0,17,5,8,12,3,6,18,10,2,15,13,16,19,1,6,4,11,17,5,9,14,7,3,0,18,12,8,17,9,5,15,12,10,14,19,2,7,13,4,1,11,8,6,18,16,0,3,9,17,15,2,13,12,10,0,4,5,16,19,18,1,14,6,7,8,11,3,6,18,19,13,2,14,10,9,15,8,12,3,5,7,11,16,4,17,0,1,12,2,16,15,9,11,13,7,8,18,5,1,3,6,14,4,0,19,17,10,11,14,15,18,13,9,7,17,5,2,16,19,6,3,8,12,10,4,0,1,17,3,2,19,0,5,18,12,15,4,13,14,9,1,11,8,7,16,10,6,1,2,15,13,12,5,14,17,3,4,0,7,8,19,9,11,16,6,10,18,12,15,9,14,10,7,2,1,3,19,4,13,11,5,16,18,8,0,6,17,1,15,19,13,7,3,12,4,5,2,14,17,0,11,6,18,9,8,16,10,18,10,2,14,9,0,8,4,13,17,19,7,12,1,5,15,11,16,3,6,18,0,15,16,10,2,14,11,9,13,4,1,12,17,5,7,3,6,8,19,3,12,2,11,19,17,15,7,13,14,18,9,6,16,4,10,8,5,0,1,2,16,12,14,5,13,15,3,11,0,7,8,9,1,4,18,17,6,19,10,10,12,19,2,13,0,4,9,14,7,17,5,15,16,11,8,3,1,18,6,16,3,15,13,2,4,17,1,14,7,11,9,10,5,12,6,8,0,18,19,19,16,2,3,15,4,10,17,13,9,6,12,7,18,5,0,8,14,11,1,3,2,19,7,5,14,15,0,13,9,8,4,17,11,18,1,16,12,6,10,18,12,15,8,13,9,4,11,19,10,2,5,17,14,7,16,1,3,6,0,19,13,14,9,12,7,17,18,3,15,8,6,16,4,10,11,19,3,2,12,9,14,11,16,5,15,4,18,6,13,1,7,0,8,17,10,2,15,3,4,0,5,7,17,1,12,14,6,11,19,9,8,10,13,16,9,2,1,13,14,15,7,4,8,12,10,17,0,11,5,16,18,19,3,6,9,13,5,14,18,2,15,12,6,4,17,7,3,16,0,19,8,11,10,1],\"xaxis\":\"x\",\"y\":[25,25,25,25,25,25,25,25,25,25,25,25,25,25,25,25,25,25,25,25,25,25,25,25,25,25,25,25,25,25,25,25,25,25,25,25,25,25,25,25,25,25,25,25,25,25,25,25,25,25,25,25,25,25,25,25,25,25,25,25,25,25,25,25,25,25,25,25,25,25,25,25,25,25,25,25,25,25,25,25,25,25,25,25,25,25,25,25,25,25,25,25,25,25,25,25,25,25,25,25,25,25,25,25,25,25,25,25,25,25,25,25,25,25,25,25,25,25,25,25,25,25,25,25,25,25,25,25,25,25,25,25,25,25,25,25,25,25,25,25,25,25,25,25,25,25,25,25,25,25,25,25,25,25,25,25,25,25,25,25,25,25,25,25,25,25,25,25,25,25,25,25,25,25,25,25,25,25,25,25,25,25,25,25,25,25,25,25,25,25,25,25,25,25,25,25,25,25,25,25,25,25,25,25,25,25,25,25,25,25,25,25,25,25,25,25,25,25,25,25,25,25,25,25,25,25,25,25,25,25,25,25,25,25,25,25,25,25,25,25,25,25,25,25,25,25,25,25,25,25,25,25,25,25,25,25,25,25,25,25,25,25,25,25,25,25,25,25,25,25,25,25,25,25,25,25,25,25,25,25,25,25,25,25,25,25,25,25,25,25,25,25,25,25,25,25,25,25,25,25,25,25,25,25,25,25,25,25,25,25,25,25,25,25,25,25,25,25,25,25,25,25,25,25,25,25,25,25,25,25,25,25,25,25,25,25,25,25,25,25,25,25,25,25,25,25,25,25,25,25,25,25,25,25,25,25,25,25,25,25,25,25,25,25,25,25,25,25,25,25,25,25,25,25,25,25,25,25,25,25,25,25,25,25,25,25,25,25,25,25,25,25,25,25,25,25,25,25,25,25,25,25,25,25,25,25,25,25,25,25,25,25,25,25,25,25,25,25,25,25,25,25,25,25,25,25,25,25,25,25,25,25,25,25,25,25,25,25,25,25,25,25,25,25,25,25,25,25,25,25,25,25,25,25,25,25,25,25,25,25,25,25,25,25,25,25,25,25,25,25,25,25,25,25,25,25,25,25,25,25,25,25,25,25,25,25,25,25,25,25,25,25,25,25,25,25,25,25,25,25,25,25,25,25,25,25,25,25,25,25,25,25,25,25,25,25,25,25,25,25,25,25,25,25,25,25,25,25,25,25,25,25,25,25,25,25,25,25,25,25,25,25,25,25,25,25,25,25,25,25,25,25,25,25,25,25,25,25,25,25,25,25,25,25,25,25,25,25,25,25,25,25,25,25,25,25,25,25,25,25,25,25,25,25,25,25,25,25,25,25,25,25,25,25,25,25,25,25,25,25,25,25,25,25,25,25,25,25,25,25,25,25,25,25,25,25,25,25,25,25,25,25,25,25,25,25,25,25,25,25,25,25,25,25,25,25,25,25,25,25,25,25,25,25,25,25,25,25,25,25,25,25,25,25,25,25,25,25,25,25,25,25,25,25,25,25,25,25,25,25,25,25,25,25,25,25,25,25,25,25,25,25,25,25,25,25,25,25,25,25,25,25,25,25,25,25,25,25,25,25,25,25,25,25,25,25,25,25,25,25,25,25,25,25,25,25,25,25,25,25,25,25,25,25,25,25,25,25,25,25,25,25,25,25,25,25,25,25,25,25,25,25,25,25,25,25,25,25,25,25,25,25,25,25,25,25,25,25,25,25,25,25,25,25,25,25,25,25,25,25,25,25,25,25,25,25,25,25,25,25,25,25,25,25,25,25,25,25,25,25,25,25,25,25,25,25,25,25,25,25,25,25,25,25,25,25,25,25,25,25,25,25,25,25,25,25,25,25,25,25,25,25,25,25,25,25,25,25,25,25,25,25,25,25,25,25,25,25,25,25,25,25,25,25,25,25,25,25,25,25,25,25,25,25,25,25,25,25,25,25,25,25,25,25,25,25,25,25,25,25,25,25,25,25,25,25,25,25,25,25,25,25,25,25,25,25,25,25,25,25,25,25,25,25,25,25,25,25,25,25,25,25,25,25,25,25,25,25,25,25,25,25,25,25,25,25,25,25,25,25,25,25,25,25,25,25,25,25,25,25,25,25,25,25,25,25,25,25,25,25,25,25,25,25,25,25,25,25,25,25,25,25,25,25,25,25,25,25,25,25,25,25,25,25,25,25,25,25,25,25,25,25,25,25,25,25,25,25,25,25,25,25,25,25,25,25,25,25,25,25,25,25,25,25,25,25,25,25,25,25,25,25,25,25,25,25,25,25,25,25,25,25,25,25,25,25,25,25,25,25,25,25,25,25,25,25,25,25,25,25,25,25,25,25,25,25,25,25,25,25,25,25,25,25,25,25,25,25,25,25,25,25,25,25,25,25,25,25,25,25,25,25,25,25,25,25,25,25,25,25,25,25,25,25,25,25,25,25,25,15,15,15,15,15,15,15,15,15,15,15,15,15,15,15,15,15,15,15,15,15,15,15,15,15,15,15,15,15,15,15,15,15,15,15,15,15,15,15,15,15,15,15,15,15,15,15,15,15,15,15,15,15,15,15,15,15,15,15,15,15,15,15,15,15,15,15,15,15,15,15,15,15,15,15,15,15,15,15,15,15,15,15,15,15,15,15,15,15,15,15,15,15,15,15,15,15,15,15,15,15,15,15,15,15,15,15,15,15,15,15,15,15,15,15,15,15,15,15,15,15,15,15,15,15,15,15,15,15,15,15,15,15,15,15,15,15,15,15,15,16,16,16,16,16,16,16,16,16,16,16,16,16,16,16,16,16,16,16,16,16,16,16,16,16,16,16,16,16,16,16,16,16,16,16,16,16,16,16,16,16,16,16,16,16,16,16,16,16,16,16,16,16,16,16,16,16,16,16,16,16,16,16,16,16,16,16,16,16,16,16,16,16,16,16,16,16,16,16,16,16,16,16,16,16,16,16,16,16,16,16,16,16,16,16,16,16,16,16,16,16,16,16,16,16,16,16,16,16,16,16,16,16,16,16,16,16,16,16,16,16,16,16,16,16,16,16,16,16,16,16,16,16,16,16,16,16,16,16,16,17,17,17,17,17,17,17,17,17,17,17,17,17,17,17,17,17,17,17,17,17,17,17,17,17,17,17,17,17,17,17,17,17,17,17,17,17,17,17,17,17,17,17,17,17,17,17,17,17,17,17,17,17,17,17,17,17,17,17,17,17,17,17,17,17,17,17,17,17,17,17,17,17,17,17,17,17,17,17,17,17,17,17,17,17,17,17,17,17,17,17,17,17,17,17,17,17,17,17,17,17,17,17,17,17,17,17,17,17,17,17,17,17,17,17,17,17,17,17,17,17,17,17,17,17,17,17,17,17,17,17,17,17,17,17,17,17,17,17,17,3,3,3,3,3,3,3,3,3,3,3,3,3,3,3,3,3,3,3,3,3,3,3,3,3,3,3,3,3,3,3,3,3,3,3,3,3,3,3,3,3,3,3,3,3,3,3,3,3,3,3,3,3,3,3,3,3,3,3,3,3,3,3,3,3,3,3,3,3,3,3,3,3,3,3,3,3,3,3,3,3,3,3,3,3,3,3,3,3,3,3,3,3,3,3,3,3,3,3,3,3,3,3,3,3,3,3,3,3,3,3,3,3,3,3,3,3,3,3,3,4,4,4,4,4,4,4,4,4,4,4,4,4,4,4,4,4,4,4,4,4,4,4,4,4,4,4,4,4,4,4,4,4,4,4,4,4,4,4,4,4,4,4,4,4,4,4,4,4,4,4,4,4,4,4,4,4,4,4,4,4,4,4,4,4,4,4,4,4,4,4,4,4,4,4,4,4,4,4,4,4,4,4,4,4,4,4,4,4,4,4,4,4,4,4,4,4,4,4,4,4,4,4,4,4,4,4,4,4,4,4,4,4,4,4,4,4,4,4,4,4,4,4,4,4,4,4,4,4,4,4,4,4,4,4,4,4,4,4,4,5,5,5,5,5,5,5,5,5,5,5,5,5,5,5,5,5,5,5,5,5,5,5,5,5,5,5,5,5,5,5,5,5,5,5,5,5,5,5,5,5,5,5,5,5,5,5,5,5,5,5,5,5,5,5,5,5,5,5,5,5,5,5,5,5,5,5,5,5,5,5,5,5,5,5,5,5,5,5,5,5,5,5,5,5,5,5,5,5,5,5,5,5,5,5,5,5,5,5,5,5,5,5,5,5,5,5,5,5,5,5,5,5,5,5,5,5,5,5,5,5,5,5,5,5,5,5,5,5,5,5,5,5,5,5,5,5,5,5,5,22,22,22,22,22,22,22,22,22,22,22,22,22,22,22,22,22,22,22,22,22,22,22,22,22,22,22,22,22,22,22,22,22,22,22,22,22,22,22,22,22,22,22,22,22,22,22,22,22,22,22,22,22,22,22,22,22,22,22,22,22,22,22,22,22,22,22,22,22,22,22,22,22,22,22,22,22,22,22,22,22,22,22,22,22,22,22,22,22,22,22,22,22,22,22,22,22,22,22,22,22,22,22,22,22,22,22,22,22,22,22,22,22,22,22,22,22,22,22,22,22,22,22,22,22,22,22,22,22,22,22,22,22,22,22,22,22,22,22,22,23,23,23,23,23,23,23,23,23,23,23,23,23,23,23,23,23,23,23,23,23,23,23,23,23,23,23,23,23,23,23,23,23,23,23,23,23,23,23,23,23,23,23,23,23,23,23,23,23,23,23,23,23,23,23,23,23,23,23,23,23,23,23,23,23,23,23,23,23,23,23,23,23,23,23,23,23,23,23,23,23,23,23,23,23,23,23,23,23,23,23,23,23,23,23,23,23,23,23,23,23,23,23,23,23,23,23,23,23,23,23,23,23,23,23,23,23,23,23,23,23,23,23,23,23,23,23,23,23,23,23,23,23,23,23,23,23,23,23,23,24,24,24,24,24,24,24,24,24,24,24,24,24,24,24,24,24,24,24,24,24,24,24,24,24,24,24,24,24,24,24,24,24,24,24,24,24,24,24,24,24,24,24,24,24,24,24,24,24,24,24,24,24,24,24,24,24,24,24,24,24,24,24,24,24,24,24,24,24,24,24,24,24,24,24,24,24,24,24,24,24,24,24,24,24,24,24,24,24,24,24,24,24,24,24,24,24,24,24,24,24,24,24,24,24,24,24,24,24,24,24,24,24,24,24,24,24,24,24,24,24,24,24,24,24,24,24,24,24,24,24,24,24,24,24,24,24,24,24,24,9,9,9,9,9,9,9,9,9,9,9,9,9,9,9,9,9,9,9,9,9,9,9,9,9,9,9,9,9,9,9,9,9,9,9,9,9,9,9,9,9,9,9,9,9,9,9,9,9,9,9,9,9,9,9,9,9,9,9,9,9,9,9,9,9,9,9,9,9,9,9,9,9,9,9,9,9,9,9,9,9,9,9,9,9,9,9,9,9,9,9,9,9,9,9,9,9,9,9,9,9,9,9,9,9,9,9,9,9,9,9,9,9,9,9,9,9,9,9,9,9,9,9,9,9,9,9,9,9,9,9,9,9,9,9,9,9,9,9,9,10,10,10,10,10,10,10,10,10,10,10,10,10,10,10,10,10,10,10,10,10,10,10,10,10,10,10,10,10,10,10,10,10,10,10,10,10,10,10,10,10,10,10,10,10,10,10,10,10,10,10,10,10,10,10,10,10,10,10,10,10,10,10,10,10,10,10,10,10,10,10,10,10,10,10,10,10,10,10,10,10,10,10,10,10,10,10,10,10,10,10,10,10,10,10,10,10,10,10,10,10,10,10,10,10,10,10,10,10,10,10,10,10,10,10,10,10,10,10,10,10,10,10,10,10,10,10,10,10,10,10,10,10,10,10,10,10,10,10,10,11,11,11,11,11,11,11,11,11,11,11,11,11,11,11,11,11,11,11,11,11,11,11,11,11,11,11,11,11,11,11,11,11,11,11,11,11,11,11,11,11,11,11,11,11,11,11,11,11,11,11,11,11,11,11,11,11,11,11,11,11,11,11,11,11,11,11,11,11,11,11,11,11,11,11,11,11,11,11,11,11,11,11,11,11,11,11,11,11,11,11,11,11,11,11,11,11,11,11,11,11,11,11,11,11,11,11,11,11,11,11,11,11,11,11,11,11,11,11,11,11,11,11,11,11,11,11,11,11,11,11,11,11,11,11,11,11,11,11,11,18,18,18,18,18,18,18,18,18,18,18,18,18,18,18,18,18,18,18,18,18,18,18,18,18,18,18,18,18,18,18,18,18,18,18,18,18,18,18,18,18,18,18,18,18,18,18,18,18,18,18,18,18,18,18,18,18,18,18,18,18,18,18,18,18,18,18,18,18,18,18,18,18,18,18,18,18,18,18,18,18,18,18,18,18,18,18,18,18,18,18,18,18,18,18,18,18,18,18,18,18,18,18,18,18,18,18,18,18,18,18,18,18,18,18,18,18,18,18,18,18,18,18,18,18,18,18,18,18,18,18,18,18,18,18,18,18,18,18,18,19,19,19,19,19,19,19,19,19,19,19,19,19,19,19,19,19,19,19,19,19,19,19,19,19,19,19,19,19,19,19,19,19,19,19,19,19,19,19,19,19,19,19,19,19,19,19,19,19,19,19,19,19,19,19,19,19,19,19,19,19,19,19,19,19,19,19,19,19,19,19,19,19,19,19,19,19,19,19,19,19,19,19,19,19,19,19,19,19,19,19,19,19,19,19,19,19,19,19,19,19,19,19,19,19,19,19,19,19,19,19,19,19,19,19,19,19,19,19,19,19,19,19,19,19,19,19,19,19,19,19,19,19,19,19,19,19,19,19,19,20,20,20,20,20,20,20,20,20,20,20,20,20,20,20,20,20,20,20,20,20,20,20,20,20,20,20,20,20,20,20,20,20,20,20,20,20,20,20,20,20,20,20,20,20,20,20,20,20,20,20,20,20,20,20,20,20,20,20,20,20,20,20,20,20,20,20,20,20,20,20,20,20,20,20,20,20,20,20,20,20,20,20,20,20,20,20,20,20,20,20,20,20,20,20,20,20,20,20,20,20,20,20,20,20,20,20,20,20,20,20,20,20,20,20,20,20,20,20,20,20,20,20,20,20,20,20,20,20,20,20,20,20,20,20,20,20,20,20,20,6,6,6,6,6,6,6,6,6,6,6,6,6,6,6,6,6,6,6,6,6,6,6,6,6,6,6,6,6,6,6,6,6,6,6,6,6,6,6,6,6,6,6,6,6,6,6,6,6,6,6,6,6,6,6,6,6,6,6,6,6,6,6,6,6,6,6,6,6,6,6,6,6,6,6,6,6,6,6,6,6,6,6,6,6,6,6,6,6,6,6,6,6,6,6,6,6,6,6,6,6,6,6,6,6,6,6,6,6,6,6,6,6,6,6,6,6,6,6,6,6,6,6,6,6,6,6,6,6,6,6,6,6,6,6,6,6,6,6,6,7,7,7,7,7,7,7,7,7,7,7,7,7,7,7,7,7,7,7,7,7,7,7,7,7,7,7,7,7,7,7,7,7,7,7,7,7,7,7,7,7,7,7,7,7,7,7,7,7,7,7,7,7,7,7,7,7,7,7,7,7,7,7,7,7,7,7,7,7,7,7,7,7,7,7,7,7,7,7,7,7,7,7,7,7,7,7,7,7,7,7,7,7,7,7,7,7,7,7,7,7,7,7,7,7,7,7,7,7,7,7,7,7,7,7,7,7,7,7,7,7,7,7,7,7,7,7,7,7,7,7,7,7,7,7,7,7,7,7,7,8,8,8,8,8,8,8,8,8,8,8,8,8,8,8,8,8,8,8,8,8,8,8,8,8,8,8,8,8,8,8,8,8,8,8,8,8,8,8,8,8,8,8,8,8,8,8,8,8,8,8,8,8,8,8,8,8,8,8,8,8,8,8,8,8,8,8,8,8,8,8,8,8,8,8,8,8,8,8,8,8,8,8,8,8,8,8,8,8,8,8,8,8,8,8,8,8,8,8,8,8,8,8,8,8,8,8,8,8,8,8,8,8,8,8,8,8,8,8,8,8,8,8,8,8,8,8,8,8,8,8,8,8,8,8,8,8,8,8,8,0,0,0,0,0,0,0,0,0,0,0,0,0,0,0,0,0,0,0,0,0,0,0,0,0,0,0,0,0,0,0,0,0,0,0,0,0,0,0,0,0,0,0,0,0,0,0,0,0,0,0,0,0,0,0,0,0,0,0,0,0,0,0,0,0,0,0,0,0,0,0,0,0,0,0,0,0,0,0,0,0,0,0,0,0,0,0,0,0,0,0,0,0,0,0,0,0,0,0,0,0,0,0,0,0,0,0,0,0,0,0,0,0,0,0,0,0,0,0,0,0,0,0,0,0,0,0,0,0,0,0,0,0,0,0,0,0,0,0,0,1,1,1,1,1,1,1,1,1,1,1,1,1,1,1,1,1,1,1,1,1,1,1,1,1,1,1,1,1,1,1,1,1,1,1,1,1,1,1,1,1,1,1,1,1,1,1,1,1,1,1,1,1,1,1,1,1,1,1,1,1,1,1,1,1,1,1,1,1,1,1,1,1,1,1,1,1,1,1,1,1,1,1,1,1,1,1,1,1,1,1,1,1,1,1,1,1,1,1,1,1,1,1,1,1,1,1,1,1,1,1,1,1,1,1,1,1,1,1,1,2,2,2,2,2,2,2,2,2,2,2,2,2,2,2,2,2,2,2,2,2,2,2,2,2,2,2,2,2,2,2,2,2,2,2,2,2,2,2,2,2,2,2,2,2,2,2,2,2,2,2,2,2,2,2,2,2,2,2,2,2,2,2,2,2,2,2,2,2,2,2,2,2,2,2,2,2,2,2,2,2,2,2,2,2,2,2,2,2,2,2,2,2,2,2,2,2,2,2,2,2,2,2,2,2,2,2,2,2,2,2,2,2,2,2,2,2,2,2,2,2,2,2,2,2,2,2,2,2,2,2,2,2,2,2,2,2,2,2,2,12,12,12,12,12,12,12,12,12,12,12,12,12,12,12,12,12,12,12,12,12,12,12,12,12,12,12,12,12,12,12,12,12,12,12,12,12,12,12,12,12,12,12,12,12,12,12,12,12,12,12,12,12,12,12,12,12,12,12,12,12,12,12,12,12,12,12,12,12,12,12,12,12,12,12,12,12,12,12,12,12,12,12,12,12,12,12,12,12,12,12,12,12,12,12,12,12,12,12,12,12,12,12,12,12,12,12,12,12,12,12,12,12,12,12,12,12,12,12,12,12,12,12,12,12,12,12,12,12,12,12,12,12,12,12,12,12,12,12,12,13,13,13,13,13,13,13,13,13,13,13,13,13,13,13,13,13,13,13,13,13,13,13,13,13,13,13,13,13,13,13,13,13,13,13,13,13,13,13,13,13,13,13,13,13,13,13,13,13,13,13,13,13,13,13,13,13,13,13,13,13,13,13,13,13,13,13,13,13,13,13,13,13,13,13,13,13,13,13,13,13,13,13,13,13,13,13,13,13,13,13,13,13,13,13,13,13,13,13,13,13,13,13,13,13,13,13,13,13,13,13,13,13,13,13,13,13,13,13,13,13,13,13,13,13,13,13,13,13,13,13,13,13,13,13,13,13,13,13,13,14,14,14,14,14,14,14,14,14,14,14,14,14,14,14,14,14,14,14,14,14,14,14,14,14,14,14,14,14,14,14,14,14,14,14,14,14,14,14,14,14,14,14,14,14,14,14,14,14,14,14,14,14,14,14,14,14,14,14,14,14,14,14,14,14,14,14,14,14,14,14,14,14,14,14,14,14,14,14,14,14,14,14,14,14,14,14,14,14,14,14,14,14,14,14,14,14,14,14,14,14,14,14,14,14,14,14,14,14,14,14,14,14,14,14,14,14,14,14,14,14,14,14,14,14,14,14,14,14,14,14,14,14,14,14,14,14,14,14,14,21,21,21,21,21,21,21,21,21,21,21,21,21,21,21,21,21,21,21,21,21,21,21,21,21,21,21,21,21,21,21,21,21,21,21,21,21,21,21,21,21,21,21,21,21,21,21,21,21,21,21,21,21,21,21,21,21,21,21,21,21,21,21,21,21,21,21,21,21,21,21,21,21,21,21,21,21,21,21,21,21,21,21,21,21,21,21,21,21,21,21,21,21,21,21,21,21,21,21,21,21,21,21,21,21,21,21,21,21,21,21,21,21,21,21,21,21,21,21,21,21,21,21,21,21,21,21,21,21,21,21,21,21,21,21,3,3,3,3,3,3,3,3,3,3,3,3,3,3,3,3,3,3,3,3,1,1,1,1,1,1,1,1,1,1,1,1,1,1,1,1,1,1,1,1],\"yaxis\":\"y\",\"type\":\"scattergl\"}],                        {\"template\":{\"data\":{\"histogram2dcontour\":[{\"type\":\"histogram2dcontour\",\"colorbar\":{\"outlinewidth\":0,\"ticks\":\"\"},\"colorscale\":[[0.0,\"#0d0887\"],[0.1111111111111111,\"#46039f\"],[0.2222222222222222,\"#7201a8\"],[0.3333333333333333,\"#9c179e\"],[0.4444444444444444,\"#bd3786\"],[0.5555555555555556,\"#d8576b\"],[0.6666666666666666,\"#ed7953\"],[0.7777777777777778,\"#fb9f3a\"],[0.8888888888888888,\"#fdca26\"],[1.0,\"#f0f921\"]]}],\"choropleth\":[{\"type\":\"choropleth\",\"colorbar\":{\"outlinewidth\":0,\"ticks\":\"\"}}],\"histogram2d\":[{\"type\":\"histogram2d\",\"colorbar\":{\"outlinewidth\":0,\"ticks\":\"\"},\"colorscale\":[[0.0,\"#0d0887\"],[0.1111111111111111,\"#46039f\"],[0.2222222222222222,\"#7201a8\"],[0.3333333333333333,\"#9c179e\"],[0.4444444444444444,\"#bd3786\"],[0.5555555555555556,\"#d8576b\"],[0.6666666666666666,\"#ed7953\"],[0.7777777777777778,\"#fb9f3a\"],[0.8888888888888888,\"#fdca26\"],[1.0,\"#f0f921\"]]}],\"heatmap\":[{\"type\":\"heatmap\",\"colorbar\":{\"outlinewidth\":0,\"ticks\":\"\"},\"colorscale\":[[0.0,\"#0d0887\"],[0.1111111111111111,\"#46039f\"],[0.2222222222222222,\"#7201a8\"],[0.3333333333333333,\"#9c179e\"],[0.4444444444444444,\"#bd3786\"],[0.5555555555555556,\"#d8576b\"],[0.6666666666666666,\"#ed7953\"],[0.7777777777777778,\"#fb9f3a\"],[0.8888888888888888,\"#fdca26\"],[1.0,\"#f0f921\"]]}],\"heatmapgl\":[{\"type\":\"heatmapgl\",\"colorbar\":{\"outlinewidth\":0,\"ticks\":\"\"},\"colorscale\":[[0.0,\"#0d0887\"],[0.1111111111111111,\"#46039f\"],[0.2222222222222222,\"#7201a8\"],[0.3333333333333333,\"#9c179e\"],[0.4444444444444444,\"#bd3786\"],[0.5555555555555556,\"#d8576b\"],[0.6666666666666666,\"#ed7953\"],[0.7777777777777778,\"#fb9f3a\"],[0.8888888888888888,\"#fdca26\"],[1.0,\"#f0f921\"]]}],\"contourcarpet\":[{\"type\":\"contourcarpet\",\"colorbar\":{\"outlinewidth\":0,\"ticks\":\"\"}}],\"contour\":[{\"type\":\"contour\",\"colorbar\":{\"outlinewidth\":0,\"ticks\":\"\"},\"colorscale\":[[0.0,\"#0d0887\"],[0.1111111111111111,\"#46039f\"],[0.2222222222222222,\"#7201a8\"],[0.3333333333333333,\"#9c179e\"],[0.4444444444444444,\"#bd3786\"],[0.5555555555555556,\"#d8576b\"],[0.6666666666666666,\"#ed7953\"],[0.7777777777777778,\"#fb9f3a\"],[0.8888888888888888,\"#fdca26\"],[1.0,\"#f0f921\"]]}],\"surface\":[{\"type\":\"surface\",\"colorbar\":{\"outlinewidth\":0,\"ticks\":\"\"},\"colorscale\":[[0.0,\"#0d0887\"],[0.1111111111111111,\"#46039f\"],[0.2222222222222222,\"#7201a8\"],[0.3333333333333333,\"#9c179e\"],[0.4444444444444444,\"#bd3786\"],[0.5555555555555556,\"#d8576b\"],[0.6666666666666666,\"#ed7953\"],[0.7777777777777778,\"#fb9f3a\"],[0.8888888888888888,\"#fdca26\"],[1.0,\"#f0f921\"]]}],\"mesh3d\":[{\"type\":\"mesh3d\",\"colorbar\":{\"outlinewidth\":0,\"ticks\":\"\"}}],\"scatter\":[{\"fillpattern\":{\"fillmode\":\"overlay\",\"size\":10,\"solidity\":0.2},\"type\":\"scatter\"}],\"parcoords\":[{\"type\":\"parcoords\",\"line\":{\"colorbar\":{\"outlinewidth\":0,\"ticks\":\"\"}}}],\"scatterpolargl\":[{\"type\":\"scatterpolargl\",\"marker\":{\"colorbar\":{\"outlinewidth\":0,\"ticks\":\"\"}}}],\"bar\":[{\"error_x\":{\"color\":\"#2a3f5f\"},\"error_y\":{\"color\":\"#2a3f5f\"},\"marker\":{\"line\":{\"color\":\"#E5ECF6\",\"width\":0.5},\"pattern\":{\"fillmode\":\"overlay\",\"size\":10,\"solidity\":0.2}},\"type\":\"bar\"}],\"scattergeo\":[{\"type\":\"scattergeo\",\"marker\":{\"colorbar\":{\"outlinewidth\":0,\"ticks\":\"\"}}}],\"scatterpolar\":[{\"type\":\"scatterpolar\",\"marker\":{\"colorbar\":{\"outlinewidth\":0,\"ticks\":\"\"}}}],\"histogram\":[{\"marker\":{\"pattern\":{\"fillmode\":\"overlay\",\"size\":10,\"solidity\":0.2}},\"type\":\"histogram\"}],\"scattergl\":[{\"type\":\"scattergl\",\"marker\":{\"colorbar\":{\"outlinewidth\":0,\"ticks\":\"\"}}}],\"scatter3d\":[{\"type\":\"scatter3d\",\"line\":{\"colorbar\":{\"outlinewidth\":0,\"ticks\":\"\"}},\"marker\":{\"colorbar\":{\"outlinewidth\":0,\"ticks\":\"\"}}}],\"scattermapbox\":[{\"type\":\"scattermapbox\",\"marker\":{\"colorbar\":{\"outlinewidth\":0,\"ticks\":\"\"}}}],\"scatterternary\":[{\"type\":\"scatterternary\",\"marker\":{\"colorbar\":{\"outlinewidth\":0,\"ticks\":\"\"}}}],\"scattercarpet\":[{\"type\":\"scattercarpet\",\"marker\":{\"colorbar\":{\"outlinewidth\":0,\"ticks\":\"\"}}}],\"carpet\":[{\"aaxis\":{\"endlinecolor\":\"#2a3f5f\",\"gridcolor\":\"white\",\"linecolor\":\"white\",\"minorgridcolor\":\"white\",\"startlinecolor\":\"#2a3f5f\"},\"baxis\":{\"endlinecolor\":\"#2a3f5f\",\"gridcolor\":\"white\",\"linecolor\":\"white\",\"minorgridcolor\":\"white\",\"startlinecolor\":\"#2a3f5f\"},\"type\":\"carpet\"}],\"table\":[{\"cells\":{\"fill\":{\"color\":\"#EBF0F8\"},\"line\":{\"color\":\"white\"}},\"header\":{\"fill\":{\"color\":\"#C8D4E3\"},\"line\":{\"color\":\"white\"}},\"type\":\"table\"}],\"barpolar\":[{\"marker\":{\"line\":{\"color\":\"#E5ECF6\",\"width\":0.5},\"pattern\":{\"fillmode\":\"overlay\",\"size\":10,\"solidity\":0.2}},\"type\":\"barpolar\"}],\"pie\":[{\"automargin\":true,\"type\":\"pie\"}]},\"layout\":{\"autotypenumbers\":\"strict\",\"colorway\":[\"#636efa\",\"#EF553B\",\"#00cc96\",\"#ab63fa\",\"#FFA15A\",\"#19d3f3\",\"#FF6692\",\"#B6E880\",\"#FF97FF\",\"#FECB52\"],\"font\":{\"color\":\"#2a3f5f\"},\"hovermode\":\"closest\",\"hoverlabel\":{\"align\":\"left\"},\"paper_bgcolor\":\"white\",\"plot_bgcolor\":\"#E5ECF6\",\"polar\":{\"bgcolor\":\"#E5ECF6\",\"angularaxis\":{\"gridcolor\":\"white\",\"linecolor\":\"white\",\"ticks\":\"\"},\"radialaxis\":{\"gridcolor\":\"white\",\"linecolor\":\"white\",\"ticks\":\"\"}},\"ternary\":{\"bgcolor\":\"#E5ECF6\",\"aaxis\":{\"gridcolor\":\"white\",\"linecolor\":\"white\",\"ticks\":\"\"},\"baxis\":{\"gridcolor\":\"white\",\"linecolor\":\"white\",\"ticks\":\"\"},\"caxis\":{\"gridcolor\":\"white\",\"linecolor\":\"white\",\"ticks\":\"\"}},\"coloraxis\":{\"colorbar\":{\"outlinewidth\":0,\"ticks\":\"\"}},\"colorscale\":{\"sequential\":[[0.0,\"#0d0887\"],[0.1111111111111111,\"#46039f\"],[0.2222222222222222,\"#7201a8\"],[0.3333333333333333,\"#9c179e\"],[0.4444444444444444,\"#bd3786\"],[0.5555555555555556,\"#d8576b\"],[0.6666666666666666,\"#ed7953\"],[0.7777777777777778,\"#fb9f3a\"],[0.8888888888888888,\"#fdca26\"],[1.0,\"#f0f921\"]],\"sequentialminus\":[[0.0,\"#0d0887\"],[0.1111111111111111,\"#46039f\"],[0.2222222222222222,\"#7201a8\"],[0.3333333333333333,\"#9c179e\"],[0.4444444444444444,\"#bd3786\"],[0.5555555555555556,\"#d8576b\"],[0.6666666666666666,\"#ed7953\"],[0.7777777777777778,\"#fb9f3a\"],[0.8888888888888888,\"#fdca26\"],[1.0,\"#f0f921\"]],\"diverging\":[[0,\"#8e0152\"],[0.1,\"#c51b7d\"],[0.2,\"#de77ae\"],[0.3,\"#f1b6da\"],[0.4,\"#fde0ef\"],[0.5,\"#f7f7f7\"],[0.6,\"#e6f5d0\"],[0.7,\"#b8e186\"],[0.8,\"#7fbc41\"],[0.9,\"#4d9221\"],[1,\"#276419\"]]},\"xaxis\":{\"gridcolor\":\"white\",\"linecolor\":\"white\",\"ticks\":\"\",\"title\":{\"standoff\":15},\"zerolinecolor\":\"white\",\"automargin\":true,\"zerolinewidth\":2},\"yaxis\":{\"gridcolor\":\"white\",\"linecolor\":\"white\",\"ticks\":\"\",\"title\":{\"standoff\":15},\"zerolinecolor\":\"white\",\"automargin\":true,\"zerolinewidth\":2},\"scene\":{\"xaxis\":{\"backgroundcolor\":\"#E5ECF6\",\"gridcolor\":\"white\",\"linecolor\":\"white\",\"showbackground\":true,\"ticks\":\"\",\"zerolinecolor\":\"white\",\"gridwidth\":2},\"yaxis\":{\"backgroundcolor\":\"#E5ECF6\",\"gridcolor\":\"white\",\"linecolor\":\"white\",\"showbackground\":true,\"ticks\":\"\",\"zerolinecolor\":\"white\",\"gridwidth\":2},\"zaxis\":{\"backgroundcolor\":\"#E5ECF6\",\"gridcolor\":\"white\",\"linecolor\":\"white\",\"showbackground\":true,\"ticks\":\"\",\"zerolinecolor\":\"white\",\"gridwidth\":2}},\"shapedefaults\":{\"line\":{\"color\":\"#2a3f5f\"}},\"annotationdefaults\":{\"arrowcolor\":\"#2a3f5f\",\"arrowhead\":0,\"arrowwidth\":1},\"geo\":{\"bgcolor\":\"white\",\"landcolor\":\"#E5ECF6\",\"subunitcolor\":\"white\",\"showland\":true,\"showlakes\":true,\"lakecolor\":\"white\"},\"title\":{\"x\":0.05},\"mapbox\":{\"style\":\"light\"}}},\"xaxis\":{\"anchor\":\"y\",\"domain\":[0.0,1.0],\"title\":{\"text\":\"Agentes\"},\"type\":\"log\"},\"yaxis\":{\"anchor\":\"x\",\"domain\":[0.0,1.0],\"title\":{\"text\":\"Ranks\"}},\"legend\":{\"tracegroupgap\":0},\"margin\":{\"t\":60},\"width\":800,\"title\":{\"text\":\"Agentes X Rank em jogo\"}},                        {\"responsive\": true}                    ).then(function(){\n",
              "                            \n",
              "var gd = document.getElementById('9a6f824b-bddd-48a9-84b7-131aac8e3a69');\n",
              "var x = new MutationObserver(function (mutations, observer) {{\n",
              "        var display = window.getComputedStyle(gd).display;\n",
              "        if (!display || display === 'none') {{\n",
              "            console.log([gd, 'removed!']);\n",
              "            Plotly.purge(gd);\n",
              "            observer.disconnect();\n",
              "        }}\n",
              "}});\n",
              "\n",
              "// Listen for the removal of the full notebook cells\n",
              "var notebookContainer = gd.closest('#notebook-container');\n",
              "if (notebookContainer) {{\n",
              "    x.observe(notebookContainer, {childList: true});\n",
              "}}\n",
              "\n",
              "// Listen for the clearing of the current output cell\n",
              "var outputEl = gd.closest('.output');\n",
              "if (outputEl) {{\n",
              "    x.observe(outputEl, {childList: true});\n",
              "}}\n",
              "\n",
              "                        })                };                            </script>        </div>\n",
              "</body>\n",
              "</html>"
            ]
          },
          "metadata": {}
        }
      ]
    },
    {
      "cell_type": "markdown",
      "source": [
        "Como pode se notar, o Scatter Plot não é muito efetivo para o dataset em questão. Isso ocorre devido a organização do dataset, padronizando a saída do gráfico de uma forma ineficiênte em comparação ao padrão do Scatter Plot. Este gráfico é usado para identificar a correlação e covariância entre duas variáveis e normalmente desenhase uma \"linha\" indicando a relação das duas, algo que não é visto aqui."
      ],
      "metadata": {
        "id": "nHCOcrCEqGvP"
      }
    },
    {
      "cell_type": "markdown",
      "source": [
        "##**Heatmap**"
      ],
      "metadata": {
        "id": "kLcNl5beUsXh"
      }
    },
    {
      "cell_type": "markdown",
      "source": [
        "Aqui será mostrado o mapa de calor de todo o dataset, a ideia é mostrar como de fato funciona o Heatmap."
      ],
      "metadata": {
        "id": "jKdYhYQ_Uv3d"
      }
    },
    {
      "cell_type": "code",
      "source": [
        "sns.heatmap(valorant, yticklabels=False)"
      ],
      "metadata": {
        "colab": {
          "base_uri": "https://localhost:8080/",
          "height": 452
        },
        "id": "T07UPlsrUwTF",
        "outputId": "b8f56b62-54bc-4a5f-ded3-d6ba41e65ece"
      },
      "execution_count": null,
      "outputs": [
        {
          "output_type": "execute_result",
          "data": {
            "text/plain": [
              "<Axes: >"
            ]
          },
          "metadata": {},
          "execution_count": 125
        },
        {
          "output_type": "display_data",
          "data": {
            "text/plain": [
              "<Figure size 640x480 with 2 Axes>"
            ],
            "image/png": "[encoded data removed]"
          },
          "metadata": {}
        }
      ]
    },
    {
      "cell_type": "markdown",
      "source": [
        "Como pode-se notar, é possivél visualizar todas as variáveis e, principalmente, como elas se comportam dentro do dataset. É possivél notar também, o que já foi mencionado diversas vezes, a organização simétrica do dataset, principalmente nas colunas Name e Map. Além disso, é possivél notar a discrepancia que há entre os dados da coluna Game Type e Game Rank."
      ],
      "metadata": {
        "id": "4X1wmZBdWkfp"
      }
    },
    {
      "cell_type": "markdown",
      "source": [
        "Um mapa de calor serve para acompanhar o comportamento de certas variáveis, ou, neste caso, de todo um dataset, porém, é mais efetivo e utilizado em análise de uma única variável. A ideia é conseguir observar de uma amplitudade geral como os estados da variável se comporta, mas também é possivel ver qual estado mais se repete, podendo ser utilizado junto ao Boxplot, para se ter uma noção maior do que está acontecendo."
      ],
      "metadata": {
        "id": "JWS_WZ_AXaHU"
      }
    },
    {
      "cell_type": "markdown",
      "source": [
        "##**Intervalo de Confiança**"
      ],
      "metadata": {
        "id": "CMF8fAxWYDdh"
      }
    },
    {
      "cell_type": "markdown",
      "source": [
        "Aqui será escolhido a variável dos agentes, pois é a mais próxima de se ter uma variação, para econtrar um intervalo de confiança entre 90% e 95%."
      ],
      "metadata": {
        "id": "22besMaoYJO_"
      }
    },
    {
      "cell_type": "code",
      "source": [
        "medAgent = mean(valorant[\"Name\"])\n",
        "dpAgent = np.std(valorant[\"Name\"])\n",
        "\n",
        "n = len(valorant[\"Name\"]);\n",
        "\n",
        "min1 = medAgent - 1.6449*(dpAgent/(n) ** (1/2))\n",
        "max1 = medAgent + 1.6449*(dpAgent/(n) ** (1/2))\n",
        "\n",
        "print(\"O intervalo de confiança para 90% é: \" + str(round(min1,2)) + \" <= x <= \" + str(round(max1,2)))"
      ],
      "metadata": {
        "colab": {
          "base_uri": "https://localhost:8080/"
        },
        "id": "suU8JjKSfT4F",
        "outputId": "24bdfb8e-53c7-446a-a3af-1bcb3cfbf9b3"
      },
      "execution_count": null,
      "outputs": [
        {
          "output_type": "stream",
          "name": "stdout",
          "text": [
            "O intervalo de confiança para 90% é: 9.37 <= x <= 9.65\n"
          ]
        }
      ]
    },
    {
      "cell_type": "code",
      "source": [
        "min2 = medAgent - 1.9600*(dpAgent/(n) ** (1/2))\n",
        "max2 = medAgent + 1.9600*(dpAgent/(n) ** (1/2))\n",
        "\n",
        "print(\"O intervalo de confiança para 95% é: \" + str(round(min2,2)) + \" <= x <= \" + str(round(max2,2)))"
      ],
      "metadata": {
        "colab": {
          "base_uri": "https://localhost:8080/"
        },
        "id": "WIAmK7Rxc54D",
        "outputId": "04ea7fae-95ba-413c-ab06-c989a6d42320"
      },
      "execution_count": null,
      "outputs": [
        {
          "output_type": "stream",
          "name": "stdout",
          "text": [
            "O intervalo de confiança para 95% é: 9.34 <= x <= 9.67\n"
          ]
        }
      ]
    }
  ]
}